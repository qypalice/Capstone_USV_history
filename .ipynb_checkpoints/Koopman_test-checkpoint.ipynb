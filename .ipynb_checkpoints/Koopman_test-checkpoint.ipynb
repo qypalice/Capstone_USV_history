{
 "cells": [
  {
   "cell_type": "code",
   "execution_count": 1,
   "id": "e227cb28",
   "metadata": {},
   "outputs": [],
   "source": [
    "import os\n",
    "os.environ[\"KMP_DUPLICATE_LIB_OK\"]=\"TRUE\"\n",
    "from data_loader import produce_dataset, get_dataloaders\n",
    "from train import *\n",
    "from test import *\n",
    "from model_nn import Koopman\n",
    "import numpy as np\n",
    "import torch\n",
    "initial_out = sys.stdout"
   ]
  },
  {
   "cell_type": "markdown",
   "id": "8269913a",
   "metadata": {},
   "source": [
    "## Dataset generation"
   ]
  },
  {
   "cell_type": "code",
   "execution_count": 2,
   "id": "09b7b5eb",
   "metadata": {
    "scrolled": false
   },
   "outputs": [
    {
     "name": "stderr",
     "output_type": "stream",
     "text": [
      " 15%|█▌        | 18/120 [00:00<00:00, 177.80it/s]"
     ]
    },
    {
     "name": "stdout",
     "output_type": "stream",
     "text": [
      "Start simulating...\n"
     ]
    },
    {
     "name": "stderr",
     "output_type": "stream",
     "text": [
      "100%|██████████| 120/120 [00:00<00:00, 238.49it/s]\n",
      "100%|██████████| 40/40 [00:00<00:00, 260.44it/s]\n",
      "100%|██████████| 40/40 [00:00<00:00, 260.39it/s]"
     ]
    },
    {
     "name": "stdout",
     "output_type": "stream",
     "text": [
      "\n",
      "Dataset produced.\n",
      "Dataset saved.\n",
      "./dataset/x-[0.1 0.1 0.1 0.5 0.5 1.5]_u-[0.1 0.1 0.1]_1.0x200_Ts_0.01\n"
     ]
    },
    {
     "name": "stderr",
     "output_type": "stream",
     "text": [
      "\n"
     ]
    }
   ],
   "source": [
    "# create dataset (optional)\n",
    "x_range = np.array([0.1,0.1,0.1,0.5,0.5,1.5])\n",
    "u_range = np.array([0.1,0.1,0.1])\n",
    "SimLength=100\n",
    "Ntraj = 200\n",
    "Ts=0.01\n",
    "path = produce_dataset(x_range,u_range,SimLength,Ntraj,Ts)\n",
    "sys.stdout = initial_out\n",
    "print(path)"
   ]
  },
  {
   "cell_type": "markdown",
   "id": "37cb04c0",
   "metadata": {},
   "source": [
    "## Model training"
   ]
  },
  {
   "cell_type": "markdown",
   "id": "8a506f06",
   "metadata": {},
   "source": [
    "### Preparation"
   ]
  },
  {
   "cell_type": "code",
   "execution_count": 2,
   "id": "325d5dcc",
   "metadata": {},
   "outputs": [],
   "source": [
    "# get dataloaders\n",
    "path = './dataset/x-[0.1 0.1 0.1 0.5 0.5 1.5]_u-[0.1 0.1 0.1]_1.0x200_Ts_0.01'\n",
    "train_loader, val_loader, test_loader = get_dataloaders(path)\n",
    "\n",
    "# trainers parameter setting\n",
    "device = \"cuda:0\" if torch.cuda.is_available() else \"cpu\""
   ]
  },
  {
   "cell_type": "markdown",
   "id": "7b0a3e72",
   "metadata": {},
   "source": [
    "### Initial baseline - from paper"
   ]
  },
  {
   "cell_type": "code",
   "execution_count": 4,
   "id": "1761dc9e",
   "metadata": {},
   "outputs": [
    {
     "name": "stderr",
     "output_type": "stream",
     "text": [
      "\r",
      "  0%|          | 0/120 [00:00<?, ?it/s]"
     ]
    },
    {
     "name": "stdout",
     "output_type": "stream",
     "text": [
      "Trainer created.\n"
     ]
    },
    {
     "name": "stderr",
     "output_type": "stream",
     "text": [
      "Epoch 0: 100%|██████████| 120/120 [00:29<00:00,  4.07it/s, loss=1.598]\n",
      "Epoch 1: 100%|██████████| 120/120 [00:29<00:00,  4.04it/s, loss=1.425]\n",
      "Epoch 2: 100%|██████████| 120/120 [00:29<00:00,  4.06it/s, loss=1.343]\n",
      "Epoch 3: 100%|██████████| 120/120 [00:29<00:00,  4.06it/s, loss=1.302]\n",
      "Epoch 4: 100%|██████████| 120/120 [00:29<00:00,  4.06it/s, loss=1.276]\n",
      "Epoch 5: 100%|██████████| 120/120 [00:29<00:00,  4.06it/s, loss=1.258]\n",
      "Epoch 6: 100%|██████████| 120/120 [00:29<00:00,  4.04it/s, loss=1.248]\n",
      "Epoch 7: 100%|██████████| 120/120 [00:29<00:00,  4.08it/s, loss=1.240]\n",
      "Epoch 8: 100%|██████████| 120/120 [00:29<00:00,  4.09it/s, loss=1.236]\n",
      "Epoch 9: 100%|██████████| 120/120 [00:29<00:00,  4.03it/s, loss=1.232]\n",
      "Epoch 10: 100%|██████████| 120/120 [00:29<00:00,  4.02it/s, loss=1.230]\n",
      "Epoch 11: 100%|██████████| 120/120 [00:29<00:00,  4.04it/s, loss=1.228]\n",
      "Epoch 12: 100%|██████████| 120/120 [00:29<00:00,  4.03it/s, loss=1.226]\n",
      "Epoch 13: 100%|██████████| 120/120 [00:30<00:00,  3.97it/s, loss=1.225]\n",
      "Epoch 14: 100%|██████████| 120/120 [00:29<00:00,  4.01it/s, loss=1.226]\n",
      "Epoch 15: 100%|██████████| 120/120 [00:29<00:00,  4.04it/s, loss=1.223]\n",
      "Epoch 16: 100%|██████████| 120/120 [00:29<00:00,  4.01it/s, loss=1.223]\n",
      "Epoch 17: 100%|██████████| 120/120 [00:30<00:00,  4.00it/s, loss=1.223]\n",
      "Epoch 18: 100%|██████████| 120/120 [00:29<00:00,  4.06it/s, loss=1.223]\n",
      "Epoch 19: 100%|██████████| 120/120 [00:29<00:00,  4.04it/s, loss=1.222]\n",
      "Epoch 20: 100%|██████████| 120/120 [00:29<00:00,  4.04it/s, loss=1.222]\n",
      "Epoch 21: 100%|██████████| 120/120 [00:29<00:00,  4.04it/s, loss=1.222]\n",
      "Epoch 22: 100%|██████████| 120/120 [00:29<00:00,  4.05it/s, loss=1.221]\n",
      "Epoch 23: 100%|██████████| 120/120 [00:29<00:00,  4.03it/s, loss=1.221]\n",
      "Epoch 24: 100%|██████████| 120/120 [00:29<00:00,  4.05it/s, loss=1.221]\n",
      "Epoch 25: 100%|██████████| 120/120 [00:30<00:00,  3.91it/s, loss=1.221]\n",
      "Epoch 26: 100%|██████████| 120/120 [00:31<00:00,  3.79it/s, loss=1.221]\n",
      "Epoch 27: 100%|██████████| 120/120 [00:32<00:00,  3.65it/s, loss=1.221]\n",
      "Epoch 28: 100%|██████████| 120/120 [00:31<00:00,  3.85it/s, loss=1.221]\n",
      "Epoch 29: 100%|██████████| 120/120 [00:30<00:00,  3.94it/s, loss=1.221]\n"
     ]
    },
    {
     "data": {
      "image/png": "[encoded data removed]",
      "text/plain": [
       "<Figure size 432x288 with 1 Axes>"
      ]
     },
     "metadata": {
      "needs_background": "light"
     },
     "output_type": "display_data"
    },
    {
     "name": "stdout",
     "output_type": "stream",
     "text": [
      "Loss score: 1.2533747036475689.\n"
     ]
    }
   ],
   "source": [
    "# create trainer\n",
    "model = Koopman(hidden_layer=2)\n",
    "hyper = [1.0,1.0,0.3,0.000000001,0.000000001,0.000000001,40]\n",
    "loss_function = Loss(hyper[0], hyper[1], hyper[2], hyper[3], hyper[4], hyper[5], hyper[6])\n",
    "\n",
    "# start training\n",
    "file_name = train_the_model(device, model, loss_function, train_loader, val_loader, hyper, hidden_layer = 2, epochs=30)\n",
    "plot_learning_curve(file_name)\n",
    "\n",
    "# get test result\n",
    "test_the_model(test_loader, model, loss_function, file_name)"
   ]
  },
  {
   "cell_type": "markdown",
   "id": "f240e6e7",
   "metadata": {},
   "source": [
    "### Varying length"
   ]
  },
  {
   "cell_type": "code",
   "execution_count": 4,
   "id": "3704579c",
   "metadata": {},
   "outputs": [
    {
     "name": "stderr",
     "output_type": "stream",
     "text": [
      "\r",
      "  0%|          | 0/120 [00:00<?, ?it/s]"
     ]
    },
    {
     "name": "stdout",
     "output_type": "stream",
     "text": [
      "Trainer created.\n"
     ]
    },
    {
     "name": "stderr",
     "output_type": "stream",
     "text": [
      "Epoch 0: 100%|██████████| 120/120 [00:17<00:00,  6.99it/s, loss=1.345]\n",
      "Epoch 1: 100%|██████████| 120/120 [00:16<00:00,  7.11it/s, loss=1.229]\n",
      "Epoch 2: 100%|██████████| 120/120 [00:16<00:00,  7.11it/s, loss=1.222]\n",
      "Epoch 3: 100%|██████████| 120/120 [00:17<00:00,  7.05it/s, loss=1.219]\n",
      "Epoch 4: 100%|██████████| 120/120 [00:16<00:00,  7.19it/s, loss=1.218]\n",
      "Epoch 5: 100%|██████████| 120/120 [00:16<00:00,  7.10it/s, loss=1.218]\n",
      "Epoch 6: 100%|██████████| 120/120 [00:16<00:00,  7.14it/s, loss=1.218]\n",
      "Epoch 7: 100%|██████████| 120/120 [00:16<00:00,  7.18it/s, loss=1.218]\n",
      "Epoch 8: 100%|██████████| 120/120 [00:16<00:00,  7.12it/s, loss=1.218]\n",
      "Epoch 9: 100%|██████████| 120/120 [00:16<00:00,  7.09it/s, loss=1.218]\n",
      "Epoch 10: 100%|██████████| 120/120 [00:17<00:00,  6.94it/s, loss=1.218]\n",
      "Epoch 11: 100%|██████████| 120/120 [00:17<00:00,  6.99it/s, loss=1.218]\n",
      "Epoch 12: 100%|██████████| 120/120 [00:16<00:00,  7.09it/s, loss=1.218]\n",
      "Epoch 13: 100%|██████████| 120/120 [00:16<00:00,  7.08it/s, loss=1.218]\n",
      "Epoch 14: 100%|██████████| 120/120 [00:17<00:00,  7.04it/s, loss=1.218]\n",
      "Epoch 15: 100%|██████████| 120/120 [00:17<00:00,  7.01it/s, loss=1.218]\n",
      "Epoch 16: 100%|██████████| 120/120 [00:17<00:00,  7.02it/s, loss=1.218]\n",
      "Epoch 17: 100%|██████████| 120/120 [00:16<00:00,  7.09it/s, loss=1.218]\n",
      "Epoch 18: 100%|██████████| 120/120 [00:16<00:00,  7.08it/s, loss=1.218]\n",
      "Epoch 19: 100%|██████████| 120/120 [00:16<00:00,  7.10it/s, loss=1.218]\n"
     ]
    },
    {
     "data": {
      "image/png": "[encoded data removed]",
      "text/plain": [
       "<Figure size 432x288 with 1 Axes>"
      ]
     },
     "metadata": {
      "needs_background": "light"
     },
     "output_type": "display_data"
    },
    {
     "name": "stdout",
     "output_type": "stream",
     "text": [
      "Loss score: 1.2493099546059967.\n"
     ]
    }
   ],
   "source": [
    "# create trainer\n",
    "model1 = Koopman(hidden_layer=2)\n",
    "hyper = [1.0,1.0,0.3,0.000000001,0.0000000001,0.000000001,20]\n",
    "loss_function = Loss(hyper[0], hyper[1], hyper[2], hyper[3], hyper[4], hyper[5], hyper[6])\n",
    "\n",
    "# start training\n",
    "file_name = train_the_model(device, model1, loss_function, train_loader, val_loader, hyper, hidden_layer = 2, epochs=20)\n",
    "plot_learning_curve(file_name)\n",
    "\n",
    "# get test result\n",
    "test_the_model(test_loader, model1, loss_function, file_name)"
   ]
  },
  {
   "cell_type": "code",
   "execution_count": 5,
   "id": "3e74aac1",
   "metadata": {},
   "outputs": [
    {
     "name": "stderr",
     "output_type": "stream",
     "text": [
      "\r",
      "  0%|          | 0/120 [00:00<?, ?it/s]"
     ]
    },
    {
     "name": "stdout",
     "output_type": "stream",
     "text": [
      "Trainer created.\n"
     ]
    },
    {
     "name": "stderr",
     "output_type": "stream",
     "text": [
      "Epoch 0: 100%|██████████| 120/120 [00:43<00:00,  2.79it/s, loss=1.280]\n",
      "Epoch 1: 100%|██████████| 120/120 [00:43<00:00,  2.78it/s, loss=1.225]\n",
      "Epoch 2: 100%|██████████| 120/120 [00:43<00:00,  2.78it/s, loss=1.224]\n",
      "Epoch 3: 100%|██████████| 120/120 [00:42<00:00,  2.80it/s, loss=1.224]\n",
      "Epoch 4: 100%|██████████| 120/120 [00:42<00:00,  2.79it/s, loss=1.224]\n",
      "Epoch 5: 100%|██████████| 120/120 [00:42<00:00,  2.80it/s, loss=1.224]\n",
      "Epoch 6: 100%|██████████| 120/120 [00:42<00:00,  2.83it/s, loss=1.224]\n",
      "Epoch 7: 100%|██████████| 120/120 [00:43<00:00,  2.79it/s, loss=1.224]\n",
      "Epoch 8: 100%|██████████| 120/120 [00:42<00:00,  2.82it/s, loss=1.224]\n",
      "Epoch 9: 100%|██████████| 120/120 [00:42<00:00,  2.81it/s, loss=1.224]\n",
      "Epoch 10: 100%|██████████| 120/120 [00:42<00:00,  2.80it/s, loss=1.224]\n",
      "Epoch 11: 100%|██████████| 120/120 [00:43<00:00,  2.77it/s, loss=1.224]\n",
      "Epoch 12: 100%|██████████| 120/120 [00:42<00:00,  2.80it/s, loss=1.224]\n",
      "Epoch 13: 100%|██████████| 120/120 [00:42<00:00,  2.79it/s, loss=1.224]\n",
      "Epoch 14: 100%|██████████| 120/120 [00:43<00:00,  2.78it/s, loss=1.224]\n",
      "Epoch 15: 100%|██████████| 120/120 [00:43<00:00,  2.78it/s, loss=1.224]\n",
      "Epoch 16: 100%|██████████| 120/120 [00:42<00:00,  2.84it/s, loss=1.224]\n",
      "Epoch 17: 100%|██████████| 120/120 [00:42<00:00,  2.82it/s, loss=1.224]\n",
      "Epoch 18: 100%|██████████| 120/120 [00:42<00:00,  2.82it/s, loss=1.224]\n",
      "Epoch 19: 100%|██████████| 120/120 [00:43<00:00,  2.77it/s, loss=1.224]\n"
     ]
    },
    {
     "data": {
      "image/png": "[encoded data removed]",
      "text/plain": [
       "<Figure size 432x288 with 1 Axes>"
      ]
     },
     "metadata": {
      "needs_background": "light"
     },
     "output_type": "display_data"
    },
    {
     "name": "stdout",
     "output_type": "stream",
     "text": [
      "Loss score: 1.2576313875615597.\n"
     ]
    }
   ],
   "source": [
    "# create trainer\n",
    "model2 = Koopman(hidden_layer=2)\n",
    "hyper = [1.0,1.0,0.3,0.000000001,0.0000000001,0.000000001,60]\n",
    "loss_function = Loss(hyper[0], hyper[1], hyper[2], hyper[3], hyper[4], hyper[5], hyper[6])\n",
    "\n",
    "# start training\n",
    "file_name = train_the_model(device, model2, loss_function, train_loader, val_loader, hyper, hidden_layer = 2, epochs=20)\n",
    "plot_learning_curve(file_name)\n",
    "\n",
    "# get test result\n",
    "test_the_model(test_loader, model2, loss_function, file_name)"
   ]
  },
  {
   "cell_type": "markdown",
   "id": "ab16f681",
   "metadata": {},
   "source": [
    "### Varing regularisation"
   ]
  },
  {
   "cell_type": "code",
   "execution_count": 8,
   "id": "9b1eb14f",
   "metadata": {},
   "outputs": [
    {
     "name": "stderr",
     "output_type": "stream",
     "text": [
      "\r",
      "  0%|          | 0/120 [00:00<?, ?it/s]"
     ]
    },
    {
     "name": "stdout",
     "output_type": "stream",
     "text": [
      "Trainer created.\n"
     ]
    },
    {
     "name": "stderr",
     "output_type": "stream",
     "text": [
      "Epoch 0: 100%|██████████| 120/120 [00:39<00:00,  3.04it/s, loss=1.348]\n",
      "Epoch 1: 100%|██████████| 120/120 [00:30<00:00,  3.91it/s, loss=1.229]\n",
      "Epoch 2: 100%|██████████| 120/120 [00:30<00:00,  3.94it/s, loss=1.224]\n",
      "Epoch 3: 100%|██████████| 120/120 [00:30<00:00,  3.91it/s, loss=1.225]\n",
      "Epoch 4: 100%|██████████| 120/120 [00:30<00:00,  3.88it/s, loss=1.222]\n",
      "Epoch 5: 100%|██████████| 120/120 [00:30<00:00,  3.92it/s, loss=1.221]\n",
      "Epoch 6: 100%|██████████| 120/120 [00:30<00:00,  4.00it/s, loss=1.221]\n",
      "Epoch 7: 100%|██████████| 120/120 [00:30<00:00,  3.94it/s, loss=1.221]\n",
      "Epoch 8: 100%|██████████| 120/120 [00:30<00:00,  4.00it/s, loss=1.221]\n",
      "Epoch 9: 100%|██████████| 120/120 [00:30<00:00,  3.97it/s, loss=1.221]\n",
      "Epoch 10: 100%|██████████| 120/120 [00:30<00:00,  3.97it/s, loss=1.221]\n",
      "Epoch 11: 100%|██████████| 120/120 [00:30<00:00,  3.96it/s, loss=1.221]\n",
      "Epoch 12: 100%|██████████| 120/120 [00:30<00:00,  3.98it/s, loss=1.221]\n",
      "Epoch 13: 100%|██████████| 120/120 [00:30<00:00,  3.99it/s, loss=1.221]\n",
      "Epoch 14: 100%|██████████| 120/120 [00:30<00:00,  3.94it/s, loss=1.221]\n",
      "Epoch 15: 100%|██████████| 120/120 [00:30<00:00,  3.94it/s, loss=1.221]\n",
      "Epoch 16: 100%|██████████| 120/120 [00:30<00:00,  3.96it/s, loss=1.221]\n",
      "Epoch 17: 100%|██████████| 120/120 [00:29<00:00,  4.01it/s, loss=1.221]\n",
      "Epoch 18: 100%|██████████| 120/120 [00:30<00:00,  3.98it/s, loss=1.221]\n",
      "Epoch 19: 100%|██████████| 120/120 [00:30<00:00,  3.97it/s, loss=1.221]\n"
     ]
    },
    {
     "data": {
      "image/png": "[encoded data removed]",
      "text/plain": [
       "<Figure size 432x288 with 1 Axes>"
      ]
     },
     "metadata": {
      "needs_background": "light"
     },
     "output_type": "display_data"
    },
    {
     "name": "stdout",
     "output_type": "stream",
     "text": [
      "Loss score: 1.253273893939331.\n"
     ]
    }
   ],
   "source": [
    "# create trainer\n",
    "model3 = Koopman(hidden_layer=2)\n",
    "hyper = [1.0,1.0,0.3,0.0000000001,0.00000000001,0.0000000001,40]\n",
    "loss_function = Loss(hyper[0], hyper[1], hyper[2], hyper[3], hyper[4], hyper[5], hyper[6])\n",
    "\n",
    "# start training\n",
    "file_name = train_the_model(device, model3, loss_function, train_loader, val_loader, hyper, hidden_layer = 2, epochs=20)\n",
    "plot_learning_curve(file_name)\n",
    "\n",
    "# get test result\n",
    "test_the_model(test_loader, model3, loss_function, file_name)"
   ]
  },
  {
   "cell_type": "code",
   "execution_count": 9,
   "id": "70978f6c",
   "metadata": {},
   "outputs": [
    {
     "name": "stderr",
     "output_type": "stream",
     "text": [
      "\r",
      "  0%|          | 0/120 [00:00<?, ?it/s]"
     ]
    },
    {
     "name": "stdout",
     "output_type": "stream",
     "text": [
      "Trainer created.\n"
     ]
    },
    {
     "name": "stderr",
     "output_type": "stream",
     "text": [
      "Epoch 0: 100%|██████████| 120/120 [00:30<00:00,  3.95it/s, loss=1.361]\n",
      "Epoch 1: 100%|██████████| 120/120 [00:30<00:00,  3.98it/s, loss=1.222]\n",
      "Epoch 2: 100%|██████████| 120/120 [00:29<00:00,  4.08it/s, loss=1.221]\n",
      "Epoch 3: 100%|██████████| 120/120 [00:29<00:00,  4.10it/s, loss=1.221]\n",
      "Epoch 4: 100%|██████████| 120/120 [00:29<00:00,  4.10it/s, loss=1.221]\n",
      "Epoch 5: 100%|██████████| 120/120 [00:29<00:00,  4.06it/s, loss=1.221]\n",
      "Epoch 6: 100%|██████████| 120/120 [00:29<00:00,  4.01it/s, loss=1.221]\n",
      "Epoch 7: 100%|██████████| 120/120 [00:29<00:00,  4.06it/s, loss=1.221]\n",
      "Epoch 8: 100%|██████████| 120/120 [00:29<00:00,  4.03it/s, loss=1.221]\n",
      "Epoch 9: 100%|██████████| 120/120 [00:29<00:00,  4.06it/s, loss=1.221]\n",
      "Epoch 10: 100%|██████████| 120/120 [00:29<00:00,  4.09it/s, loss=1.221]\n",
      "Epoch 11: 100%|██████████| 120/120 [00:29<00:00,  4.02it/s, loss=1.221]\n",
      "Epoch 12: 100%|██████████| 120/120 [00:29<00:00,  4.08it/s, loss=1.221]\n",
      "Epoch 13: 100%|██████████| 120/120 [00:29<00:00,  4.10it/s, loss=1.221]\n",
      "Epoch 14: 100%|██████████| 120/120 [00:29<00:00,  4.02it/s, loss=1.221]\n",
      "Epoch 15: 100%|██████████| 120/120 [00:29<00:00,  4.05it/s, loss=1.221]\n",
      "Epoch 16: 100%|██████████| 120/120 [00:29<00:00,  4.06it/s, loss=1.221]\n",
      "Epoch 17: 100%|██████████| 120/120 [00:29<00:00,  4.00it/s, loss=1.221]\n",
      "Epoch 18: 100%|██████████| 120/120 [00:29<00:00,  4.02it/s, loss=1.221]\n",
      "Epoch 19: 100%|██████████| 120/120 [00:29<00:00,  4.03it/s, loss=1.221]\n"
     ]
    },
    {
     "data": {
      "image/png": "[encoded data removed]",
      "text/plain": [
       "<Figure size 432x288 with 1 Axes>"
      ]
     },
     "metadata": {
      "needs_background": "light"
     },
     "output_type": "display_data"
    },
    {
     "name": "stdout",
     "output_type": "stream",
     "text": [
      "Loss score: 1.2532647669315338.\n"
     ]
    }
   ],
   "source": [
    "# create trainer\n",
    "model4 = Koopman(hidden_layer=2)\n",
    "hyper = [1.0,1.0,0.3,0.00000001,0.000000001,0.00000001,40]\n",
    "loss_function = Loss(hyper[0], hyper[1], hyper[2], hyper[3], hyper[4], hyper[5], hyper[6])\n",
    "\n",
    "# start training\n",
    "file_name = train_the_model(device, model4, loss_function, train_loader, val_loader, hyper, hidden_layer = 2, epochs=20)\n",
    "plot_learning_curve(file_name)\n",
    "\n",
    "# get test result\n",
    "test_the_model(test_loader, model4, loss_function, file_name)"
   ]
  },
  {
   "cell_type": "markdown",
   "id": "4bffc145",
   "metadata": {},
   "source": [
    "### Varying different loss"
   ]
  },
  {
   "cell_type": "code",
   "execution_count": 10,
   "id": "f7807701",
   "metadata": {},
   "outputs": [
    {
     "name": "stderr",
     "output_type": "stream",
     "text": [
      "\r",
      "  0%|          | 0/120 [00:00<?, ?it/s]"
     ]
    },
    {
     "name": "stdout",
     "output_type": "stream",
     "text": [
      "Trainer created.\n"
     ]
    },
    {
     "name": "stderr",
     "output_type": "stream",
     "text": [
      "Epoch 0: 100%|██████████| 120/120 [00:29<00:00,  4.12it/s, loss=1.957]\n",
      "Epoch 1: 100%|██████████| 120/120 [00:29<00:00,  4.03it/s, loss=1.879]\n",
      "Epoch 2: 100%|██████████| 120/120 [00:29<00:00,  4.06it/s, loss=1.878]\n",
      "Epoch 3: 100%|██████████| 120/120 [00:29<00:00,  4.09it/s, loss=1.878]\n",
      "Epoch 4: 100%|██████████| 120/120 [00:29<00:00,  4.02it/s, loss=1.878]\n",
      "Epoch 5: 100%|██████████| 120/120 [00:30<00:00,  3.99it/s, loss=1.878]\n",
      "Epoch 6: 100%|██████████| 120/120 [00:29<00:00,  4.10it/s, loss=1.878]\n",
      "Epoch 7: 100%|██████████| 120/120 [00:29<00:00,  4.02it/s, loss=1.878]\n",
      "Epoch 8: 100%|██████████| 120/120 [00:29<00:00,  4.10it/s, loss=1.878]\n",
      "Epoch 9: 100%|██████████| 120/120 [00:29<00:00,  4.04it/s, loss=1.878]\n",
      "Epoch 10: 100%|██████████| 120/120 [00:29<00:00,  4.02it/s, loss=1.878]\n",
      "Epoch 11: 100%|██████████| 120/120 [00:30<00:00,  3.97it/s, loss=1.878]\n",
      "Epoch 12: 100%|██████████| 120/120 [00:29<00:00,  4.03it/s, loss=1.878]\n",
      "Epoch 13: 100%|██████████| 120/120 [00:30<00:00,  4.00it/s, loss=1.878]\n",
      "Epoch 14: 100%|██████████| 120/120 [00:29<00:00,  4.08it/s, loss=1.878]\n",
      "Epoch 15: 100%|██████████| 120/120 [00:29<00:00,  4.05it/s, loss=1.878]\n",
      "Epoch 16: 100%|██████████| 120/120 [00:29<00:00,  4.06it/s, loss=1.878]\n",
      "Epoch 17: 100%|██████████| 120/120 [00:29<00:00,  4.05it/s, loss=1.878]\n",
      "Epoch 18: 100%|██████████| 120/120 [00:29<00:00,  4.02it/s, loss=1.878]\n",
      "Epoch 19: 100%|██████████| 120/120 [00:29<00:00,  4.07it/s, loss=1.878]\n"
     ]
    },
    {
     "data": {
      "image/png": "[encoded data removed]",
      "text/plain": [
       "<Figure size 432x288 with 1 Axes>"
      ]
     },
     "metadata": {
      "needs_background": "light"
     },
     "output_type": "display_data"
    },
    {
     "name": "stdout",
     "output_type": "stream",
     "text": [
      "Loss score: 1.9281162098050117.\n"
     ]
    }
   ],
   "source": [
    "# create trainer\n",
    "model5 = Koopman(hidden_layer=2)\n",
    "hyper = [1.0,1.0,1.0,0.00000001,0.000000001,0.00000001,40]\n",
    "loss_function = Loss(hyper[0], hyper[1], hyper[2], hyper[3], hyper[4], hyper[5], hyper[6])\n",
    "\n",
    "# start training\n",
    "file_name = train_the_model(device, model5, loss_function, train_loader, val_loader, hyper, hidden_layer = 2, epochs=20)\n",
    "plot_learning_curve(file_name)\n",
    "\n",
    "# get test result\n",
    "test_the_model(test_loader, model5, loss_function, file_name)"
   ]
  },
  {
   "cell_type": "code",
   "execution_count": 11,
   "id": "cc50ec15",
   "metadata": {},
   "outputs": [
    {
     "name": "stderr",
     "output_type": "stream",
     "text": [
      "\r",
      "  0%|          | 0/120 [00:00<?, ?it/s]"
     ]
    },
    {
     "name": "stdout",
     "output_type": "stream",
     "text": [
      "Trainer created.\n"
     ]
    },
    {
     "name": "stderr",
     "output_type": "stream",
     "text": [
      "Epoch 0: 100%|██████████| 120/120 [00:30<00:00,  4.00it/s, loss=1.135]\n",
      "Epoch 1: 100%|██████████| 120/120 [00:29<00:00,  4.02it/s, loss=1.042]\n",
      "Epoch 2: 100%|██████████| 120/120 [00:29<00:00,  4.06it/s, loss=1.033]\n",
      "Epoch 3: 100%|██████████| 120/120 [00:29<00:00,  4.09it/s, loss=1.033]\n",
      "Epoch 4: 100%|██████████| 120/120 [00:29<00:00,  4.07it/s, loss=1.033]\n",
      "Epoch 5: 100%|██████████| 120/120 [00:29<00:00,  4.09it/s, loss=1.033]\n",
      "Epoch 6: 100%|██████████| 120/120 [00:30<00:00,  3.96it/s, loss=1.033]\n",
      "Epoch 7: 100%|██████████| 120/120 [00:30<00:00,  3.97it/s, loss=1.033]\n",
      "Epoch 8: 100%|██████████| 120/120 [00:29<00:00,  4.04it/s, loss=1.033]\n",
      "Epoch 9: 100%|██████████| 120/120 [00:30<00:00,  3.97it/s, loss=1.033]\n",
      "Epoch 10: 100%|██████████| 120/120 [00:30<00:00,  3.99it/s, loss=1.033]\n",
      "Epoch 11: 100%|██████████| 120/120 [00:30<00:00,  3.95it/s, loss=1.033]\n",
      "Epoch 12: 100%|██████████| 120/120 [00:30<00:00,  3.93it/s, loss=1.033]\n",
      "Epoch 13: 100%|██████████| 120/120 [00:29<00:00,  4.00it/s, loss=1.033]\n",
      "Epoch 14: 100%|██████████| 120/120 [00:30<00:00,  3.97it/s, loss=1.033]\n",
      "Epoch 15: 100%|██████████| 120/120 [00:30<00:00,  3.95it/s, loss=1.033]\n",
      "Epoch 16: 100%|██████████| 120/120 [00:30<00:00,  3.93it/s, loss=1.033]\n",
      "Epoch 17: 100%|██████████| 120/120 [00:30<00:00,  3.94it/s, loss=1.033]\n",
      "Epoch 18: 100%|██████████| 120/120 [00:30<00:00,  3.99it/s, loss=1.033]\n",
      "Epoch 19: 100%|██████████| 120/120 [00:30<00:00,  3.87it/s, loss=1.033]\n"
     ]
    },
    {
     "data": {
      "image/png": "[encoded data removed]",
      "text/plain": [
       "<Figure size 432x288 with 1 Axes>"
      ]
     },
     "metadata": {
      "needs_background": "light"
     },
     "output_type": "display_data"
    },
    {
     "name": "stdout",
     "output_type": "stream",
     "text": [
      "Loss score: 1.060486932238564.\n"
     ]
    }
   ],
   "source": [
    "# create trainer\n",
    "model6 = Koopman(hidden_layer=2)\n",
    "hyper = [1.0,1.0,0.1,0.00000001,0.000000001,0.00000001,40]\n",
    "loss_function = Loss(hyper[0], hyper[1], hyper[2], hyper[3], hyper[4], hyper[5], hyper[6])\n",
    "\n",
    "# start training\n",
    "file_name = train_the_model(device, model6, loss_function, train_loader, val_loader, hyper, hidden_layer = 2, epochs=20)\n",
    "plot_learning_curve(file_name)\n",
    "\n",
    "# get test result\n",
    "test_the_model(test_loader, model6, loss_function, file_name)"
   ]
  },
  {
   "cell_type": "code",
   "execution_count": 12,
   "id": "4a2dd422",
   "metadata": {},
   "outputs": [
    {
     "name": "stderr",
     "output_type": "stream",
     "text": [
      "\r",
      "  0%|          | 0/120 [00:00<?, ?it/s]"
     ]
    },
    {
     "name": "stdout",
     "output_type": "stream",
     "text": [
      "Trainer created.\n"
     ]
    },
    {
     "name": "stderr",
     "output_type": "stream",
     "text": [
      "Epoch 0: 100%|██████████| 120/120 [00:30<00:00,  3.99it/s, loss=0.786]\n",
      "Epoch 1: 100%|██████████| 120/120 [00:29<00:00,  4.01it/s, loss=0.751]\n",
      "Epoch 2: 100%|██████████| 120/120 [00:30<00:00,  4.00it/s, loss=0.751]\n",
      "Epoch 3: 100%|██████████| 120/120 [00:30<00:00,  3.98it/s, loss=0.751]\n",
      "Epoch 4: 100%|██████████| 120/120 [00:29<00:00,  4.00it/s, loss=0.751]\n",
      "Epoch 5: 100%|██████████| 120/120 [00:30<00:00,  3.95it/s, loss=0.751]\n",
      "Epoch 6: 100%|██████████| 120/120 [00:30<00:00,  3.97it/s, loss=0.751]\n",
      "Epoch 7: 100%|██████████| 120/120 [00:30<00:00,  3.91it/s, loss=0.751]\n",
      "Epoch 8: 100%|██████████| 120/120 [00:30<00:00,  3.91it/s, loss=0.751]\n",
      "Epoch 9: 100%|██████████| 120/120 [00:30<00:00,  3.90it/s, loss=0.751]\n",
      "Epoch 10: 100%|██████████| 120/120 [00:30<00:00,  3.90it/s, loss=0.751]\n",
      "Epoch 11: 100%|██████████| 120/120 [00:30<00:00,  3.93it/s, loss=0.751]\n",
      "Epoch 12: 100%|██████████| 120/120 [00:30<00:00,  3.96it/s, loss=0.751]\n",
      "Epoch 13: 100%|██████████| 120/120 [00:30<00:00,  3.95it/s, loss=0.751]\n",
      "Epoch 14: 100%|██████████| 120/120 [00:30<00:00,  3.98it/s, loss=0.751]\n",
      "Epoch 15: 100%|██████████| 120/120 [00:30<00:00,  3.99it/s, loss=0.751]\n",
      "Epoch 16: 100%|██████████| 120/120 [00:30<00:00,  3.93it/s, loss=0.751]\n",
      "Epoch 17: 100%|██████████| 120/120 [00:30<00:00,  3.90it/s, loss=0.751]\n",
      "Epoch 18: 100%|██████████| 120/120 [00:30<00:00,  3.96it/s, loss=0.751]\n",
      "Epoch 19: 100%|██████████| 120/120 [00:31<00:00,  3.83it/s, loss=0.751]\n"
     ]
    },
    {
     "data": {
      "image/png": "[encoded data removed]",
      "text/plain": [
       "<Figure size 432x288 with 1 Axes>"
      ]
     },
     "metadata": {
      "needs_background": "light"
     },
     "output_type": "display_data"
    },
    {
     "name": "stdout",
     "output_type": "stream",
     "text": [
      "Loss score: 0.7712405268568545.\n"
     ]
    }
   ],
   "source": [
    "# create trainer\n",
    "model7 = Koopman(hidden_layer=2)\n",
    "hyper = [0.5,0.5,0.3,0.00000001,0.000000001,0.00000001,40]\n",
    "loss_function = Loss(hyper[0], hyper[1], hyper[2], hyper[3], hyper[4], hyper[5], hyper[6])\n",
    "\n",
    "# start training\n",
    "file_name = train_the_model(device, model7, loss_function, train_loader, val_loader, hyper, hidden_layer = 2, epochs=20)\n",
    "plot_learning_curve(file_name)\n",
    "\n",
    "# get test result\n",
    "test_the_model(test_loader, model7, loss_function, file_name)"
   ]
  },
  {
   "cell_type": "code",
   "execution_count": 13,
   "id": "c850bed6",
   "metadata": {},
   "outputs": [
    {
     "name": "stderr",
     "output_type": "stream",
     "text": [
      "\r",
      "  0%|          | 0/120 [00:00<?, ?it/s]"
     ]
    },
    {
     "name": "stdout",
     "output_type": "stream",
     "text": [
      "Trainer created.\n"
     ]
    },
    {
     "name": "stderr",
     "output_type": "stream",
     "text": [
      "Epoch 0: 100%|██████████| 120/120 [00:30<00:00,  3.95it/s, loss=2.289]\n",
      "Epoch 1: 100%|██████████| 120/120 [00:30<00:00,  3.88it/s, loss=2.163]\n",
      "Epoch 2: 100%|██████████| 120/120 [00:30<00:00,  3.87it/s, loss=2.160]\n",
      "Epoch 3: 100%|██████████| 120/120 [00:31<00:00,  3.86it/s, loss=2.160]\n",
      "Epoch 4: 100%|██████████| 120/120 [00:30<00:00,  3.93it/s, loss=2.160]\n",
      "Epoch 5: 100%|██████████| 120/120 [00:30<00:00,  3.89it/s, loss=2.160]\n",
      "Epoch 6: 100%|██████████| 120/120 [00:30<00:00,  3.89it/s, loss=2.160]\n",
      "Epoch 7: 100%|██████████| 120/120 [00:30<00:00,  3.90it/s, loss=2.160]\n",
      "Epoch 8: 100%|██████████| 120/120 [00:29<00:00,  4.00it/s, loss=2.159]\n",
      "Epoch 9: 100%|██████████| 120/120 [00:30<00:00,  3.98it/s, loss=2.159]\n",
      "Epoch 10: 100%|██████████| 120/120 [00:30<00:00,  3.97it/s, loss=2.159]\n",
      "Epoch 11: 100%|██████████| 120/120 [00:30<00:00,  3.95it/s, loss=2.159]\n",
      "Epoch 12: 100%|██████████| 120/120 [00:30<00:00,  3.96it/s, loss=2.159]\n",
      "Epoch 13: 100%|██████████| 120/120 [00:30<00:00,  3.91it/s, loss=2.159]\n",
      "Epoch 14: 100%|██████████| 120/120 [00:30<00:00,  3.99it/s, loss=2.159]\n",
      "Epoch 15: 100%|██████████| 120/120 [00:30<00:00,  3.92it/s, loss=2.159]\n",
      "Epoch 16: 100%|██████████| 120/120 [00:29<00:00,  4.00it/s, loss=2.159]\n",
      "Epoch 17: 100%|██████████| 120/120 [00:30<00:00,  3.99it/s, loss=2.159]\n",
      "Epoch 18: 100%|██████████| 120/120 [00:34<00:00,  3.43it/s, loss=2.159]\n",
      "Epoch 19: 100%|██████████| 120/120 [00:31<00:00,  3.77it/s, loss=2.159]\n"
     ]
    },
    {
     "data": {
      "image/png": "[encoded data removed]",
      "text/plain": [
       "<Figure size 432x288 with 1 Axes>"
      ]
     },
     "metadata": {
      "needs_background": "light"
     },
     "output_type": "display_data"
    },
    {
     "name": "stdout",
     "output_type": "stream",
     "text": [
      "Loss score: 2.2173340413719416.\n"
     ]
    }
   ],
   "source": [
    "# create trainer\n",
    "model8 = Koopman(hidden_layer=2)\n",
    "hyper = [2.0,2.0,0.3,0.00000001,0.000000001,0.00000001,40]\n",
    "loss_function = Loss(hyper[0], hyper[1], hyper[2], hyper[3], hyper[4], hyper[5], hyper[6])\n",
    "\n",
    "# start training\n",
    "file_name = train_the_model(device, model8, loss_function, train_loader, val_loader, hyper, hidden_layer = 2, epochs=20)\n",
    "plot_learning_curve(file_name)\n",
    "\n",
    "# get test result\n",
    "test_the_model(test_loader, model8, loss_function, file_name)"
   ]
  },
  {
   "cell_type": "markdown",
   "id": "747db1a3",
   "metadata": {},
   "source": [
    "### Change model structure"
   ]
  },
  {
   "cell_type": "markdown",
   "id": "230ea0af",
   "metadata": {},
   "source": [
    "#### Varying lifted state"
   ]
  },
  {
   "cell_type": "code",
   "execution_count": 3,
   "id": "00b41eb9",
   "metadata": {},
   "outputs": [
    {
     "name": "stderr",
     "output_type": "stream",
     "text": [
      "\r",
      "  0%|          | 0/120 [00:00<?, ?it/s]"
     ]
    },
    {
     "name": "stdout",
     "output_type": "stream",
     "text": [
      "Trainer created.\n"
     ]
    },
    {
     "name": "stderr",
     "output_type": "stream",
     "text": [
      "Epoch 0: 100%|██████████| 120/120 [00:42<00:00,  2.86it/s, loss=1.335]\n",
      "Epoch 1: 100%|██████████| 120/120 [00:42<00:00,  2.82it/s, loss=1.221]\n",
      "Epoch 2: 100%|██████████| 120/120 [00:41<00:00,  2.92it/s, loss=1.221]\n",
      "Epoch 3: 100%|██████████| 120/120 [00:42<00:00,  2.86it/s, loss=1.221]\n",
      "Epoch 4: 100%|██████████| 120/120 [00:42<00:00,  2.84it/s, loss=1.221]\n",
      "Epoch 5: 100%|██████████| 120/120 [00:41<00:00,  2.87it/s, loss=1.221]\n",
      "Epoch 6: 100%|██████████| 120/120 [00:40<00:00,  2.93it/s, loss=1.221]\n",
      "Epoch 7: 100%|██████████| 120/120 [00:40<00:00,  2.96it/s, loss=1.221]\n",
      "Epoch 8: 100%|██████████| 120/120 [00:39<00:00,  3.04it/s, loss=1.221]\n",
      "Epoch 9: 100%|██████████| 120/120 [00:39<00:00,  3.01it/s, loss=1.221]\n",
      "Epoch 10: 100%|██████████| 120/120 [00:41<00:00,  2.91it/s, loss=1.221]\n",
      "Epoch 11: 100%|██████████| 120/120 [00:40<00:00,  2.96it/s, loss=1.221]\n",
      "Epoch 12: 100%|██████████| 120/120 [00:40<00:00,  2.97it/s, loss=1.221]\n",
      "Epoch 13: 100%|██████████| 120/120 [00:39<00:00,  3.00it/s, loss=1.221]\n",
      "Epoch 14: 100%|██████████| 120/120 [00:39<00:00,  3.04it/s, loss=1.221]\n",
      "Epoch 15: 100%|██████████| 120/120 [00:39<00:00,  3.05it/s, loss=1.221]\n",
      "Epoch 16: 100%|██████████| 120/120 [00:40<00:00,  2.95it/s, loss=1.221]\n",
      "Epoch 17: 100%|██████████| 120/120 [00:40<00:00,  2.99it/s, loss=1.221]\n",
      "Epoch 18: 100%|██████████| 120/120 [00:40<00:00,  2.97it/s, loss=1.221]\n",
      "Epoch 19: 100%|██████████| 120/120 [00:40<00:00,  3.00it/s, loss=1.221]\n"
     ]
    },
    {
     "data": {
      "image/png": "[encoded data removed]",
      "text/plain": [
       "<Figure size 432x288 with 1 Axes>"
      ]
     },
     "metadata": {
      "needs_background": "light"
     },
     "output_type": "display_data"
    },
    {
     "name": "stdout",
     "output_type": "stream",
     "text": [
      "Loss score: 1.253275210876018.\n"
     ]
    }
   ],
   "source": [
    "# create trainer\n",
    "model9 = Koopman(lifted_state = 60, hidden_out=30, hidden_layer=2)\n",
    "hyper = [1.0,1.0,0.3,0.000000001,0.0000000001,0.000000001,40]\n",
    "loss_function = Loss(hyper[0], hyper[1], hyper[2], hyper[3], hyper[4], hyper[5], hyper[6])\n",
    "\n",
    "# start training\n",
    "file_name = train_the_model(device, model9, loss_function, train_loader, val_loader, hyper, hidden_layer = 2, epochs=20)\n",
    "plot_learning_curve(file_name)\n",
    "\n",
    "# get test result\n",
    "test_the_model(test_loader, model9, loss_function, file_name)"
   ]
  },
  {
   "cell_type": "code",
   "execution_count": 6,
   "id": "ef47072c",
   "metadata": {},
   "outputs": [
    {
     "name": "stderr",
     "output_type": "stream",
     "text": [
      "\r",
      "  0%|          | 0/120 [00:00<?, ?it/s]"
     ]
    },
    {
     "name": "stdout",
     "output_type": "stream",
     "text": [
      "Trainer created.\n"
     ]
    },
    {
     "name": "stderr",
     "output_type": "stream",
     "text": [
      "Epoch 0: 100%|██████████| 120/120 [00:29<00:00,  4.05it/s, loss=1.303]\n",
      "Epoch 1: 100%|██████████| 120/120 [00:29<00:00,  4.01it/s, loss=1.231]\n",
      "Epoch 2: 100%|██████████| 120/120 [00:29<00:00,  4.01it/s, loss=1.223]\n",
      "Epoch 3: 100%|██████████| 120/120 [00:29<00:00,  4.05it/s, loss=1.221]\n",
      "Epoch 4: 100%|██████████| 120/120 [00:29<00:00,  4.08it/s, loss=1.221]\n",
      "Epoch 5: 100%|██████████| 120/120 [00:30<00:00,  3.99it/s, loss=1.221]\n",
      "Epoch 6: 100%|██████████| 120/120 [00:29<00:00,  4.07it/s, loss=1.221]\n",
      "Epoch 7: 100%|██████████| 120/120 [00:29<00:00,  4.03it/s, loss=1.221]\n",
      "Epoch 8: 100%|██████████| 120/120 [00:29<00:00,  4.04it/s, loss=1.221]\n",
      "Epoch 9: 100%|██████████| 120/120 [00:29<00:00,  4.02it/s, loss=1.221]\n",
      "Epoch 10: 100%|██████████| 120/120 [00:29<00:00,  4.03it/s, loss=1.221]\n",
      "Epoch 11: 100%|██████████| 120/120 [00:30<00:00,  3.97it/s, loss=1.221]\n",
      "Epoch 12: 100%|██████████| 120/120 [00:30<00:00,  4.00it/s, loss=1.221]\n",
      "Epoch 13: 100%|██████████| 120/120 [00:30<00:00,  3.99it/s, loss=1.221]\n",
      "Epoch 14: 100%|██████████| 120/120 [00:29<00:00,  4.00it/s, loss=1.221]\n",
      "Epoch 15: 100%|██████████| 120/120 [00:29<00:00,  4.03it/s, loss=1.221]\n",
      "Epoch 16: 100%|██████████| 120/120 [00:29<00:00,  4.02it/s, loss=1.221]\n",
      "Epoch 17: 100%|██████████| 120/120 [00:29<00:00,  4.03it/s, loss=1.221]\n",
      "Epoch 18: 100%|██████████| 120/120 [00:29<00:00,  4.04it/s, loss=1.221]\n",
      "Epoch 19: 100%|██████████| 120/120 [00:30<00:00,  3.99it/s, loss=1.221]\n"
     ]
    },
    {
     "data": {
      "image/png": "[encoded data removed]",
      "text/plain": [
       "<Figure size 432x288 with 1 Axes>"
      ]
     },
     "metadata": {
      "needs_background": "light"
     },
     "output_type": "display_data"
    },
    {
     "name": "stdout",
     "output_type": "stream",
     "text": [
      "Loss score: 1.253266522102058.\n"
     ]
    }
   ],
   "source": [
    "# create trainer\n",
    "model12 = Koopman(lifted_state = 10, hidden_out=30, hidden_layer=2)\n",
    "hyper = [1.0,1.0,0.3,0.000000001,0.0000000001,0.000000001,40]\n",
    "loss_function = Loss(hyper[0], hyper[1], hyper[2], hyper[3], hyper[4], hyper[5], hyper[6])\n",
    "\n",
    "# start training\n",
    "file_name = train_the_model(device, model12, loss_function, train_loader, val_loader, hyper, hidden_layer = 2, epochs=20)\n",
    "plot_learning_curve(file_name)\n",
    "\n",
    "# get test result\n",
    "test_the_model(test_loader, model12, loss_function, file_name)"
   ]
  },
  {
   "cell_type": "markdown",
   "id": "ee612811",
   "metadata": {},
   "source": [
    "#### Varying hidden nodes"
   ]
  },
  {
   "cell_type": "code",
   "execution_count": 4,
   "id": "741d411e",
   "metadata": {},
   "outputs": [
    {
     "name": "stderr",
     "output_type": "stream",
     "text": [
      "\r",
      "  0%|          | 0/120 [00:00<?, ?it/s]"
     ]
    },
    {
     "name": "stdout",
     "output_type": "stream",
     "text": [
      "Trainer created.\n"
     ]
    },
    {
     "name": "stderr",
     "output_type": "stream",
     "text": [
      "Epoch 0: 100%|██████████| 120/120 [00:39<00:00,  3.00it/s, loss=1.307]\n",
      "Epoch 1: 100%|██████████| 120/120 [00:39<00:00,  3.06it/s, loss=1.225]\n",
      "Epoch 2: 100%|██████████| 120/120 [00:40<00:00,  2.99it/s, loss=1.221]\n",
      "Epoch 3: 100%|██████████| 120/120 [00:39<00:00,  3.01it/s, loss=1.221]\n",
      "Epoch 4: 100%|██████████| 120/120 [00:40<00:00,  3.00it/s, loss=1.221]\n",
      "Epoch 5: 100%|██████████| 120/120 [00:39<00:00,  3.06it/s, loss=1.221]\n",
      "Epoch 6: 100%|██████████| 120/120 [00:39<00:00,  3.04it/s, loss=1.221]\n",
      "Epoch 7: 100%|██████████| 120/120 [00:57<00:00,  2.10it/s, loss=1.221]\n",
      "Epoch 8: 100%|██████████| 120/120 [00:55<00:00,  2.17it/s, loss=1.221]\n",
      "Epoch 9: 100%|██████████| 120/120 [00:54<00:00,  2.20it/s, loss=1.221]\n",
      "Epoch 10: 100%|██████████| 120/120 [01:00<00:00,  1.99it/s, loss=1.221]\n",
      "Epoch 11: 100%|██████████| 120/120 [00:31<00:00,  3.79it/s, loss=1.221]\n",
      "Epoch 12: 100%|██████████| 120/120 [00:30<00:00,  3.88it/s, loss=1.221]\n",
      "Epoch 13: 100%|██████████| 120/120 [00:30<00:00,  3.92it/s, loss=1.221]\n",
      "Epoch 14: 100%|██████████| 120/120 [00:29<00:00,  4.02it/s, loss=1.221]\n",
      "Epoch 15: 100%|██████████| 120/120 [00:29<00:00,  4.02it/s, loss=1.221]\n",
      "Epoch 16: 100%|██████████| 120/120 [00:30<00:00,  3.98it/s, loss=1.221]\n",
      "Epoch 17: 100%|██████████| 120/120 [00:30<00:00,  3.96it/s, loss=1.221]\n",
      "Epoch 18: 100%|██████████| 120/120 [00:29<00:00,  4.03it/s, loss=1.221]\n",
      "Epoch 19: 100%|██████████| 120/120 [00:30<00:00,  3.99it/s, loss=1.221]\n"
     ]
    },
    {
     "data": {
      "image/png": "[encoded data removed]",
      "text/plain": [
       "<Figure size 432x288 with 1 Axes>"
      ]
     },
     "metadata": {
      "needs_background": "light"
     },
     "output_type": "display_data"
    },
    {
     "name": "stdout",
     "output_type": "stream",
     "text": [
      "Loss score: 1.2532741925679147.\n"
     ]
    }
   ],
   "source": [
    "# create trainer\n",
    "model10 = Koopman(lifted_state = 30, hidden_out=60, hidden_layer=2)\n",
    "hyper = [1.0,1.0,0.3,0.000000001,0.0000000001,0.000000001,40]\n",
    "loss_function = Loss(hyper[0], hyper[1], hyper[2], hyper[3], hyper[4], hyper[5], hyper[6])\n",
    "\n",
    "# start training\n",
    "file_name = train_the_model(device, model10, loss_function, train_loader, val_loader, hyper, hidden_layer = 2, epochs=20)\n",
    "plot_learning_curve(file_name)\n",
    "\n",
    "# get test result\n",
    "test_the_model(test_loader, model10, loss_function, file_name)"
   ]
  },
  {
   "cell_type": "code",
   "execution_count": 7,
   "id": "009f7971",
   "metadata": {},
   "outputs": [
    {
     "name": "stderr",
     "output_type": "stream",
     "text": [
      "\r",
      "  0%|          | 0/120 [00:00<?, ?it/s]"
     ]
    },
    {
     "name": "stdout",
     "output_type": "stream",
     "text": [
      "Trainer created.\n"
     ]
    },
    {
     "name": "stderr",
     "output_type": "stream",
     "text": [
      "Epoch 0: 100%|██████████| 120/120 [00:30<00:00,  4.00it/s, loss=1.573]\n",
      "Epoch 1: 100%|██████████| 120/120 [00:29<00:00,  4.06it/s, loss=1.256]\n",
      "Epoch 2: 100%|██████████| 120/120 [00:29<00:00,  4.02it/s, loss=1.229]\n",
      "Epoch 3: 100%|██████████| 120/120 [00:30<00:00,  3.99it/s, loss=1.224]\n",
      "Epoch 4: 100%|██████████| 120/120 [00:29<00:00,  4.01it/s, loss=1.221]\n",
      "Epoch 5: 100%|██████████| 120/120 [00:29<00:00,  4.02it/s, loss=1.221]\n",
      "Epoch 6: 100%|██████████| 120/120 [00:29<00:00,  4.05it/s, loss=1.221]\n",
      "Epoch 7: 100%|██████████| 120/120 [00:30<00:00,  3.99it/s, loss=1.221]\n",
      "Epoch 8: 100%|██████████| 120/120 [00:29<00:00,  4.06it/s, loss=1.221]\n",
      "Epoch 9: 100%|██████████| 120/120 [00:30<00:00,  3.99it/s, loss=1.221]\n",
      "Epoch 10: 100%|██████████| 120/120 [00:29<00:00,  4.02it/s, loss=1.221]\n",
      "Epoch 11: 100%|██████████| 120/120 [00:29<00:00,  4.02it/s, loss=1.221]\n",
      "Epoch 12: 100%|██████████| 120/120 [00:29<00:00,  4.04it/s, loss=1.221]\n",
      "Epoch 13: 100%|██████████| 120/120 [00:29<00:00,  4.02it/s, loss=1.221]\n",
      "Epoch 14: 100%|██████████| 120/120 [00:29<00:00,  4.05it/s, loss=1.221]\n",
      "Epoch 15: 100%|██████████| 120/120 [00:30<00:00,  3.98it/s, loss=1.221]\n",
      "Epoch 16: 100%|██████████| 120/120 [00:29<00:00,  4.01it/s, loss=1.221]\n",
      "Epoch 17: 100%|██████████| 120/120 [00:30<00:00,  3.99it/s, loss=1.221]\n",
      "Epoch 18: 100%|██████████| 120/120 [00:30<00:00,  3.97it/s, loss=1.221]\n",
      "Epoch 19: 100%|██████████| 120/120 [00:29<00:00,  4.02it/s, loss=1.221]\n"
     ]
    },
    {
     "data": {
      "image/png": "[encoded data removed]",
      "text/plain": [
       "<Figure size 432x288 with 1 Axes>"
      ]
     },
     "metadata": {
      "needs_background": "light"
     },
     "output_type": "display_data"
    },
    {
     "name": "stdout",
     "output_type": "stream",
     "text": [
      "Loss score: 1.2532986899837852.\n"
     ]
    }
   ],
   "source": [
    "# create trainer\n",
    "model13 = Koopman(lifted_state = 30, hidden_out=10, hidden_layer=2)\n",
    "hyper = [1.0,1.0,0.3,0.000000001,0.0000000001,0.000000001,40]\n",
    "loss_function = Loss(hyper[0], hyper[1], hyper[2], hyper[3], hyper[4], hyper[5], hyper[6])\n",
    "\n",
    "# start training\n",
    "file_name = train_the_model(device, model13, loss_function, train_loader, val_loader, hyper, hidden_layer = 2, epochs=20)\n",
    "plot_learning_curve(file_name)\n",
    "\n",
    "# get test result\n",
    "test_the_model(test_loader, model13, loss_function, file_name)"
   ]
  },
  {
   "cell_type": "markdown",
   "id": "f6b9d1fc",
   "metadata": {},
   "source": [
    "#### Varying hidden layers"
   ]
  },
  {
   "cell_type": "code",
   "execution_count": 14,
   "id": "acf53497",
   "metadata": {},
   "outputs": [
    {
     "name": "stderr",
     "output_type": "stream",
     "text": [
      "\r",
      "  0%|          | 0/120 [00:00<?, ?it/s]"
     ]
    },
    {
     "name": "stdout",
     "output_type": "stream",
     "text": [
      "Trainer created.\n"
     ]
    },
    {
     "name": "stderr",
     "output_type": "stream",
     "text": [
      "Epoch 0: 100%|██████████| 120/120 [00:34<00:00,  3.44it/s, loss=1.338]\n",
      "Epoch 1: 100%|██████████| 120/120 [00:35<00:00,  3.42it/s, loss=1.228]\n",
      "Epoch 2: 100%|██████████| 120/120 [00:35<00:00,  3.42it/s, loss=1.221]\n",
      "Epoch 3: 100%|██████████| 120/120 [00:34<00:00,  3.44it/s, loss=1.221]\n",
      "Epoch 4: 100%|██████████| 120/120 [00:35<00:00,  3.39it/s, loss=1.221]\n",
      "Epoch 5: 100%|██████████| 120/120 [00:35<00:00,  3.43it/s, loss=1.221]\n",
      "Epoch 6: 100%|██████████| 120/120 [00:34<00:00,  3.48it/s, loss=1.221]\n",
      "Epoch 7: 100%|██████████| 120/120 [00:35<00:00,  3.42it/s, loss=1.221]\n",
      "Epoch 8: 100%|██████████| 120/120 [00:35<00:00,  3.42it/s, loss=1.221]\n",
      "Epoch 9: 100%|██████████| 120/120 [00:34<00:00,  3.46it/s, loss=1.221]\n",
      "Epoch 10: 100%|██████████| 120/120 [00:34<00:00,  3.44it/s, loss=1.221]\n",
      "Epoch 11: 100%|██████████| 120/120 [00:35<00:00,  3.40it/s, loss=1.221]\n",
      "Epoch 12: 100%|██████████| 120/120 [00:34<00:00,  3.43it/s, loss=1.221]\n",
      "Epoch 13: 100%|██████████| 120/120 [00:34<00:00,  3.49it/s, loss=1.221]\n",
      "Epoch 14: 100%|██████████| 120/120 [00:34<00:00,  3.45it/s, loss=1.221]\n",
      "Epoch 15: 100%|██████████| 120/120 [00:34<00:00,  3.46it/s, loss=1.221]\n",
      "Epoch 16: 100%|██████████| 120/120 [00:34<00:00,  3.45it/s, loss=1.221]\n",
      "Epoch 17: 100%|██████████| 120/120 [00:34<00:00,  3.46it/s, loss=1.221]\n",
      "Epoch 18: 100%|██████████| 120/120 [00:35<00:00,  3.42it/s, loss=1.221]\n",
      "Epoch 19: 100%|██████████| 120/120 [00:34<00:00,  3.46it/s, loss=1.221]\n"
     ]
    },
    {
     "data": {
      "image/png": "[encoded data removed]",
      "text/plain": [
       "<Figure size 432x288 with 1 Axes>"
      ]
     },
     "metadata": {
      "needs_background": "light"
     },
     "output_type": "display_data"
    },
    {
     "name": "stdout",
     "output_type": "stream",
     "text": [
      "Loss score: 1.253255603229627.\n"
     ]
    }
   ],
   "source": [
    "# create trainer\n",
    "model11 = Koopman(lifted_state = 30, hidden_out=30, hidden_layer=4)\n",
    "hyper = [1.0,1.0,0.3,0.000000001,0.0000000001,0.000000001,40]\n",
    "loss_function = Loss(hyper[0], hyper[1], hyper[2], hyper[3], hyper[4], hyper[5], hyper[6])\n",
    "\n",
    "# start training\n",
    "file_name = train_the_model(device, model11, loss_function, train_loader, val_loader, hyper, hidden_layer = 4, epochs=20)\n",
    "plot_learning_curve(file_name)\n",
    "\n",
    "# get test result\n",
    "test_the_model(test_loader, model11, loss_function, file_name)"
   ]
  },
  {
   "cell_type": "code",
   "execution_count": 15,
   "id": "b6d0db0a",
   "metadata": {},
   "outputs": [
    {
     "name": "stderr",
     "output_type": "stream",
     "text": [
      "\r",
      "  0%|          | 0/120 [00:00<?, ?it/s]"
     ]
    },
    {
     "name": "stdout",
     "output_type": "stream",
     "text": [
      "Trainer created.\n"
     ]
    },
    {
     "name": "stderr",
     "output_type": "stream",
     "text": [
      "Epoch 0: 100%|██████████| 120/120 [00:27<00:00,  4.35it/s, loss=1.341]\n",
      "Epoch 1: 100%|██████████| 120/120 [00:27<00:00,  4.36it/s, loss=1.227]\n",
      "Epoch 2: 100%|██████████| 120/120 [00:27<00:00,  4.36it/s, loss=1.222]\n",
      "Epoch 3: 100%|██████████| 120/120 [00:27<00:00,  4.41it/s, loss=1.221]\n",
      "Epoch 4: 100%|██████████| 120/120 [00:27<00:00,  4.37it/s, loss=1.221]\n",
      "Epoch 5: 100%|██████████| 120/120 [00:27<00:00,  4.33it/s, loss=1.221]\n",
      "Epoch 6: 100%|██████████| 120/120 [00:27<00:00,  4.32it/s, loss=1.221]\n",
      "Epoch 7: 100%|██████████| 120/120 [00:27<00:00,  4.38it/s, loss=1.221]\n",
      "Epoch 8: 100%|██████████| 120/120 [00:27<00:00,  4.34it/s, loss=1.221]\n",
      "Epoch 9: 100%|██████████| 120/120 [00:27<00:00,  4.32it/s, loss=1.221]\n",
      "Epoch 10: 100%|██████████| 120/120 [00:27<00:00,  4.32it/s, loss=1.221]\n",
      "Epoch 11: 100%|██████████| 120/120 [00:27<00:00,  4.31it/s, loss=1.221]\n",
      "Epoch 12: 100%|██████████| 120/120 [00:27<00:00,  4.40it/s, loss=1.221]\n",
      "Epoch 13: 100%|██████████| 120/120 [00:27<00:00,  4.38it/s, loss=1.221]\n",
      "Epoch 14: 100%|██████████| 120/120 [00:27<00:00,  4.36it/s, loss=1.221]\n",
      "Epoch 15: 100%|██████████| 120/120 [00:27<00:00,  4.36it/s, loss=1.221]\n",
      "Epoch 16: 100%|██████████| 120/120 [00:27<00:00,  4.36it/s, loss=1.221]\n",
      "Epoch 17: 100%|██████████| 120/120 [00:27<00:00,  4.35it/s, loss=1.221]\n",
      "Epoch 18: 100%|██████████| 120/120 [00:27<00:00,  4.33it/s, loss=1.221]\n",
      "Epoch 19: 100%|██████████| 120/120 [00:27<00:00,  4.35it/s, loss=1.221]\n"
     ]
    },
    {
     "data": {
      "image/png": "[encoded data removed]",
      "text/plain": [
       "<Figure size 432x288 with 1 Axes>"
      ]
     },
     "metadata": {
      "needs_background": "light"
     },
     "output_type": "display_data"
    },
    {
     "name": "stdout",
     "output_type": "stream",
     "text": [
      "Loss score: 1.2533257271163165.\n"
     ]
    }
   ],
   "source": [
    "# create trainer\n",
    "model14 = Koopman(lifted_state = 30, hidden_out=30, hidden_layer=1)\n",
    "hyper = [1.0,1.0,0.3,0.000000001,0.0000000001,0.000000001,40]\n",
    "loss_function = Loss(hyper[0], hyper[1], hyper[2], hyper[3], hyper[4], hyper[5], hyper[6])\n",
    "\n",
    "# start training\n",
    "file_name = train_the_model(device, model14, loss_function, train_loader, val_loader, hyper, hidden_layer = 1, epochs=20)\n",
    "plot_learning_curve(file_name)\n",
    "\n",
    "# get test result\n",
    "test_the_model(test_loader, model14, loss_function, file_name)"
   ]
  },
  {
   "cell_type": "markdown",
   "id": "668a59d2",
   "metadata": {},
   "source": [
    "## Result Analysis"
   ]
  },
  {
   "cell_type": "code",
   "execution_count": null,
   "id": "e4b166db",
   "metadata": {},
   "outputs": [],
   "source": [
    "import os\n",
    "os.environ[\"KMP_DUPLICATE_LIB_OK\"]=\"TRUE\"\n",
    "from data_loader import produce_dataset, get_dataloaders\n",
    "from train import *\n",
    "from test import *\n",
    "from model_nn import Koopman\n",
    "import numpy as np\n",
    "import torch\n",
    "initial_out = sys.stdout\n",
    "# get dataloaders\n",
    "path = './dataset/x-[0.1 0.1 0.1 0.5 0.5 1.5]_u-[0.1 0.1 0.1]_1.0x200_Ts_0.01'\n",
    "train_loader, val_loader, test_loader = get_dataloaders(path)\n",
    "\n",
    "# trainers parameter setting\n",
    "device = \"cuda:0\" if torch.cuda.is_available() else \"cpu\""
   ]
  },
  {
   "cell_type": "code",
   "execution_count": 3,
   "id": "20c7405a",
   "metadata": {},
   "outputs": [
    {
     "data": {
      "image/png": "[encoded data removed]",
      "text/plain": [
       "<Figure size 432x288 with 1 Axes>"
      ]
     },
     "metadata": {
      "needs_background": "light"
     },
     "output_type": "display_data"
    },
    {
     "name": "stdout",
     "output_type": "stream",
     "text": [
      "Loss score: 1.2533257271163165.\n"
     ]
    },
    {
     "ename": "RuntimeError",
     "evalue": "invalid argument 0: Sizes of tensors must match except in dimension 0. Got 3 and 30 in dimension 1 at C:/w/1/s/windows/pytorch/aten/src\\THC/generic/THCTensorMath.cu:71",
     "output_type": "error",
     "traceback": [
      "\u001b[1;31m---------------------------------------------------------------------------\u001b[0m",
      "\u001b[1;31mRuntimeError\u001b[0m                              Traceback (most recent call last)",
      "\u001b[1;32m<ipython-input-3-6d4fba100bd6>\u001b[0m in \u001b[0;36m<module>\u001b[1;34m\u001b[0m\n\u001b[0;32m     11\u001b[0m \u001b[0mplot_learning_curve\u001b[0m\u001b[1;33m(\u001b[0m\u001b[0mfile_name\u001b[0m\u001b[1;33m)\u001b[0m\u001b[1;33m\u001b[0m\u001b[1;33m\u001b[0m\u001b[0m\n\u001b[0;32m     12\u001b[0m \u001b[0mtest_the_model\u001b[0m\u001b[1;33m(\u001b[0m\u001b[0mtest_loader\u001b[0m\u001b[1;33m,\u001b[0m \u001b[0mmodel\u001b[0m\u001b[1;33m,\u001b[0m \u001b[0mloss_function\u001b[0m\u001b[1;33m,\u001b[0m \u001b[0mfile_name\u001b[0m\u001b[1;33m)\u001b[0m\u001b[1;33m\u001b[0m\u001b[1;33m\u001b[0m\u001b[0m\n\u001b[1;32m---> 13\u001b[1;33m \u001b[0mresult_sample\u001b[0m\u001b[1;33m(\u001b[0m\u001b[0mpath\u001b[0m\u001b[1;33m,\u001b[0m\u001b[0mmodel\u001b[0m\u001b[1;33m,\u001b[0m\u001b[0mfile_name\u001b[0m\u001b[1;33m,\u001b[0m\u001b[0mindex\u001b[0m\u001b[1;33m=\u001b[0m\u001b[1;36m0\u001b[0m\u001b[1;33m)\u001b[0m\u001b[1;33m\u001b[0m\u001b[1;33m\u001b[0m\u001b[0m\n\u001b[0m",
      "\u001b[1;32mE:\\MyProjects\\Capstone_USV\\test.py\u001b[0m in \u001b[0;36mresult_sample\u001b[1;34m(data_path, model, file_name, index)\u001b[0m\n\u001b[0;32m    101\u001b[0m     \u001b[0mmodel\u001b[0m \u001b[1;33m=\u001b[0m \u001b[0mmodel\u001b[0m\u001b[1;33m.\u001b[0m\u001b[0mto\u001b[0m\u001b[1;33m(\u001b[0m\u001b[0mdevice\u001b[0m\u001b[1;33m)\u001b[0m\u001b[1;33m\u001b[0m\u001b[1;33m\u001b[0m\u001b[0m\n\u001b[0;32m    102\u001b[0m     \u001b[0mmodel\u001b[0m\u001b[1;33m.\u001b[0m\u001b[0meval\u001b[0m\u001b[1;33m(\u001b[0m\u001b[1;33m)\u001b[0m\u001b[1;33m\u001b[0m\u001b[1;33m\u001b[0m\u001b[0m\n\u001b[1;32m--> 103\u001b[1;33m     \u001b[0mY\u001b[0m \u001b[1;33m=\u001b[0m \u001b[0mget_prediction\u001b[0m\u001b[1;33m(\u001b[0m\u001b[0mX\u001b[0m\u001b[1;33m,\u001b[0m\u001b[0mU\u001b[0m\u001b[1;33m,\u001b[0m \u001b[0mmodel\u001b[0m\u001b[1;33m,\u001b[0m \u001b[0mfile_name\u001b[0m\u001b[1;33m)\u001b[0m\u001b[1;33m\u001b[0m\u001b[1;33m\u001b[0m\u001b[0m\n\u001b[0m\u001b[0;32m    104\u001b[0m     \u001b[0myy\u001b[0m \u001b[1;33m=\u001b[0m \u001b[0mY\u001b[0m\u001b[1;33m.\u001b[0m\u001b[0mnumpy\u001b[0m\u001b[1;33m(\u001b[0m\u001b[1;33m)\u001b[0m\u001b[1;33m.\u001b[0m\u001b[0msqueeze\u001b[0m\u001b[1;33m(\u001b[0m\u001b[1;33m)\u001b[0m\u001b[1;33m\u001b[0m\u001b[1;33m\u001b[0m\u001b[0m\n\u001b[0;32m    105\u001b[0m     \u001b[0mposition_plot\u001b[0m\u001b[1;33m(\u001b[0m\u001b[0myy\u001b[0m\u001b[1;33m,\u001b[0m\u001b[0mxx\u001b[0m\u001b[1;33m[\u001b[0m\u001b[0mindex\u001b[0m\u001b[1;33m,\u001b[0m\u001b[1;36m1\u001b[0m\u001b[1;33m:\u001b[0m\u001b[1;33m,\u001b[0m\u001b[1;33m:\u001b[0m\u001b[1;33m]\u001b[0m\u001b[1;33m)\u001b[0m\u001b[1;33m\u001b[0m\u001b[1;33m\u001b[0m\u001b[0m\n",
      "\u001b[1;32mE:\\MyProjects\\Capstone_USV\\test.py\u001b[0m in \u001b[0;36mget_prediction\u001b[1;34m(X, U, model, file_name)\u001b[0m\n\u001b[0;32m     42\u001b[0m     \u001b[0mX\u001b[0m \u001b[1;33m=\u001b[0m \u001b[0mX\u001b[0m\u001b[1;33m.\u001b[0m\u001b[0mto\u001b[0m\u001b[1;33m(\u001b[0m\u001b[0mdevice\u001b[0m\u001b[1;33m)\u001b[0m\u001b[1;33m\u001b[0m\u001b[1;33m\u001b[0m\u001b[0m\n\u001b[0;32m     43\u001b[0m     \u001b[0mU\u001b[0m \u001b[1;33m=\u001b[0m \u001b[0mU\u001b[0m\u001b[1;33m.\u001b[0m\u001b[0mto\u001b[0m\u001b[1;33m(\u001b[0m\u001b[0mdevice\u001b[0m\u001b[1;33m)\u001b[0m\u001b[1;33m\u001b[0m\u001b[1;33m\u001b[0m\u001b[0m\n\u001b[1;32m---> 44\u001b[1;33m     \u001b[0mY\u001b[0m \u001b[1;33m=\u001b[0m  \u001b[0mmodel\u001b[0m\u001b[1;33m(\u001b[0m\u001b[0mX\u001b[0m\u001b[1;33m,\u001b[0m\u001b[0mU\u001b[0m\u001b[1;33m)\u001b[0m\u001b[1;33m\u001b[0m\u001b[1;33m\u001b[0m\u001b[0m\n\u001b[0m\u001b[0;32m     45\u001b[0m     \u001b[1;32mreturn\u001b[0m \u001b[0mY\u001b[0m\u001b[1;33m\u001b[0m\u001b[1;33m\u001b[0m\u001b[0m\n\u001b[0;32m     46\u001b[0m \u001b[1;33m\u001b[0m\u001b[0m\n",
      "\u001b[1;32m~\\anaconda3\\envs\\pytorch_GPU\\lib\\site-packages\\torch\\nn\\modules\\module.py\u001b[0m in \u001b[0;36m__call__\u001b[1;34m(self, *input, **kwargs)\u001b[0m\n\u001b[0;32m    530\u001b[0m             \u001b[0mresult\u001b[0m \u001b[1;33m=\u001b[0m \u001b[0mself\u001b[0m\u001b[1;33m.\u001b[0m\u001b[0m_slow_forward\u001b[0m\u001b[1;33m(\u001b[0m\u001b[1;33m*\u001b[0m\u001b[0minput\u001b[0m\u001b[1;33m,\u001b[0m \u001b[1;33m**\u001b[0m\u001b[0mkwargs\u001b[0m\u001b[1;33m)\u001b[0m\u001b[1;33m\u001b[0m\u001b[1;33m\u001b[0m\u001b[0m\n\u001b[0;32m    531\u001b[0m         \u001b[1;32melse\u001b[0m\u001b[1;33m:\u001b[0m\u001b[1;33m\u001b[0m\u001b[1;33m\u001b[0m\u001b[0m\n\u001b[1;32m--> 532\u001b[1;33m             \u001b[0mresult\u001b[0m \u001b[1;33m=\u001b[0m \u001b[0mself\u001b[0m\u001b[1;33m.\u001b[0m\u001b[0mforward\u001b[0m\u001b[1;33m(\u001b[0m\u001b[1;33m*\u001b[0m\u001b[0minput\u001b[0m\u001b[1;33m,\u001b[0m \u001b[1;33m**\u001b[0m\u001b[0mkwargs\u001b[0m\u001b[1;33m)\u001b[0m\u001b[1;33m\u001b[0m\u001b[1;33m\u001b[0m\u001b[0m\n\u001b[0m\u001b[0;32m    533\u001b[0m         \u001b[1;32mfor\u001b[0m \u001b[0mhook\u001b[0m \u001b[1;32min\u001b[0m \u001b[0mself\u001b[0m\u001b[1;33m.\u001b[0m\u001b[0m_forward_hooks\u001b[0m\u001b[1;33m.\u001b[0m\u001b[0mvalues\u001b[0m\u001b[1;33m(\u001b[0m\u001b[1;33m)\u001b[0m\u001b[1;33m:\u001b[0m\u001b[1;33m\u001b[0m\u001b[1;33m\u001b[0m\u001b[0m\n\u001b[0;32m    534\u001b[0m             \u001b[0mhook_result\u001b[0m \u001b[1;33m=\u001b[0m \u001b[0mhook\u001b[0m\u001b[1;33m(\u001b[0m\u001b[0mself\u001b[0m\u001b[1;33m,\u001b[0m \u001b[0minput\u001b[0m\u001b[1;33m,\u001b[0m \u001b[0mresult\u001b[0m\u001b[1;33m)\u001b[0m\u001b[1;33m\u001b[0m\u001b[1;33m\u001b[0m\u001b[0m\n",
      "\u001b[1;32mE:\\MyProjects\\Capstone_USV\\model_nn.py\u001b[0m in \u001b[0;36mforward\u001b[1;34m(self, x, u)\u001b[0m\n\u001b[0;32m     71\u001b[0m     \u001b[1;32mdef\u001b[0m \u001b[0mforward\u001b[0m\u001b[1;33m(\u001b[0m\u001b[0mself\u001b[0m\u001b[1;33m,\u001b[0m\u001b[0mx\u001b[0m\u001b[1;33m,\u001b[0m\u001b[0mu\u001b[0m\u001b[1;33m)\u001b[0m\u001b[1;33m:\u001b[0m\u001b[1;33m\u001b[0m\u001b[1;33m\u001b[0m\u001b[0m\n\u001b[0;32m     72\u001b[0m         \u001b[0mx\u001b[0m  \u001b[1;33m=\u001b[0m \u001b[0mself\u001b[0m\u001b[1;33m.\u001b[0m\u001b[0men\u001b[0m\u001b[1;33m(\u001b[0m\u001b[0mx\u001b[0m\u001b[1;33m)\u001b[0m\u001b[1;33m\u001b[0m\u001b[1;33m\u001b[0m\u001b[0m\n\u001b[1;32m---> 73\u001b[1;33m         \u001b[0mx\u001b[0m \u001b[1;33m=\u001b[0m \u001b[0mself\u001b[0m\u001b[1;33m.\u001b[0m\u001b[0mK\u001b[0m\u001b[1;33m(\u001b[0m\u001b[0mtorch\u001b[0m\u001b[1;33m.\u001b[0m\u001b[0mcat\u001b[0m\u001b[1;33m(\u001b[0m\u001b[1;33m(\u001b[0m\u001b[0mx\u001b[0m\u001b[1;33m,\u001b[0m\u001b[0mu\u001b[0m\u001b[1;33m)\u001b[0m\u001b[1;33m)\u001b[0m\u001b[1;33m)\u001b[0m\u001b[1;33m\u001b[0m\u001b[1;33m\u001b[0m\u001b[0m\n\u001b[0m\u001b[0;32m     74\u001b[0m         \u001b[0mprediction\u001b[0m \u001b[1;33m=\u001b[0m \u001b[0mself\u001b[0m\u001b[1;33m.\u001b[0m\u001b[0mde\u001b[0m\u001b[1;33m(\u001b[0m\u001b[0mx\u001b[0m\u001b[1;33m)\u001b[0m\u001b[1;33m\u001b[0m\u001b[1;33m\u001b[0m\u001b[0m\n\u001b[0;32m     75\u001b[0m         \u001b[1;32mreturn\u001b[0m \u001b[0mprediction\u001b[0m\u001b[1;33m\u001b[0m\u001b[1;33m\u001b[0m\u001b[0m\n",
      "\u001b[1;31mRuntimeError\u001b[0m: invalid argument 0: Sizes of tensors must match except in dimension 0. Got 3 and 30 in dimension 1 at C:/w/1/s/windows/pytorch/aten/src\\THC/generic/THCTensorMath.cu:71"
     ]
    }
   ],
   "source": [
    "hyper = [1.0,1.0,0.3,0.000000001,0.0000000001,0.000000001,40]\n",
    "loss_function = Loss(hyper[0], hyper[1], hyper[2], hyper[3], hyper[4], hyper[5], hyper[6])\n",
    "\n",
    "hidden_layer = 1\n",
    "lifted_state = 30\n",
    "hidden_out = 30\n",
    "model = Koopman(lifted_state = lifted_state, hidden_out=hidden_out, hidden_layer=hidden_layer)\n",
    "\n",
    "file_name=f\"hyper_{str(hyper)}_hidden_layer_{str(hidden_layer)}\"\n",
    "\n",
    "plot_learning_curve(file_name)\n",
    "test_the_model(test_loader, model, loss_function, file_name)\n",
    "result_sample(path,model,file_name,index=0)"
   ]
  },
  {
   "cell_type": "code",
   "execution_count": null,
   "id": "05f0cad7",
   "metadata": {},
   "outputs": [],
   "source": []
  },
  {
   "cell_type": "code",
   "execution_count": 9,
   "id": "4549c1a2",
   "metadata": {},
   "outputs": [
    {
     "name": "stdout",
     "output_type": "stream",
     "text": [
      "1\n"
     ]
    }
   ],
   "source": [
    "print(torch.cuda.device_count())"
   ]
  },
  {
   "cell_type": "code",
   "execution_count": null,
   "id": "86695cda",
   "metadata": {},
   "outputs": [],
   "source": []
  }
 ],
 "metadata": {
  "kernelspec": {
   "display_name": "Python 3",
   "language": "python",
   "name": "python3"
  },
  "language_info": {
   "codemirror_mode": {
    "name": "ipython",
    "version": 3
   },
   "file_extension": ".py",
   "mimetype": "text/x-python",
   "name": "python",
   "nbconvert_exporter": "python",
   "pygments_lexer": "ipython3",
   "version": "3.8.8"
  }
 },
 "nbformat": 4,
 "nbformat_minor": 5
}
