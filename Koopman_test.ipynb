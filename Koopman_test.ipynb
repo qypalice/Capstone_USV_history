{
 "cells": [
  {
   "cell_type": "code",
   "execution_count": 1,
   "id": "e227cb28",
   "metadata": {},
   "outputs": [],
   "source": [
    "import os\n",
    "os.environ[\"KMP_DUPLICATE_LIB_OK\"]=\"TRUE\"\n",
    "from data_loader import produce_dataset, get_dataloaders\n",
    "from train import *\n",
    "from test import *\n",
    "from model_nn import Koopman\n",
    "import numpy as np\n",
    "import torch\n",
    "initial_out = sys.stdout"
   ]
  },
  {
   "cell_type": "markdown",
   "id": "8269913a",
   "metadata": {},
   "source": [
    "## Dataset generation"
   ]
  },
  {
   "cell_type": "code",
   "execution_count": 2,
   "id": "09b7b5eb",
   "metadata": {
    "scrolled": false
   },
   "outputs": [
    {
     "name": "stderr",
     "output_type": "stream",
     "text": [
      " 39%|███▉      | 47/120 [00:00<00:00, 234.53it/s]"
     ]
    },
    {
     "name": "stdout",
     "output_type": "stream",
     "text": [
      "Start simulating...\n"
     ]
    },
    {
     "name": "stderr",
     "output_type": "stream",
     "text": [
      "100%|██████████| 120/120 [00:00<00:00, 247.56it/s]\n",
      "100%|██████████| 40/40 [00:00<00:00, 257.05it/s]\n",
      "100%|██████████| 40/40 [00:00<00:00, 260.38it/s]"
     ]
    },
    {
     "name": "stdout",
     "output_type": "stream",
     "text": [
      "\n",
      "Dataset produced.\n",
      "Dataset saved.\n",
      "./dataset/x-[0.1 0.1 0.1 0.5 0.5 1.5]_u-[0.1 0.1 0.1]_1.0x200_Ts_0.01\n"
     ]
    },
    {
     "name": "stderr",
     "output_type": "stream",
     "text": [
      "\n"
     ]
    }
   ],
   "source": [
    "# create dataset (optional)\n",
    "x_range = np.array([0.1,0.1,0.1,0.5,0.5,1.5])\n",
    "u_range = np.array([0.1,0.1,0.1])\n",
    "SimLength=100\n",
    "Ntraj = 200\n",
    "Ts=0.01\n",
    "path = produce_dataset(x_range,u_range,SimLength,Ntraj,Ts)\n",
    "sys.stdout = initial_out\n",
    "print(path)"
   ]
  },
  {
   "cell_type": "markdown",
   "id": "37cb04c0",
   "metadata": {},
   "source": [
    "## Model training"
   ]
  },
  {
   "cell_type": "markdown",
   "id": "8a506f06",
   "metadata": {},
   "source": [
    "### Preparation"
   ]
  },
  {
   "cell_type": "code",
   "execution_count": 1,
   "id": "325d5dcc",
   "metadata": {},
   "outputs": [],
   "source": [
    "import os\n",
    "os.environ[\"KMP_DUPLICATE_LIB_OK\"]=\"TRUE\"\n",
    "from data_loader import produce_dataset, get_dataloaders\n",
    "from train import *\n",
    "from test import *\n",
    "from model_nn import Koopman\n",
    "import numpy as np\n",
    "import torch\n",
    "initial_out = sys.stdout\n",
    "# get dataloaders\n",
    "path = './dataset/x-[0.1 0.1 0.1 0.5 0.5 1.5]_u-[0.1 0.1 0.1]_1.0x200_Ts_0.01'\n",
    "train_loader, val_loader, test_loader = get_dataloaders(path)\n",
    "# trainers parameter setting\n",
    "device = \"cuda:0\" if torch.cuda.is_available() else \"cpu\""
   ]
  },
  {
   "cell_type": "markdown",
   "id": "7b0a3e72",
   "metadata": {},
   "source": [
    "### Initial baseline - from paper"
   ]
  },
  {
   "cell_type": "code",
   "execution_count": 2,
   "id": "1761dc9e",
   "metadata": {},
   "outputs": [
    {
     "name": "stderr",
     "output_type": "stream",
     "text": [
      "\r",
      "  0%|          | 0/120 [00:00<?, ?it/s]"
     ]
    },
    {
     "name": "stdout",
     "output_type": "stream",
     "text": [
      "Trainer created.\n"
     ]
    },
    {
     "name": "stderr",
     "output_type": "stream",
     "text": [
      "Epoch 0: 100%|██████████| 120/120 [00:31<00:00,  3.78it/s, loss=1.396]\n",
      "Epoch 1: 100%|██████████| 120/120 [00:31<00:00,  3.84it/s, loss=1.323]\n",
      "Epoch 2: 100%|██████████| 120/120 [00:31<00:00,  3.80it/s, loss=1.323]\n",
      "Epoch 3: 100%|██████████| 120/120 [00:31<00:00,  3.77it/s, loss=1.323]\n",
      "Epoch 4: 100%|██████████| 120/120 [00:31<00:00,  3.83it/s, loss=1.323]\n",
      "Epoch 5: 100%|██████████| 120/120 [00:30<00:00,  3.89it/s, loss=1.323]\n",
      "Epoch 6: 100%|██████████| 120/120 [00:31<00:00,  3.82it/s, loss=1.322]\n",
      "Epoch 7: 100%|██████████| 120/120 [00:31<00:00,  3.83it/s, loss=1.322]\n",
      "Epoch 8: 100%|██████████| 120/120 [00:31<00:00,  3.86it/s, loss=1.322]\n",
      "Epoch 9: 100%|██████████| 120/120 [00:31<00:00,  3.83it/s, loss=1.322]\n"
     ]
    },
    {
     "data": {
      "image/png": "[encoded data removed]",
      "text/plain": [
       "<Figure size 432x288 with 1 Axes>"
      ]
     },
     "metadata": {
      "needs_background": "light"
     },
     "output_type": "display_data"
    },
    {
     "name": "stderr",
     "output_type": "stream",
     "text": [
      "100%|██████████| 40/40 [00:03<00:00, 11.69it/s]"
     ]
    },
    {
     "name": "stdout",
     "output_type": "stream",
     "text": [
      "\n",
      "Loss score: 1.1944572083652019.\n"
     ]
    },
    {
     "name": "stderr",
     "output_type": "stream",
     "text": [
      "\n"
     ]
    }
   ],
   "source": [
    "# create trainer\n",
    "model = Koopman(hidden_layer=2)\n",
    "hyper = [1.0,1.0,0.3,0.000000001,0.000000001,0.000000001,40]\n",
    "loss_function = Loss(hyper[0], hyper[1], hyper[2], hyper[3], hyper[4], hyper[5], hyper[6])\n",
    "\n",
    "# start training\n",
    "file_name = train_the_model(device, model, loss_function, train_loader, val_loader, hyper, hidden_layer = 2, epochs=10)\n",
    "plot_learning_curve(file_name)\n",
    "\n",
    "# get test result\n",
    "test_the_model(test_loader, model, loss_function, file_name)"
   ]
  },
  {
   "cell_type": "markdown",
   "id": "f240e6e7",
   "metadata": {},
   "source": [
    "### Varying length"
   ]
  },
  {
   "cell_type": "code",
   "execution_count": 4,
   "id": "3704579c",
   "metadata": {},
   "outputs": [
    {
     "name": "stderr",
     "output_type": "stream",
     "text": [
      "\r",
      "  0%|          | 0/120 [00:00<?, ?it/s]"
     ]
    },
    {
     "name": "stdout",
     "output_type": "stream",
     "text": [
      "Trainer created.\n"
     ]
    },
    {
     "name": "stderr",
     "output_type": "stream",
     "text": [
      "Epoch 0: 100%|██████████| 120/120 [00:17<00:00,  6.99it/s, loss=1.345]\n",
      "Epoch 1: 100%|██████████| 120/120 [00:16<00:00,  7.11it/s, loss=1.229]\n",
      "Epoch 2: 100%|██████████| 120/120 [00:16<00:00,  7.11it/s, loss=1.222]\n",
      "Epoch 3: 100%|██████████| 120/120 [00:17<00:00,  7.05it/s, loss=1.219]\n",
      "Epoch 4: 100%|██████████| 120/120 [00:16<00:00,  7.19it/s, loss=1.218]\n",
      "Epoch 5: 100%|██████████| 120/120 [00:16<00:00,  7.10it/s, loss=1.218]\n",
      "Epoch 6: 100%|██████████| 120/120 [00:16<00:00,  7.14it/s, loss=1.218]\n",
      "Epoch 7: 100%|██████████| 120/120 [00:16<00:00,  7.18it/s, loss=1.218]\n",
      "Epoch 8: 100%|██████████| 120/120 [00:16<00:00,  7.12it/s, loss=1.218]\n",
      "Epoch 9: 100%|██████████| 120/120 [00:16<00:00,  7.09it/s, loss=1.218]\n",
      "Epoch 10: 100%|██████████| 120/120 [00:17<00:00,  6.94it/s, loss=1.218]\n",
      "Epoch 11: 100%|██████████| 120/120 [00:17<00:00,  6.99it/s, loss=1.218]\n",
      "Epoch 12: 100%|██████████| 120/120 [00:16<00:00,  7.09it/s, loss=1.218]\n",
      "Epoch 13: 100%|██████████| 120/120 [00:16<00:00,  7.08it/s, loss=1.218]\n",
      "Epoch 14: 100%|██████████| 120/120 [00:17<00:00,  7.04it/s, loss=1.218]\n",
      "Epoch 15: 100%|██████████| 120/120 [00:17<00:00,  7.01it/s, loss=1.218]\n",
      "Epoch 16: 100%|██████████| 120/120 [00:17<00:00,  7.02it/s, loss=1.218]\n",
      "Epoch 17: 100%|██████████| 120/120 [00:16<00:00,  7.09it/s, loss=1.218]\n",
      "Epoch 18: 100%|██████████| 120/120 [00:16<00:00,  7.08it/s, loss=1.218]\n",
      "Epoch 19: 100%|██████████| 120/120 [00:16<00:00,  7.10it/s, loss=1.218]\n"
     ]
    },
    {
     "data": {
      "image/png": "[encoded data removed]",
      "text/plain": [
       "<Figure size 432x288 with 1 Axes>"
      ]
     },
     "metadata": {
      "needs_background": "light"
     },
     "output_type": "display_data"
    },
    {
     "name": "stdout",
     "output_type": "stream",
     "text": [
      "Loss score: 1.2493099546059967.\n"
     ]
    }
   ],
   "source": [
    "# create trainer\n",
    "model1 = Koopman(hidden_layer=2)\n",
    "hyper = [1.0,1.0,0.3,0.000000001,0.0000000001,0.000000001,20]\n",
    "loss_function = Loss(hyper[0], hyper[1], hyper[2], hyper[3], hyper[4], hyper[5], hyper[6])\n",
    "\n",
    "# start training\n",
    "file_name = train_the_model(device, model1, loss_function, train_loader, val_loader, hyper, hidden_layer = 2, epochs=20)\n",
    "plot_learning_curve(file_name)\n",
    "\n",
    "# get test result\n",
    "test_the_model(test_loader, model1, loss_function, file_name)"
   ]
  },
  {
   "cell_type": "code",
   "execution_count": 5,
   "id": "3e74aac1",
   "metadata": {},
   "outputs": [
    {
     "name": "stderr",
     "output_type": "stream",
     "text": [
      "\r",
      "  0%|          | 0/120 [00:00<?, ?it/s]"
     ]
    },
    {
     "name": "stdout",
     "output_type": "stream",
     "text": [
      "Trainer created.\n"
     ]
    },
    {
     "name": "stderr",
     "output_type": "stream",
     "text": [
      "Epoch 0: 100%|██████████| 120/120 [00:43<00:00,  2.79it/s, loss=1.280]\n",
      "Epoch 1: 100%|██████████| 120/120 [00:43<00:00,  2.78it/s, loss=1.225]\n",
      "Epoch 2: 100%|██████████| 120/120 [00:43<00:00,  2.78it/s, loss=1.224]\n",
      "Epoch 3: 100%|██████████| 120/120 [00:42<00:00,  2.80it/s, loss=1.224]\n",
      "Epoch 4: 100%|██████████| 120/120 [00:42<00:00,  2.79it/s, loss=1.224]\n",
      "Epoch 5: 100%|██████████| 120/120 [00:42<00:00,  2.80it/s, loss=1.224]\n",
      "Epoch 6: 100%|██████████| 120/120 [00:42<00:00,  2.83it/s, loss=1.224]\n",
      "Epoch 7: 100%|██████████| 120/120 [00:43<00:00,  2.79it/s, loss=1.224]\n",
      "Epoch 8: 100%|██████████| 120/120 [00:42<00:00,  2.82it/s, loss=1.224]\n",
      "Epoch 9: 100%|██████████| 120/120 [00:42<00:00,  2.81it/s, loss=1.224]\n",
      "Epoch 10: 100%|██████████| 120/120 [00:42<00:00,  2.80it/s, loss=1.224]\n",
      "Epoch 11: 100%|██████████| 120/120 [00:43<00:00,  2.77it/s, loss=1.224]\n",
      "Epoch 12: 100%|██████████| 120/120 [00:42<00:00,  2.80it/s, loss=1.224]\n",
      "Epoch 13: 100%|██████████| 120/120 [00:42<00:00,  2.79it/s, loss=1.224]\n",
      "Epoch 14: 100%|██████████| 120/120 [00:43<00:00,  2.78it/s, loss=1.224]\n",
      "Epoch 15: 100%|██████████| 120/120 [00:43<00:00,  2.78it/s, loss=1.224]\n",
      "Epoch 16: 100%|██████████| 120/120 [00:42<00:00,  2.84it/s, loss=1.224]\n",
      "Epoch 17: 100%|██████████| 120/120 [00:42<00:00,  2.82it/s, loss=1.224]\n",
      "Epoch 18: 100%|██████████| 120/120 [00:42<00:00,  2.82it/s, loss=1.224]\n",
      "Epoch 19: 100%|██████████| 120/120 [00:43<00:00,  2.77it/s, loss=1.224]\n"
     ]
    },
    {
     "data": {
      "image/png": "[encoded data removed]",
      "text/plain": [
       "<Figure size 432x288 with 1 Axes>"
      ]
     },
     "metadata": {
      "needs_background": "light"
     },
     "output_type": "display_data"
    },
    {
     "name": "stdout",
     "output_type": "stream",
     "text": [
      "Loss score: 1.2576313875615597.\n"
     ]
    }
   ],
   "source": [
    "# create trainer\n",
    "model2 = Koopman(hidden_layer=2)\n",
    "hyper = [1.0,1.0,0.3,0.000000001,0.0000000001,0.000000001,60]\n",
    "loss_function = Loss(hyper[0], hyper[1], hyper[2], hyper[3], hyper[4], hyper[5], hyper[6])\n",
    "\n",
    "# start training\n",
    "file_name = train_the_model(device, model2, loss_function, train_loader, val_loader, hyper, hidden_layer = 2, epochs=20)\n",
    "plot_learning_curve(file_name)\n",
    "\n",
    "# get test result\n",
    "test_the_model(test_loader, model2, loss_function, file_name)"
   ]
  },
  {
   "cell_type": "markdown",
   "id": "ab16f681",
   "metadata": {},
   "source": [
    "### Varing regularisation"
   ]
  },
  {
   "cell_type": "code",
   "execution_count": 8,
   "id": "9b1eb14f",
   "metadata": {},
   "outputs": [
    {
     "name": "stderr",
     "output_type": "stream",
     "text": [
      "\r",
      "  0%|          | 0/120 [00:00<?, ?it/s]"
     ]
    },
    {
     "name": "stdout",
     "output_type": "stream",
     "text": [
      "Trainer created.\n"
     ]
    },
    {
     "name": "stderr",
     "output_type": "stream",
     "text": [
      "Epoch 0: 100%|██████████| 120/120 [00:39<00:00,  3.04it/s, loss=1.348]\n",
      "Epoch 1: 100%|██████████| 120/120 [00:30<00:00,  3.91it/s, loss=1.229]\n",
      "Epoch 2: 100%|██████████| 120/120 [00:30<00:00,  3.94it/s, loss=1.224]\n",
      "Epoch 3: 100%|██████████| 120/120 [00:30<00:00,  3.91it/s, loss=1.225]\n",
      "Epoch 4: 100%|██████████| 120/120 [00:30<00:00,  3.88it/s, loss=1.222]\n",
      "Epoch 5: 100%|██████████| 120/120 [00:30<00:00,  3.92it/s, loss=1.221]\n",
      "Epoch 6: 100%|██████████| 120/120 [00:30<00:00,  4.00it/s, loss=1.221]\n",
      "Epoch 7: 100%|██████████| 120/120 [00:30<00:00,  3.94it/s, loss=1.221]\n",
      "Epoch 8: 100%|██████████| 120/120 [00:30<00:00,  4.00it/s, loss=1.221]\n",
      "Epoch 9: 100%|██████████| 120/120 [00:30<00:00,  3.97it/s, loss=1.221]\n",
      "Epoch 10: 100%|██████████| 120/120 [00:30<00:00,  3.97it/s, loss=1.221]\n",
      "Epoch 11: 100%|██████████| 120/120 [00:30<00:00,  3.96it/s, loss=1.221]\n",
      "Epoch 12: 100%|██████████| 120/120 [00:30<00:00,  3.98it/s, loss=1.221]\n",
      "Epoch 13: 100%|██████████| 120/120 [00:30<00:00,  3.99it/s, loss=1.221]\n",
      "Epoch 14: 100%|██████████| 120/120 [00:30<00:00,  3.94it/s, loss=1.221]\n",
      "Epoch 15: 100%|██████████| 120/120 [00:30<00:00,  3.94it/s, loss=1.221]\n",
      "Epoch 16: 100%|██████████| 120/120 [00:30<00:00,  3.96it/s, loss=1.221]\n",
      "Epoch 17: 100%|██████████| 120/120 [00:29<00:00,  4.01it/s, loss=1.221]\n",
      "Epoch 18: 100%|██████████| 120/120 [00:30<00:00,  3.98it/s, loss=1.221]\n",
      "Epoch 19: 100%|██████████| 120/120 [00:30<00:00,  3.97it/s, loss=1.221]\n"
     ]
    },
    {
     "data": {
      "image/png": "[encoded data removed]",
      "text/plain": [
       "<Figure size 432x288 with 1 Axes>"
      ]
     },
     "metadata": {
      "needs_background": "light"
     },
     "output_type": "display_data"
    },
    {
     "name": "stdout",
     "output_type": "stream",
     "text": [
      "Loss score: 1.253273893939331.\n"
     ]
    }
   ],
   "source": [
    "# create trainer\n",
    "model3 = Koopman(hidden_layer=2)\n",
    "hyper = [1.0,1.0,0.3,0.0000000001,0.00000000001,0.0000000001,40]\n",
    "loss_function = Loss(hyper[0], hyper[1], hyper[2], hyper[3], hyper[4], hyper[5], hyper[6])\n",
    "\n",
    "# start training\n",
    "file_name = train_the_model(device, model3, loss_function, train_loader, val_loader, hyper, hidden_layer = 2, epochs=20)\n",
    "plot_learning_curve(file_name)\n",
    "\n",
    "# get test result\n",
    "test_the_model(test_loader, model3, loss_function, file_name)"
   ]
  },
  {
   "cell_type": "code",
   "execution_count": 9,
   "id": "70978f6c",
   "metadata": {},
   "outputs": [
    {
     "name": "stderr",
     "output_type": "stream",
     "text": [
      "\r",
      "  0%|          | 0/120 [00:00<?, ?it/s]"
     ]
    },
    {
     "name": "stdout",
     "output_type": "stream",
     "text": [
      "Trainer created.\n"
     ]
    },
    {
     "name": "stderr",
     "output_type": "stream",
     "text": [
      "Epoch 0: 100%|██████████| 120/120 [00:30<00:00,  3.95it/s, loss=1.361]\n",
      "Epoch 1: 100%|██████████| 120/120 [00:30<00:00,  3.98it/s, loss=1.222]\n",
      "Epoch 2: 100%|██████████| 120/120 [00:29<00:00,  4.08it/s, loss=1.221]\n",
      "Epoch 3: 100%|██████████| 120/120 [00:29<00:00,  4.10it/s, loss=1.221]\n",
      "Epoch 4: 100%|██████████| 120/120 [00:29<00:00,  4.10it/s, loss=1.221]\n",
      "Epoch 5: 100%|██████████| 120/120 [00:29<00:00,  4.06it/s, loss=1.221]\n",
      "Epoch 6: 100%|██████████| 120/120 [00:29<00:00,  4.01it/s, loss=1.221]\n",
      "Epoch 7: 100%|██████████| 120/120 [00:29<00:00,  4.06it/s, loss=1.221]\n",
      "Epoch 8: 100%|██████████| 120/120 [00:29<00:00,  4.03it/s, loss=1.221]\n",
      "Epoch 9: 100%|██████████| 120/120 [00:29<00:00,  4.06it/s, loss=1.221]\n",
      "Epoch 10: 100%|██████████| 120/120 [00:29<00:00,  4.09it/s, loss=1.221]\n",
      "Epoch 11: 100%|██████████| 120/120 [00:29<00:00,  4.02it/s, loss=1.221]\n",
      "Epoch 12: 100%|██████████| 120/120 [00:29<00:00,  4.08it/s, loss=1.221]\n",
      "Epoch 13: 100%|██████████| 120/120 [00:29<00:00,  4.10it/s, loss=1.221]\n",
      "Epoch 14: 100%|██████████| 120/120 [00:29<00:00,  4.02it/s, loss=1.221]\n",
      "Epoch 15: 100%|██████████| 120/120 [00:29<00:00,  4.05it/s, loss=1.221]\n",
      "Epoch 16: 100%|██████████| 120/120 [00:29<00:00,  4.06it/s, loss=1.221]\n",
      "Epoch 17: 100%|██████████| 120/120 [00:29<00:00,  4.00it/s, loss=1.221]\n",
      "Epoch 18: 100%|██████████| 120/120 [00:29<00:00,  4.02it/s, loss=1.221]\n",
      "Epoch 19: 100%|██████████| 120/120 [00:29<00:00,  4.03it/s, loss=1.221]\n"
     ]
    },
    {
     "data": {
      "image/png": "[encoded data removed]",
      "text/plain": [
       "<Figure size 432x288 with 1 Axes>"
      ]
     },
     "metadata": {
      "needs_background": "light"
     },
     "output_type": "display_data"
    },
    {
     "name": "stdout",
     "output_type": "stream",
     "text": [
      "Loss score: 1.2532647669315338.\n"
     ]
    }
   ],
   "source": [
    "# create trainer\n",
    "model4 = Koopman(hidden_layer=2)\n",
    "hyper = [1.0,1.0,0.3,0.00000001,0.000000001,0.00000001,40]\n",
    "loss_function = Loss(hyper[0], hyper[1], hyper[2], hyper[3], hyper[4], hyper[5], hyper[6])\n",
    "\n",
    "# start training\n",
    "file_name = train_the_model(device, model4, loss_function, train_loader, val_loader, hyper, hidden_layer = 2, epochs=20)\n",
    "plot_learning_curve(file_name)\n",
    "\n",
    "# get test result\n",
    "test_the_model(test_loader, model4, loss_function, file_name)"
   ]
  },
  {
   "cell_type": "markdown",
   "id": "4bffc145",
   "metadata": {},
   "source": [
    "### Varying different loss"
   ]
  },
  {
   "cell_type": "code",
   "execution_count": 10,
   "id": "f7807701",
   "metadata": {},
   "outputs": [
    {
     "name": "stderr",
     "output_type": "stream",
     "text": [
      "\r",
      "  0%|          | 0/120 [00:00<?, ?it/s]"
     ]
    },
    {
     "name": "stdout",
     "output_type": "stream",
     "text": [
      "Trainer created.\n"
     ]
    },
    {
     "name": "stderr",
     "output_type": "stream",
     "text": [
      "Epoch 0: 100%|██████████| 120/120 [00:29<00:00,  4.12it/s, loss=1.957]\n",
      "Epoch 1: 100%|██████████| 120/120 [00:29<00:00,  4.03it/s, loss=1.879]\n",
      "Epoch 2: 100%|██████████| 120/120 [00:29<00:00,  4.06it/s, loss=1.878]\n",
      "Epoch 3: 100%|██████████| 120/120 [00:29<00:00,  4.09it/s, loss=1.878]\n",
      "Epoch 4: 100%|██████████| 120/120 [00:29<00:00,  4.02it/s, loss=1.878]\n",
      "Epoch 5: 100%|██████████| 120/120 [00:30<00:00,  3.99it/s, loss=1.878]\n",
      "Epoch 6: 100%|██████████| 120/120 [00:29<00:00,  4.10it/s, loss=1.878]\n",
      "Epoch 7: 100%|██████████| 120/120 [00:29<00:00,  4.02it/s, loss=1.878]\n",
      "Epoch 8: 100%|██████████| 120/120 [00:29<00:00,  4.10it/s, loss=1.878]\n",
      "Epoch 9: 100%|██████████| 120/120 [00:29<00:00,  4.04it/s, loss=1.878]\n",
      "Epoch 10: 100%|██████████| 120/120 [00:29<00:00,  4.02it/s, loss=1.878]\n",
      "Epoch 11: 100%|██████████| 120/120 [00:30<00:00,  3.97it/s, loss=1.878]\n",
      "Epoch 12: 100%|██████████| 120/120 [00:29<00:00,  4.03it/s, loss=1.878]\n",
      "Epoch 13: 100%|██████████| 120/120 [00:30<00:00,  4.00it/s, loss=1.878]\n",
      "Epoch 14: 100%|██████████| 120/120 [00:29<00:00,  4.08it/s, loss=1.878]\n",
      "Epoch 15: 100%|██████████| 120/120 [00:29<00:00,  4.05it/s, loss=1.878]\n",
      "Epoch 16: 100%|██████████| 120/120 [00:29<00:00,  4.06it/s, loss=1.878]\n",
      "Epoch 17: 100%|██████████| 120/120 [00:29<00:00,  4.05it/s, loss=1.878]\n",
      "Epoch 18: 100%|██████████| 120/120 [00:29<00:00,  4.02it/s, loss=1.878]\n",
      "Epoch 19: 100%|██████████| 120/120 [00:29<00:00,  4.07it/s, loss=1.878]\n"
     ]
    },
    {
     "data": {
      "image/png": "[encoded data removed]",
      "text/plain": [
       "<Figure size 432x288 with 1 Axes>"
      ]
     },
     "metadata": {
      "needs_background": "light"
     },
     "output_type": "display_data"
    },
    {
     "name": "stdout",
     "output_type": "stream",
     "text": [
      "Loss score: 1.9281162098050117.\n"
     ]
    }
   ],
   "source": [
    "# create trainer\n",
    "model5 = Koopman(hidden_layer=2)\n",
    "hyper = [1.0,1.0,1.0,0.00000001,0.000000001,0.00000001,40]\n",
    "loss_function = Loss(hyper[0], hyper[1], hyper[2], hyper[3], hyper[4], hyper[5], hyper[6])\n",
    "\n",
    "# start training\n",
    "file_name = train_the_model(device, model5, loss_function, train_loader, val_loader, hyper, hidden_layer = 2, epochs=20)\n",
    "plot_learning_curve(file_name)\n",
    "\n",
    "# get test result\n",
    "test_the_model(test_loader, model5, loss_function, file_name)"
   ]
  },
  {
   "cell_type": "code",
   "execution_count": 11,
   "id": "cc50ec15",
   "metadata": {},
   "outputs": [
    {
     "name": "stderr",
     "output_type": "stream",
     "text": [
      "\r",
      "  0%|          | 0/120 [00:00<?, ?it/s]"
     ]
    },
    {
     "name": "stdout",
     "output_type": "stream",
     "text": [
      "Trainer created.\n"
     ]
    },
    {
     "name": "stderr",
     "output_type": "stream",
     "text": [
      "Epoch 0: 100%|██████████| 120/120 [00:30<00:00,  4.00it/s, loss=1.135]\n",
      "Epoch 1: 100%|██████████| 120/120 [00:29<00:00,  4.02it/s, loss=1.042]\n",
      "Epoch 2: 100%|██████████| 120/120 [00:29<00:00,  4.06it/s, loss=1.033]\n",
      "Epoch 3: 100%|██████████| 120/120 [00:29<00:00,  4.09it/s, loss=1.033]\n",
      "Epoch 4: 100%|██████████| 120/120 [00:29<00:00,  4.07it/s, loss=1.033]\n",
      "Epoch 5: 100%|██████████| 120/120 [00:29<00:00,  4.09it/s, loss=1.033]\n",
      "Epoch 6: 100%|██████████| 120/120 [00:30<00:00,  3.96it/s, loss=1.033]\n",
      "Epoch 7: 100%|██████████| 120/120 [00:30<00:00,  3.97it/s, loss=1.033]\n",
      "Epoch 8: 100%|██████████| 120/120 [00:29<00:00,  4.04it/s, loss=1.033]\n",
      "Epoch 9: 100%|██████████| 120/120 [00:30<00:00,  3.97it/s, loss=1.033]\n",
      "Epoch 10: 100%|██████████| 120/120 [00:30<00:00,  3.99it/s, loss=1.033]\n",
      "Epoch 11: 100%|██████████| 120/120 [00:30<00:00,  3.95it/s, loss=1.033]\n",
      "Epoch 12: 100%|██████████| 120/120 [00:30<00:00,  3.93it/s, loss=1.033]\n",
      "Epoch 13: 100%|██████████| 120/120 [00:29<00:00,  4.00it/s, loss=1.033]\n",
      "Epoch 14: 100%|██████████| 120/120 [00:30<00:00,  3.97it/s, loss=1.033]\n",
      "Epoch 15: 100%|██████████| 120/120 [00:30<00:00,  3.95it/s, loss=1.033]\n",
      "Epoch 16: 100%|██████████| 120/120 [00:30<00:00,  3.93it/s, loss=1.033]\n",
      "Epoch 17: 100%|██████████| 120/120 [00:30<00:00,  3.94it/s, loss=1.033]\n",
      "Epoch 18: 100%|██████████| 120/120 [00:30<00:00,  3.99it/s, loss=1.033]\n",
      "Epoch 19: 100%|██████████| 120/120 [00:30<00:00,  3.87it/s, loss=1.033]\n"
     ]
    },
    {
     "data": {
      "image/png": "[encoded data removed]",
      "text/plain": [
       "<Figure size 432x288 with 1 Axes>"
      ]
     },
     "metadata": {
      "needs_background": "light"
     },
     "output_type": "display_data"
    },
    {
     "name": "stdout",
     "output_type": "stream",
     "text": [
      "Loss score: 1.060486932238564.\n"
     ]
    }
   ],
   "source": [
    "# create trainer\n",
    "model6 = Koopman(hidden_layer=2)\n",
    "hyper = [1.0,1.0,0.1,0.00000001,0.000000001,0.00000001,40]\n",
    "loss_function = Loss(hyper[0], hyper[1], hyper[2], hyper[3], hyper[4], hyper[5], hyper[6])\n",
    "\n",
    "# start training\n",
    "file_name = train_the_model(device, model6, loss_function, train_loader, val_loader, hyper, hidden_layer = 2, epochs=20)\n",
    "plot_learning_curve(file_name)\n",
    "\n",
    "# get test result\n",
    "test_the_model(test_loader, model6, loss_function, file_name)"
   ]
  },
  {
   "cell_type": "code",
   "execution_count": 12,
   "id": "4a2dd422",
   "metadata": {},
   "outputs": [
    {
     "name": "stderr",
     "output_type": "stream",
     "text": [
      "\r",
      "  0%|          | 0/120 [00:00<?, ?it/s]"
     ]
    },
    {
     "name": "stdout",
     "output_type": "stream",
     "text": [
      "Trainer created.\n"
     ]
    },
    {
     "name": "stderr",
     "output_type": "stream",
     "text": [
      "Epoch 0: 100%|██████████| 120/120 [00:30<00:00,  3.99it/s, loss=0.786]\n",
      "Epoch 1: 100%|██████████| 120/120 [00:29<00:00,  4.01it/s, loss=0.751]\n",
      "Epoch 2: 100%|██████████| 120/120 [00:30<00:00,  4.00it/s, loss=0.751]\n",
      "Epoch 3: 100%|██████████| 120/120 [00:30<00:00,  3.98it/s, loss=0.751]\n",
      "Epoch 4: 100%|██████████| 120/120 [00:29<00:00,  4.00it/s, loss=0.751]\n",
      "Epoch 5: 100%|██████████| 120/120 [00:30<00:00,  3.95it/s, loss=0.751]\n",
      "Epoch 6: 100%|██████████| 120/120 [00:30<00:00,  3.97it/s, loss=0.751]\n",
      "Epoch 7: 100%|██████████| 120/120 [00:30<00:00,  3.91it/s, loss=0.751]\n",
      "Epoch 8: 100%|██████████| 120/120 [00:30<00:00,  3.91it/s, loss=0.751]\n",
      "Epoch 9: 100%|██████████| 120/120 [00:30<00:00,  3.90it/s, loss=0.751]\n",
      "Epoch 10: 100%|██████████| 120/120 [00:30<00:00,  3.90it/s, loss=0.751]\n",
      "Epoch 11: 100%|██████████| 120/120 [00:30<00:00,  3.93it/s, loss=0.751]\n",
      "Epoch 12: 100%|██████████| 120/120 [00:30<00:00,  3.96it/s, loss=0.751]\n",
      "Epoch 13: 100%|██████████| 120/120 [00:30<00:00,  3.95it/s, loss=0.751]\n",
      "Epoch 14: 100%|██████████| 120/120 [00:30<00:00,  3.98it/s, loss=0.751]\n",
      "Epoch 15: 100%|██████████| 120/120 [00:30<00:00,  3.99it/s, loss=0.751]\n",
      "Epoch 16: 100%|██████████| 120/120 [00:30<00:00,  3.93it/s, loss=0.751]\n",
      "Epoch 17: 100%|██████████| 120/120 [00:30<00:00,  3.90it/s, loss=0.751]\n",
      "Epoch 18: 100%|██████████| 120/120 [00:30<00:00,  3.96it/s, loss=0.751]\n",
      "Epoch 19: 100%|██████████| 120/120 [00:31<00:00,  3.83it/s, loss=0.751]\n"
     ]
    },
    {
     "data": {
      "image/png": "[encoded data removed]",
      "text/plain": [
       "<Figure size 432x288 with 1 Axes>"
      ]
     },
     "metadata": {
      "needs_background": "light"
     },
     "output_type": "display_data"
    },
    {
     "name": "stdout",
     "output_type": "stream",
     "text": [
      "Loss score: 0.7712405268568545.\n"
     ]
    }
   ],
   "source": [
    "# create trainer\n",
    "model7 = Koopman(hidden_layer=2)\n",
    "hyper = [0.5,0.5,0.3,0.00000001,0.000000001,0.00000001,40]\n",
    "loss_function = Loss(hyper[0], hyper[1], hyper[2], hyper[3], hyper[4], hyper[5], hyper[6])\n",
    "\n",
    "# start training\n",
    "file_name = train_the_model(device, model7, loss_function, train_loader, val_loader, hyper, hidden_layer = 2, epochs=20)\n",
    "plot_learning_curve(file_name)\n",
    "\n",
    "# get test result\n",
    "test_the_model(test_loader, model7, loss_function, file_name)"
   ]
  },
  {
   "cell_type": "code",
   "execution_count": 13,
   "id": "c850bed6",
   "metadata": {},
   "outputs": [
    {
     "name": "stderr",
     "output_type": "stream",
     "text": [
      "\r",
      "  0%|          | 0/120 [00:00<?, ?it/s]"
     ]
    },
    {
     "name": "stdout",
     "output_type": "stream",
     "text": [
      "Trainer created.\n"
     ]
    },
    {
     "name": "stderr",
     "output_type": "stream",
     "text": [
      "Epoch 0: 100%|██████████| 120/120 [00:30<00:00,  3.95it/s, loss=2.289]\n",
      "Epoch 1: 100%|██████████| 120/120 [00:30<00:00,  3.88it/s, loss=2.163]\n",
      "Epoch 2: 100%|██████████| 120/120 [00:30<00:00,  3.87it/s, loss=2.160]\n",
      "Epoch 3: 100%|██████████| 120/120 [00:31<00:00,  3.86it/s, loss=2.160]\n",
      "Epoch 4: 100%|██████████| 120/120 [00:30<00:00,  3.93it/s, loss=2.160]\n",
      "Epoch 5: 100%|██████████| 120/120 [00:30<00:00,  3.89it/s, loss=2.160]\n",
      "Epoch 6: 100%|██████████| 120/120 [00:30<00:00,  3.89it/s, loss=2.160]\n",
      "Epoch 7: 100%|██████████| 120/120 [00:30<00:00,  3.90it/s, loss=2.160]\n",
      "Epoch 8: 100%|██████████| 120/120 [00:29<00:00,  4.00it/s, loss=2.159]\n",
      "Epoch 9: 100%|██████████| 120/120 [00:30<00:00,  3.98it/s, loss=2.159]\n",
      "Epoch 10: 100%|██████████| 120/120 [00:30<00:00,  3.97it/s, loss=2.159]\n",
      "Epoch 11: 100%|██████████| 120/120 [00:30<00:00,  3.95it/s, loss=2.159]\n",
      "Epoch 12: 100%|██████████| 120/120 [00:30<00:00,  3.96it/s, loss=2.159]\n",
      "Epoch 13: 100%|██████████| 120/120 [00:30<00:00,  3.91it/s, loss=2.159]\n",
      "Epoch 14: 100%|██████████| 120/120 [00:30<00:00,  3.99it/s, loss=2.159]\n",
      "Epoch 15: 100%|██████████| 120/120 [00:30<00:00,  3.92it/s, loss=2.159]\n",
      "Epoch 16: 100%|██████████| 120/120 [00:29<00:00,  4.00it/s, loss=2.159]\n",
      "Epoch 17: 100%|██████████| 120/120 [00:30<00:00,  3.99it/s, loss=2.159]\n",
      "Epoch 18: 100%|██████████| 120/120 [00:34<00:00,  3.43it/s, loss=2.159]\n",
      "Epoch 19: 100%|██████████| 120/120 [00:31<00:00,  3.77it/s, loss=2.159]\n"
     ]
    },
    {
     "data": {
      "image/png": "[encoded data removed]",
      "text/plain": [
       "<Figure size 432x288 with 1 Axes>"
      ]
     },
     "metadata": {
      "needs_background": "light"
     },
     "output_type": "display_data"
    },
    {
     "name": "stdout",
     "output_type": "stream",
     "text": [
      "Loss score: 2.2173340413719416.\n"
     ]
    }
   ],
   "source": [
    "# create trainer\n",
    "model8 = Koopman(hidden_layer=2)\n",
    "hyper = [2.0,2.0,0.3,0.00000001,0.000000001,0.00000001,40]\n",
    "loss_function = Loss(hyper[0], hyper[1], hyper[2], hyper[3], hyper[4], hyper[5], hyper[6])\n",
    "\n",
    "# start training\n",
    "file_name = train_the_model(device, model8, loss_function, train_loader, val_loader, hyper, hidden_layer = 2, epochs=20)\n",
    "plot_learning_curve(file_name)\n",
    "\n",
    "# get test result\n",
    "test_the_model(test_loader, model8, loss_function, file_name)"
   ]
  },
  {
   "cell_type": "markdown",
   "id": "f804f6b6",
   "metadata": {},
   "source": [
    "### Change model structure"
   ]
  },
  {
   "cell_type": "markdown",
   "id": "14b91132",
   "metadata": {},
   "source": [
    "#### Varying lifted state"
   ]
  },
  {
   "cell_type": "code",
   "execution_count": 3,
   "id": "00b41eb9",
   "metadata": {},
   "outputs": [
    {
     "name": "stderr",
     "output_type": "stream",
     "text": [
      "\r",
      "  0%|          | 0/120 [00:00<?, ?it/s]"
     ]
    },
    {
     "name": "stdout",
     "output_type": "stream",
     "text": [
      "Trainer created.\n"
     ]
    },
    {
     "name": "stderr",
     "output_type": "stream",
     "text": [
      "Epoch 0: 100%|██████████| 120/120 [00:42<00:00,  2.86it/s, loss=1.335]\n",
      "Epoch 1: 100%|██████████| 120/120 [00:42<00:00,  2.82it/s, loss=1.221]\n",
      "Epoch 2: 100%|██████████| 120/120 [00:41<00:00,  2.92it/s, loss=1.221]\n",
      "Epoch 3: 100%|██████████| 120/120 [00:42<00:00,  2.86it/s, loss=1.221]\n",
      "Epoch 4: 100%|██████████| 120/120 [00:42<00:00,  2.84it/s, loss=1.221]\n",
      "Epoch 5: 100%|██████████| 120/120 [00:41<00:00,  2.87it/s, loss=1.221]\n",
      "Epoch 6: 100%|██████████| 120/120 [00:40<00:00,  2.93it/s, loss=1.221]\n",
      "Epoch 7: 100%|██████████| 120/120 [00:40<00:00,  2.96it/s, loss=1.221]\n",
      "Epoch 8: 100%|██████████| 120/120 [00:39<00:00,  3.04it/s, loss=1.221]\n",
      "Epoch 9: 100%|██████████| 120/120 [00:39<00:00,  3.01it/s, loss=1.221]\n",
      "Epoch 10: 100%|██████████| 120/120 [00:41<00:00,  2.91it/s, loss=1.221]\n",
      "Epoch 11: 100%|██████████| 120/120 [00:40<00:00,  2.96it/s, loss=1.221]\n",
      "Epoch 12: 100%|██████████| 120/120 [00:40<00:00,  2.97it/s, loss=1.221]\n",
      "Epoch 13: 100%|██████████| 120/120 [00:39<00:00,  3.00it/s, loss=1.221]\n",
      "Epoch 14: 100%|██████████| 120/120 [00:39<00:00,  3.04it/s, loss=1.221]\n",
      "Epoch 15: 100%|██████████| 120/120 [00:39<00:00,  3.05it/s, loss=1.221]\n",
      "Epoch 16: 100%|██████████| 120/120 [00:40<00:00,  2.95it/s, loss=1.221]\n",
      "Epoch 17: 100%|██████████| 120/120 [00:40<00:00,  2.99it/s, loss=1.221]\n",
      "Epoch 18: 100%|██████████| 120/120 [00:40<00:00,  2.97it/s, loss=1.221]\n",
      "Epoch 19: 100%|██████████| 120/120 [00:40<00:00,  3.00it/s, loss=1.221]\n"
     ]
    },
    {
     "data": {
      "image/png": "[encoded data removed]",
      "text/plain": [
       "<Figure size 432x288 with 1 Axes>"
      ]
     },
     "metadata": {
      "needs_background": "light"
     },
     "output_type": "display_data"
    },
    {
     "name": "stdout",
     "output_type": "stream",
     "text": [
      "Loss score: 1.253275210876018.\n"
     ]
    }
   ],
   "source": [
    "# create trainer\n",
    "model9 = Koopman(lifted_state = 60, hidden_out=30, hidden_layer=2)\n",
    "hyper = [1.0,1.0,0.3,0.000000001,0.0000000001,0.000000001,40]\n",
    "loss_function = Loss(hyper[0], hyper[1], hyper[2], hyper[3], hyper[4], hyper[5], hyper[6])\n",
    "\n",
    "# start training\n",
    "file_name = train_the_model(device, model9, loss_function, train_loader, val_loader, hyper, hidden_layer = 2, epochs=20)\n",
    "plot_learning_curve(file_name)\n",
    "\n",
    "# get test result\n",
    "test_the_model(test_loader, model9, loss_function, file_name)"
   ]
  },
  {
   "cell_type": "code",
   "execution_count": 6,
   "id": "73eba223",
   "metadata": {},
   "outputs": [
    {
     "name": "stderr",
     "output_type": "stream",
     "text": [
      "\r",
      "  0%|          | 0/120 [00:00<?, ?it/s]"
     ]
    },
    {
     "name": "stdout",
     "output_type": "stream",
     "text": [
      "Trainer created.\n"
     ]
    },
    {
     "name": "stderr",
     "output_type": "stream",
     "text": [
      "Epoch 0: 100%|██████████| 120/120 [00:29<00:00,  4.05it/s, loss=1.303]\n",
      "Epoch 1: 100%|██████████| 120/120 [00:29<00:00,  4.01it/s, loss=1.231]\n",
      "Epoch 2: 100%|██████████| 120/120 [00:29<00:00,  4.01it/s, loss=1.223]\n",
      "Epoch 3: 100%|██████████| 120/120 [00:29<00:00,  4.05it/s, loss=1.221]\n",
      "Epoch 4: 100%|██████████| 120/120 [00:29<00:00,  4.08it/s, loss=1.221]\n",
      "Epoch 5: 100%|██████████| 120/120 [00:30<00:00,  3.99it/s, loss=1.221]\n",
      "Epoch 6: 100%|██████████| 120/120 [00:29<00:00,  4.07it/s, loss=1.221]\n",
      "Epoch 7: 100%|██████████| 120/120 [00:29<00:00,  4.03it/s, loss=1.221]\n",
      "Epoch 8: 100%|██████████| 120/120 [00:29<00:00,  4.04it/s, loss=1.221]\n",
      "Epoch 9: 100%|██████████| 120/120 [00:29<00:00,  4.02it/s, loss=1.221]\n",
      "Epoch 10: 100%|██████████| 120/120 [00:29<00:00,  4.03it/s, loss=1.221]\n",
      "Epoch 11: 100%|██████████| 120/120 [00:30<00:00,  3.97it/s, loss=1.221]\n",
      "Epoch 12: 100%|██████████| 120/120 [00:30<00:00,  4.00it/s, loss=1.221]\n",
      "Epoch 13: 100%|██████████| 120/120 [00:30<00:00,  3.99it/s, loss=1.221]\n",
      "Epoch 14: 100%|██████████| 120/120 [00:29<00:00,  4.00it/s, loss=1.221]\n",
      "Epoch 15: 100%|██████████| 120/120 [00:29<00:00,  4.03it/s, loss=1.221]\n",
      "Epoch 16: 100%|██████████| 120/120 [00:29<00:00,  4.02it/s, loss=1.221]\n",
      "Epoch 17: 100%|██████████| 120/120 [00:29<00:00,  4.03it/s, loss=1.221]\n",
      "Epoch 18: 100%|██████████| 120/120 [00:29<00:00,  4.04it/s, loss=1.221]\n",
      "Epoch 19: 100%|██████████| 120/120 [00:30<00:00,  3.99it/s, loss=1.221]\n"
     ]
    },
    {
     "data": {
      "image/png": "[encoded data removed]",
      "text/plain": [
       "<Figure size 432x288 with 1 Axes>"
      ]
     },
     "metadata": {
      "needs_background": "light"
     },
     "output_type": "display_data"
    },
    {
     "name": "stdout",
     "output_type": "stream",
     "text": [
      "Loss score: 1.253266522102058.\n"
     ]
    }
   ],
   "source": [
    "# create trainer\n",
    "model12 = Koopman(lifted_state = 10, hidden_out=30, hidden_layer=2)\n",
    "hyper = [1.0,1.0,0.3,0.000000001,0.0000000001,0.000000001,40]\n",
    "loss_function = Loss(hyper[0], hyper[1], hyper[2], hyper[3], hyper[4], hyper[5], hyper[6])\n",
    "\n",
    "# start training\n",
    "file_name = train_the_model(device, model12, loss_function, train_loader, val_loader, hyper, hidden_layer = 2, epochs=20)\n",
    "plot_learning_curve(file_name)\n",
    "\n",
    "# get test result\n",
    "test_the_model(test_loader, model12, loss_function, file_name)"
   ]
  },
  {
   "cell_type": "markdown",
   "id": "d3090c2d",
   "metadata": {},
   "source": [
    "#### Varying hidden nodes"
   ]
  },
  {
   "cell_type": "code",
   "execution_count": 4,
   "id": "8f9adb0c",
   "metadata": {},
   "outputs": [
    {
     "name": "stderr",
     "output_type": "stream",
     "text": [
      "\r",
      "  0%|          | 0/120 [00:00<?, ?it/s]"
     ]
    },
    {
     "name": "stdout",
     "output_type": "stream",
     "text": [
      "Trainer created.\n"
     ]
    },
    {
     "name": "stderr",
     "output_type": "stream",
     "text": [
      "Epoch 0: 100%|██████████| 120/120 [00:39<00:00,  3.00it/s, loss=1.307]\n",
      "Epoch 1: 100%|██████████| 120/120 [00:39<00:00,  3.06it/s, loss=1.225]\n",
      "Epoch 2: 100%|██████████| 120/120 [00:40<00:00,  2.99it/s, loss=1.221]\n",
      "Epoch 3: 100%|██████████| 120/120 [00:39<00:00,  3.01it/s, loss=1.221]\n",
      "Epoch 4: 100%|██████████| 120/120 [00:40<00:00,  3.00it/s, loss=1.221]\n",
      "Epoch 5: 100%|██████████| 120/120 [00:39<00:00,  3.06it/s, loss=1.221]\n",
      "Epoch 6: 100%|██████████| 120/120 [00:39<00:00,  3.04it/s, loss=1.221]\n",
      "Epoch 7: 100%|██████████| 120/120 [00:57<00:00,  2.10it/s, loss=1.221]\n",
      "Epoch 8: 100%|██████████| 120/120 [00:55<00:00,  2.17it/s, loss=1.221]\n",
      "Epoch 9: 100%|██████████| 120/120 [00:54<00:00,  2.20it/s, loss=1.221]\n",
      "Epoch 10: 100%|██████████| 120/120 [01:00<00:00,  1.99it/s, loss=1.221]\n",
      "Epoch 11: 100%|██████████| 120/120 [00:31<00:00,  3.79it/s, loss=1.221]\n",
      "Epoch 12: 100%|██████████| 120/120 [00:30<00:00,  3.88it/s, loss=1.221]\n",
      "Epoch 13: 100%|██████████| 120/120 [00:30<00:00,  3.92it/s, loss=1.221]\n",
      "Epoch 14: 100%|██████████| 120/120 [00:29<00:00,  4.02it/s, loss=1.221]\n",
      "Epoch 15: 100%|██████████| 120/120 [00:29<00:00,  4.02it/s, loss=1.221]\n",
      "Epoch 16: 100%|██████████| 120/120 [00:30<00:00,  3.98it/s, loss=1.221]\n",
      "Epoch 17: 100%|██████████| 120/120 [00:30<00:00,  3.96it/s, loss=1.221]\n",
      "Epoch 18: 100%|██████████| 120/120 [00:29<00:00,  4.03it/s, loss=1.221]\n",
      "Epoch 19: 100%|██████████| 120/120 [00:30<00:00,  3.99it/s, loss=1.221]\n"
     ]
    },
    {
     "data": {
      "image/png": "[encoded data removed]",
      "text/plain": [
       "<Figure size 432x288 with 1 Axes>"
      ]
     },
     "metadata": {
      "needs_background": "light"
     },
     "output_type": "display_data"
    },
    {
     "name": "stdout",
     "output_type": "stream",
     "text": [
      "Loss score: 1.2532741925679147.\n"
     ]
    }
   ],
   "source": [
    "# create trainer\n",
    "model10 = Koopman(lifted_state = 30, hidden_out=60, hidden_layer=2)\n",
    "hyper = [1.0,1.0,0.3,0.000000001,0.0000000001,0.000000001,40]\n",
    "loss_function = Loss(hyper[0], hyper[1], hyper[2], hyper[3], hyper[4], hyper[5], hyper[6])\n",
    "\n",
    "# start training\n",
    "file_name = train_the_model(device, model10, loss_function, train_loader, val_loader, hyper, hidden_layer = 2, epochs=20)\n",
    "plot_learning_curve(file_name)\n",
    "\n",
    "# get test result\n",
    "test_the_model(test_loader, model10, loss_function, file_name)"
   ]
  },
  {
   "cell_type": "code",
   "execution_count": 7,
   "id": "24867ea1",
   "metadata": {},
   "outputs": [
    {
     "name": "stderr",
     "output_type": "stream",
     "text": [
      "\r",
      "  0%|          | 0/120 [00:00<?, ?it/s]"
     ]
    },
    {
     "name": "stdout",
     "output_type": "stream",
     "text": [
      "Trainer created.\n"
     ]
    },
    {
     "name": "stderr",
     "output_type": "stream",
     "text": [
      "Epoch 0: 100%|██████████| 120/120 [00:30<00:00,  4.00it/s, loss=1.573]\n",
      "Epoch 1: 100%|██████████| 120/120 [00:29<00:00,  4.06it/s, loss=1.256]\n",
      "Epoch 2: 100%|██████████| 120/120 [00:29<00:00,  4.02it/s, loss=1.229]\n",
      "Epoch 3: 100%|██████████| 120/120 [00:30<00:00,  3.99it/s, loss=1.224]\n",
      "Epoch 4: 100%|██████████| 120/120 [00:29<00:00,  4.01it/s, loss=1.221]\n",
      "Epoch 5: 100%|██████████| 120/120 [00:29<00:00,  4.02it/s, loss=1.221]\n",
      "Epoch 6: 100%|██████████| 120/120 [00:29<00:00,  4.05it/s, loss=1.221]\n",
      "Epoch 7: 100%|██████████| 120/120 [00:30<00:00,  3.99it/s, loss=1.221]\n",
      "Epoch 8: 100%|██████████| 120/120 [00:29<00:00,  4.06it/s, loss=1.221]\n",
      "Epoch 9: 100%|██████████| 120/120 [00:30<00:00,  3.99it/s, loss=1.221]\n",
      "Epoch 10: 100%|██████████| 120/120 [00:29<00:00,  4.02it/s, loss=1.221]\n",
      "Epoch 11: 100%|██████████| 120/120 [00:29<00:00,  4.02it/s, loss=1.221]\n",
      "Epoch 12: 100%|██████████| 120/120 [00:29<00:00,  4.04it/s, loss=1.221]\n",
      "Epoch 13: 100%|██████████| 120/120 [00:29<00:00,  4.02it/s, loss=1.221]\n",
      "Epoch 14: 100%|██████████| 120/120 [00:29<00:00,  4.05it/s, loss=1.221]\n",
      "Epoch 15: 100%|██████████| 120/120 [00:30<00:00,  3.98it/s, loss=1.221]\n",
      "Epoch 16: 100%|██████████| 120/120 [00:29<00:00,  4.01it/s, loss=1.221]\n",
      "Epoch 17: 100%|██████████| 120/120 [00:30<00:00,  3.99it/s, loss=1.221]\n",
      "Epoch 18: 100%|██████████| 120/120 [00:30<00:00,  3.97it/s, loss=1.221]\n",
      "Epoch 19: 100%|██████████| 120/120 [00:29<00:00,  4.02it/s, loss=1.221]\n"
     ]
    },
    {
     "data": {
      "image/png": "[encoded data removed]",
      "text/plain": [
       "<Figure size 432x288 with 1 Axes>"
      ]
     },
     "metadata": {
      "needs_background": "light"
     },
     "output_type": "display_data"
    },
    {
     "name": "stdout",
     "output_type": "stream",
     "text": [
      "Loss score: 1.2532986899837852.\n"
     ]
    }
   ],
   "source": [
    "# create trainer\n",
    "model13 = Koopman(lifted_state = 30, hidden_out=10, hidden_layer=2)\n",
    "hyper = [1.0,1.0,0.3,0.000000001,0.0000000001,0.000000001,40]\n",
    "loss_function = Loss(hyper[0], hyper[1], hyper[2], hyper[3], hyper[4], hyper[5], hyper[6])\n",
    "\n",
    "# start training\n",
    "file_name = train_the_model(device, model13, loss_function, train_loader, val_loader, hyper, hidden_layer = 2, epochs=20)\n",
    "plot_learning_curve(file_name)\n",
    "\n",
    "# get test result\n",
    "test_the_model(test_loader, model13, loss_function, file_name)"
   ]
  },
  {
   "cell_type": "markdown",
   "id": "748755ba",
   "metadata": {},
   "source": [
    "#### Varying hidden layers"
   ]
  },
  {
   "cell_type": "code",
   "execution_count": 14,
   "id": "725719bb",
   "metadata": {},
   "outputs": [
    {
     "name": "stderr",
     "output_type": "stream",
     "text": [
      "\r",
      "  0%|          | 0/120 [00:00<?, ?it/s]"
     ]
    },
    {
     "name": "stdout",
     "output_type": "stream",
     "text": [
      "Trainer created.\n"
     ]
    },
    {
     "name": "stderr",
     "output_type": "stream",
     "text": [
      "Epoch 0: 100%|██████████| 120/120 [00:34<00:00,  3.44it/s, loss=1.338]\n",
      "Epoch 1: 100%|██████████| 120/120 [00:35<00:00,  3.42it/s, loss=1.228]\n",
      "Epoch 2: 100%|██████████| 120/120 [00:35<00:00,  3.42it/s, loss=1.221]\n",
      "Epoch 3: 100%|██████████| 120/120 [00:34<00:00,  3.44it/s, loss=1.221]\n",
      "Epoch 4: 100%|██████████| 120/120 [00:35<00:00,  3.39it/s, loss=1.221]\n",
      "Epoch 5: 100%|██████████| 120/120 [00:35<00:00,  3.43it/s, loss=1.221]\n",
      "Epoch 6: 100%|██████████| 120/120 [00:34<00:00,  3.48it/s, loss=1.221]\n",
      "Epoch 7: 100%|██████████| 120/120 [00:35<00:00,  3.42it/s, loss=1.221]\n",
      "Epoch 8: 100%|██████████| 120/120 [00:35<00:00,  3.42it/s, loss=1.221]\n",
      "Epoch 9: 100%|██████████| 120/120 [00:34<00:00,  3.46it/s, loss=1.221]\n",
      "Epoch 10: 100%|██████████| 120/120 [00:34<00:00,  3.44it/s, loss=1.221]\n",
      "Epoch 11: 100%|██████████| 120/120 [00:35<00:00,  3.40it/s, loss=1.221]\n",
      "Epoch 12: 100%|██████████| 120/120 [00:34<00:00,  3.43it/s, loss=1.221]\n",
      "Epoch 13: 100%|██████████| 120/120 [00:34<00:00,  3.49it/s, loss=1.221]\n",
      "Epoch 14: 100%|██████████| 120/120 [00:34<00:00,  3.45it/s, loss=1.221]\n",
      "Epoch 15: 100%|██████████| 120/120 [00:34<00:00,  3.46it/s, loss=1.221]\n",
      "Epoch 16: 100%|██████████| 120/120 [00:34<00:00,  3.45it/s, loss=1.221]\n",
      "Epoch 17: 100%|██████████| 120/120 [00:34<00:00,  3.46it/s, loss=1.221]\n",
      "Epoch 18: 100%|██████████| 120/120 [00:35<00:00,  3.42it/s, loss=1.221]\n",
      "Epoch 19: 100%|██████████| 120/120 [00:34<00:00,  3.46it/s, loss=1.221]\n"
     ]
    },
    {
     "data": {
      "image/png": "[encoded data removed]",
      "text/plain": [
       "<Figure size 432x288 with 1 Axes>"
      ]
     },
     "metadata": {
      "needs_background": "light"
     },
     "output_type": "display_data"
    },
    {
     "name": "stdout",
     "output_type": "stream",
     "text": [
      "Loss score: 1.253255603229627.\n"
     ]
    }
   ],
   "source": [
    "# create trainer\n",
    "model11 = Koopman(lifted_state = 30, hidden_out=30, hidden_layer=4)\n",
    "hyper = [1.0,1.0,0.3,0.000000001,0.0000000001,0.000000001,40]\n",
    "loss_function = Loss(hyper[0], hyper[1], hyper[2], hyper[3], hyper[4], hyper[5], hyper[6])\n",
    "\n",
    "# start training\n",
    "file_name = train_the_model(device, model11, loss_function, train_loader, val_loader, hyper, hidden_layer = 4, epochs=20)\n",
    "plot_learning_curve(file_name)\n",
    "\n",
    "# get test result\n",
    "test_the_model(test_loader, model11, loss_function, file_name)"
   ]
  },
  {
   "cell_type": "code",
   "execution_count": 15,
   "id": "6be16a4a",
   "metadata": {},
   "outputs": [
    {
     "name": "stderr",
     "output_type": "stream",
     "text": [
      "\r",
      "  0%|          | 0/120 [00:00<?, ?it/s]"
     ]
    },
    {
     "name": "stdout",
     "output_type": "stream",
     "text": [
      "Trainer created.\n"
     ]
    },
    {
     "name": "stderr",
     "output_type": "stream",
     "text": [
      "Epoch 0: 100%|██████████| 120/120 [00:27<00:00,  4.35it/s, loss=1.341]\n",
      "Epoch 1: 100%|██████████| 120/120 [00:27<00:00,  4.36it/s, loss=1.227]\n",
      "Epoch 2: 100%|██████████| 120/120 [00:27<00:00,  4.36it/s, loss=1.222]\n",
      "Epoch 3: 100%|██████████| 120/120 [00:27<00:00,  4.41it/s, loss=1.221]\n",
      "Epoch 4: 100%|██████████| 120/120 [00:27<00:00,  4.37it/s, loss=1.221]\n",
      "Epoch 5: 100%|██████████| 120/120 [00:27<00:00,  4.33it/s, loss=1.221]\n",
      "Epoch 6: 100%|██████████| 120/120 [00:27<00:00,  4.32it/s, loss=1.221]\n",
      "Epoch 7: 100%|██████████| 120/120 [00:27<00:00,  4.38it/s, loss=1.221]\n",
      "Epoch 8: 100%|██████████| 120/120 [00:27<00:00,  4.34it/s, loss=1.221]\n",
      "Epoch 9: 100%|██████████| 120/120 [00:27<00:00,  4.32it/s, loss=1.221]\n",
      "Epoch 10: 100%|██████████| 120/120 [00:27<00:00,  4.32it/s, loss=1.221]\n",
      "Epoch 11: 100%|██████████| 120/120 [00:27<00:00,  4.31it/s, loss=1.221]\n",
      "Epoch 12: 100%|██████████| 120/120 [00:27<00:00,  4.40it/s, loss=1.221]\n",
      "Epoch 13: 100%|██████████| 120/120 [00:27<00:00,  4.38it/s, loss=1.221]\n",
      "Epoch 14: 100%|██████████| 120/120 [00:27<00:00,  4.36it/s, loss=1.221]\n",
      "Epoch 15: 100%|██████████| 120/120 [00:27<00:00,  4.36it/s, loss=1.221]\n",
      "Epoch 16: 100%|██████████| 120/120 [00:27<00:00,  4.36it/s, loss=1.221]\n",
      "Epoch 17: 100%|██████████| 120/120 [00:27<00:00,  4.35it/s, loss=1.221]\n",
      "Epoch 18: 100%|██████████| 120/120 [00:27<00:00,  4.33it/s, loss=1.221]\n",
      "Epoch 19: 100%|██████████| 120/120 [00:27<00:00,  4.35it/s, loss=1.221]\n"
     ]
    },
    {
     "data": {
      "image/png": "[encoded data removed]",
      "text/plain": [
       "<Figure size 432x288 with 1 Axes>"
      ]
     },
     "metadata": {
      "needs_background": "light"
     },
     "output_type": "display_data"
    },
    {
     "name": "stdout",
     "output_type": "stream",
     "text": [
      "Loss score: 1.2533257271163165.\n"
     ]
    }
   ],
   "source": [
    "# create trainer\n",
    "model14 = Koopman(lifted_state = 30, hidden_out=30, hidden_layer=1)\n",
    "hyper = [1.0,1.0,0.3,0.000000001,0.0000000001,0.000000001,40]\n",
    "loss_function = Loss(hyper[0], hyper[1], hyper[2], hyper[3], hyper[4], hyper[5], hyper[6])\n",
    "\n",
    "# start training\n",
    "file_name = train_the_model(device, model14, loss_function, train_loader, val_loader, hyper, hidden_layer = 1, epochs=20)\n",
    "plot_learning_curve(file_name)\n",
    "\n",
    "# get test result\n",
    "test_the_model(test_loader, model14, loss_function, file_name)"
   ]
  },
  {
   "cell_type": "markdown",
   "id": "668a59d2",
   "metadata": {},
   "source": [
    "## Result Analysis"
   ]
  },
  {
   "cell_type": "code",
   "execution_count": 1,
   "id": "9e0449eb",
   "metadata": {},
   "outputs": [],
   "source": [
    "import os\n",
    "os.environ[\"KMP_DUPLICATE_LIB_OK\"]=\"TRUE\"\n",
    "from data_loader import produce_dataset, get_dataloaders\n",
    "from train import *\n",
    "from test import *\n",
    "from model_nn import Koopman\n",
    "import numpy as np\n",
    "import torch\n",
    "initial_out = sys.stdout\n",
    "# get dataloaders\n",
    "path = './dataset/x-[0.1 0.1 0.1 0.5 0.5 1.5]_u-[0.1 0.1 0.1]_1.0x200_Ts_0.01'\n",
    "train_loader, val_loader, test_loader = get_dataloaders(path)\n",
    "\n",
    "# trainers parameter setting\n",
    "device = \"cuda:0\" if torch.cuda.is_available() else \"cpu\""
   ]
  },
  {
   "cell_type": "code",
   "execution_count": 4,
   "id": "20c7405a",
   "metadata": {},
   "outputs": [
    {
     "name": "stdout",
     "output_type": "stream",
     "text": [
      "torch.Size([100, 30])\n"
     ]
    },
    {
     "data": {
      "image/png": "[encoded data removed]",
      "text/plain": [
       "<Figure size 648x648 with 4 Axes>"
      ]
     },
     "metadata": {
      "needs_background": "light"
     },
     "output_type": "display_data"
    }
   ],
   "source": [
    "hyper = [1.0,1.0,0.3,0.000000001,0.0000000001,0.000000001,40]\n",
    "loss_function = Loss(hyper[0], hyper[1], hyper[2], hyper[3], hyper[4], hyper[5], hyper[6])\n",
    "\n",
    "hidden_layer = 1\n",
    "lifted_state = 30\n",
    "hidden_out = 30\n",
    "model = Koopman(lifted_state = lifted_state, hidden_out=hidden_out, hidden_layer=hidden_layer)\n",
    "\n",
    "file_name=f\"hyper_{str(hyper)}_hidden_layer_{str(hidden_layer)}\"\n",
    "\n",
    "#plot_learning_curve(file_name)\n",
    "#test_the_model(test_loader, model, loss_function, file_name)\n",
    "result_sample(path,model,file_name,index=20)"
   ]
  },
  {
   "cell_type": "code",
   "execution_count": 8,
   "id": "1d418da8",
   "metadata": {},
   "outputs": [
    {
     "name": "stdout",
     "output_type": "stream",
     "text": [
      "(101, 6)\n",
      "(100, 3)\n",
      "(100, 6)\n"
     ]
    }
   ],
   "source": [
    "index = 3\n",
    "xx = np.load(path+\"/X_test.npy\")\n",
    "uu = np.load(path+\"/U_test.npy\")\n",
    "xx = xx[index]\n",
    "uu = uu[index]\n",
    "yy = xx[:-1]\n",
    "print(xx.shape)\n",
    "print(uu.shape)\n",
    "print(yy.shape)"
   ]
  },
  {
   "cell_type": "code",
   "execution_count": 3,
   "id": "354d5738",
   "metadata": {},
   "outputs": [
    {
     "name": "stdout",
     "output_type": "stream",
     "text": [
      "torch.Size([1, 3, 100])\n"
     ]
    }
   ],
   "source": [
    "for i, data in enumerate(test_loader):\n",
    "    X, U=data\n",
    "    X = X.to(device)\n",
    "    U = U.to(device)\n",
    "    loss = loss_function(model,X,U) \n",
    "print(U.shape)"
   ]
  },
  {
   "cell_type": "code",
   "execution_count": 5,
   "id": "6c6b50ea",
   "metadata": {},
   "outputs": [
    {
     "name": "stdout",
     "output_type": "stream",
     "text": [
      "encoder(\n",
      "  (input_layer): Sequential(\n",
      "    (0): Linear(in_features=6, out_features=30, bias=True)\n",
      "    (1): ReLU()\n",
      "  )\n",
      "  (hidden_layers): Sequential(\n",
      "    (0): Linear(in_features=30, out_features=30, bias=True)\n",
      "    (1): ReLU()\n",
      "    (2): Linear(in_features=30, out_features=30, bias=True)\n",
      "    (3): ReLU()\n",
      "  )\n",
      "  (output_layer): Sequential(\n",
      "    (0): Linear(in_features=30, out_features=30, bias=True)\n",
      "    (1): ReLU()\n",
      "  )\n",
      ")\n"
     ]
    }
   ],
   "source": [
    "model = Koopman(hidden_layer=2)\n",
    "submodules = []\n",
    "for idx, m in enumerate(model.named_children()):\n",
    "    submodules.append(m)\n",
    "en = submodules[0][1]\n",
    "de = submodules[1][1]\n",
    "K = submodules[2][1]\n",
    "print(en)"
   ]
  },
  {
   "cell_type": "code",
   "execution_count": 9,
   "id": "4549c1a2",
   "metadata": {},
   "outputs": [
    {
     "name": "stdout",
     "output_type": "stream",
     "text": [
      "1\n"
     ]
    }
   ],
   "source": [
    "print(torch.cuda.device_count())"
   ]
  },
  {
   "cell_type": "code",
   "execution_count": null,
   "id": "4d33010e",
   "metadata": {},
   "outputs": [],
   "source": []
  }
 ],
 "metadata": {
  "kernelspec": {
   "display_name": "Python 3",
   "language": "python",
   "name": "python3"
  },
  "language_info": {
   "codemirror_mode": {
    "name": "ipython",
    "version": 3
   },
   "file_extension": ".py",
   "mimetype": "text/x-python",
   "name": "python",
   "nbconvert_exporter": "python",
   "pygments_lexer": "ipython3",
   "version": "3.8.8"
  }
 },
 "nbformat": 4,
 "nbformat_minor": 5
}
