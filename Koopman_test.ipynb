{
 "cells": [
  {
   "cell_type": "markdown",
   "id": "8269913a",
   "metadata": {},
   "source": [
    "## Dataset test"
   ]
  },
  {
   "cell_type": "code",
   "execution_count": 1,
   "id": "d526b505",
   "metadata": {},
   "outputs": [
    {
     "name": "stdout",
     "output_type": "stream",
     "text": [
      "[0.1 0.1 0.1]\n"
     ]
    }
   ],
   "source": [
    "from data_loader import *\n",
    "import numpy as np\n",
    "\n",
    "# set parameters\n",
    "x_range = np.array([0.1,0.1,0.1,0.5,0.5,1.5])\n",
    "u_range = np.array([0.1,0.1,0.1])\n",
    "SimLength=10\n",
    "Ntraj = 10\n",
    "Ts=0.01\n",
    "\n",
    "print(u_range)"
   ]
  },
  {
   "cell_type": "code",
   "execution_count": null,
   "id": "09b7b5eb",
   "metadata": {},
   "outputs": [],
   "source": [
    "# set parameters\n",
    "x_range = np.array([0.1,0.1,0.1,0.5,0.5,1.5])\n",
    "u_range = np.array([0.1,0.1,0.1])\n",
    "SimLength=10\n",
    "Ntraj = 10\n",
    "Ts=0.01\n",
    "\n",
    "# get trajectories and save\n",
    "path = produce_dataset(x_range,u_range,SimLength,Ntraj,Ts)\n",
    "X_train,U_train,X_val,U_val,X_test,U_test = get_data(path)\n",
    "\n",
    "# get dataloaders\n",
    "tra_loader = get_loaders(X_train,U_train)\n",
    "val_loader = get_loaders(X_val,U_val)\n",
    "test_loader = get_loaders(X_test,U_test)\n",
    "\n"
   ]
  },
  {
   "cell_type": "code",
   "execution_count": 1,
   "id": "4549c1a2",
   "metadata": {},
   "outputs": [
    {
     "ename": "NameError",
     "evalue": "name 'get_data' is not defined",
     "output_type": "error",
     "traceback": [
      "\u001b[1;31m---------------------------------------------------------------------------\u001b[0m",
      "\u001b[1;31mNameError\u001b[0m                                 Traceback (most recent call last)",
      "\u001b[1;32m<ipython-input-1-f0e1daa13334>\u001b[0m in \u001b[0;36m<module>\u001b[1;34m\u001b[0m\n\u001b[1;32m----> 1\u001b[1;33m \u001b[0mX\u001b[0m\u001b[1;33m,\u001b[0m\u001b[0mU\u001b[0m \u001b[1;33m=\u001b[0m \u001b[0mget_data\u001b[0m\u001b[1;33m(\u001b[0m\u001b[0mpath\u001b[0m\u001b[1;33m)\u001b[0m\u001b[1;33m\u001b[0m\u001b[1;33m\u001b[0m\u001b[0m\n\u001b[0m",
      "\u001b[1;31mNameError\u001b[0m: name 'get_data' is not defined"
     ]
    }
   ],
   "source": [
    "\n"
   ]
  },
  {
   "cell_type": "code",
   "execution_count": null,
   "id": "20c7405a",
   "metadata": {},
   "outputs": [],
   "source": []
  }
 ],
 "metadata": {
  "kernelspec": {
   "display_name": "Python 3",
   "language": "python",
   "name": "python3"
  },
  "language_info": {
   "codemirror_mode": {
    "name": "ipython",
    "version": 3
   },
   "file_extension": ".py",
   "mimetype": "text/x-python",
   "name": "python",
   "nbconvert_exporter": "python",
   "pygments_lexer": "ipython3",
   "version": "3.8.8"
  }
 },
 "nbformat": 4,
 "nbformat_minor": 5
}
