{
 "cells": [
  {
   "cell_type": "code",
   "execution_count": 6,
   "id": "1f8e5dc3",
   "metadata": {},
   "outputs": [],
   "source": [
    "import numpy as np\n",
    "from nonlinear_model import discrete_nonlinear\n",
    "from Koopman_numpy import Koopman_numpy\n",
    "from MPC import *\n",
    "import time"
   ]
  },
  {
   "cell_type": "markdown",
   "id": "484ed005",
   "metadata": {},
   "source": [
    "# Test Koopman operater in numpy"
   ]
  },
  {
   "cell_type": "code",
   "execution_count": 7,
   "id": "aaab3fea",
   "metadata": {},
   "outputs": [
    {
     "name": "stdout",
     "output_type": "stream",
     "text": [
      "[0.54079035 0.71660344 0.32979149] [[0.54776682 0.71477601 0.33      ]]\n",
      "The system is controllable.\n"
     ]
    }
   ],
   "source": [
    "file_name = 'encoder_[3, 32, 64, 8]_decoder_[11, 128, 64, 32, 3]_hyper_[1.0, 3.0, 0.3, 1e-07, 1e-07, 1e-07, 10]_batch_10'\n",
    "operater = Koopman_numpy(file_name)\n",
    "x = np.array([0.5,0.7,0.3])\n",
    "u = np.array([0.5,0.3])\n",
    "lifted_x = operater.encode(x)\n",
    "next_lifted_x = operater.linear(lifted_x,u)\n",
    "next_x = operater.decode(next_lifted_x)\n",
    "nonlinear_x = discrete_nonlinear(x,u,0.1)\n",
    "print(next_x,nonlinear_x)\n",
    "operater.property()"
   ]
  },
  {
   "cell_type": "code",
   "execution_count": 10,
   "id": "3f3ad2f1",
   "metadata": {},
   "outputs": [
    {
     "name": "stdout",
     "output_type": "stream",
     "text": [
      "[0.6671216  0.05704826 0.20257711 0.20257711 0.49422142 0.43215787\n",
      " 0.37377557 0.99992865 1.0001483  1.0001483  1.0004467 ]\n",
      "(11, 11)\n"
     ]
    }
   ],
   "source": [
    "eee = np.linalg.eigvals(A)\n",
    "print(abs(eee))\n",
    "print(A.shape)"
   ]
  },
  {
   "cell_type": "markdown",
   "id": "3496ccae",
   "metadata": {},
   "source": [
    "# Test MPC function"
   ]
  },
  {
   "cell_type": "code",
   "execution_count": 1,
   "id": "ea24de64",
   "metadata": {
    "scrolled": true
   },
   "outputs": [
    {
     "ename": "NameError",
     "evalue": "name 'operater' is not defined",
     "output_type": "error",
     "traceback": [
      "\u001b[1;31m---------------------------------------------------------------------------\u001b[0m",
      "\u001b[1;31mNameError\u001b[0m                                 Traceback (most recent call last)",
      "Input \u001b[1;32mIn [1]\u001b[0m, in \u001b[0;36m<cell line: 2>\u001b[1;34m()\u001b[0m\n\u001b[0;32m      1\u001b[0m \u001b[38;5;66;03m# get augmented matrices\u001b[39;00m\n\u001b[1;32m----> 2\u001b[0m A,B \u001b[38;5;241m=\u001b[39m \u001b[43moperater\u001b[49m\u001b[38;5;241m.\u001b[39mlinear_matrix()\n\u001b[0;32m      3\u001b[0m Q \u001b[38;5;241m=\u001b[39m np\u001b[38;5;241m.\u001b[39mdiag(np\u001b[38;5;241m.\u001b[39marray([\u001b[38;5;241m1.\u001b[39m,\u001b[38;5;241m2.\u001b[39m,\u001b[38;5;241m3.\u001b[39m,\u001b[38;5;241m4.\u001b[39m,\u001b[38;5;241m5.\u001b[39m,\u001b[38;5;241m6.\u001b[39m,\u001b[38;5;241m7.\u001b[39m,\u001b[38;5;241m8.\u001b[39m,\u001b[38;5;241m9.\u001b[39m,\u001b[38;5;241m10.\u001b[39m,\u001b[38;5;241m11.\u001b[39m]))\n\u001b[0;32m      4\u001b[0m R \u001b[38;5;241m=\u001b[39m np\u001b[38;5;241m.\u001b[39mdiag(np\u001b[38;5;241m.\u001b[39marray([\u001b[38;5;241m1.\u001b[39m,\u001b[38;5;241m2.\u001b[39m]))\n",
      "\u001b[1;31mNameError\u001b[0m: name 'operater' is not defined"
     ]
    }
   ],
   "source": [
    "# get augmented matrices\n",
    "A,B = operater.linear_matrix()\n",
    "Q = np.diag(np.array([1.,2.,3.,4.,5.,6.,7.,8.,9.,10.,11.]))\n",
    "R = np.diag(np.array([1.,2.]))\n",
    "rho = 1.\n",
    "Gamma,Theta,Qbig,H = get_Augmented_Matrix(A,B,Q,R,rho,3,2)\n",
    "print(Gamma.shape)\n",
    "print(Theta.shape)\n",
    "print(Qbig.shape)\n",
    "print(H.shape)"
   ]
  },
  {
   "cell_type": "code",
   "execution_count": 1,
   "id": "3b4766af",
   "metadata": {},
   "outputs": [],
   "source": [
    "import numpy as np\n",
    "from nonlinear_model import discrete_nonlinear\n",
    "from Koopman_numpy import Koopman_numpy\n",
    "from MPC import *\n",
    "import time"
   ]
  },
  {
   "cell_type": "code",
   "execution_count": 2,
   "id": "6f0c72d2",
   "metadata": {},
   "outputs": [
    {
     "name": "stdout",
     "output_type": "stream",
     "text": [
      "./dataset/MPC/SimLenth_200_Ts_0.1\n"
     ]
    }
   ],
   "source": [
    "SimLength = 200\n",
    "path=simulate_path(SimLength)"
   ]
  },
  {
   "cell_type": "code",
   "execution_count": 3,
   "id": "a0fa4ad8",
   "metadata": {
    "scrolled": true
   },
   "outputs": [
    {
     "name": "stdout",
     "output_type": "stream",
     "text": [
      "Step 1 - MSE error in lifted space,state x, input u:\n",
      "2.542646882673542e-05 [1.22057544e-03 7.54152094e-03 1.60826147e+00] [0.1320491  0.32716807]\n",
      "Step 2 - MSE error in lifted space,state x, input u:\n",
      "6.539176574543826e-05 [8.63149799e-04 2.43908576e-02 1.62946259e+00] [0.11147493 0.34368022]\n",
      "Step 3 - MSE error in lifted space,state x, input u:\n",
      "8.648979039557362e-05 [-0.00260701  0.04411106  1.65123716] [0.09467471 0.36260826]\n",
      "Step 4 - MSE error in lifted space,state x, input u:\n",
      "0.00010613468228803565 [-0.00900045  0.06182798  1.67329883] [0.08115818 0.38263391]\n",
      "Step 5 - MSE error in lifted space,state x, input u:\n",
      "0.00014436960835849174 [-0.01522961  0.07628294  1.69608091] [0.07053129 0.40326045]\n",
      "Step 6 - MSE error in lifted space,state x, input u:\n",
      "0.00020032768277898755 [-0.02153296  0.08794915  1.72028703] [0.06217275 0.42381423]\n",
      "Step 7 - MSE error in lifted space,state x, input u:\n",
      "0.0002648519314539476 [-0.0280076   0.09745641  1.74610546] [0.05558322 0.44328934]\n",
      "Step 8 - MSE error in lifted space,state x, input u:\n",
      "0.0003346712941475691 [-0.03481353  0.10552891  1.7735457 ] [0.05036048 0.46085798]\n",
      "Step 9 - MSE error in lifted space,state x, input u:\n",
      "0.000408595593392894 [-0.04215252  0.11275288  1.80254903] [0.04619444 0.47593682]\n",
      "Step 10 - MSE error in lifted space,state x, input u:\n",
      "0.0004864187833215749 [-0.04998476  0.11927846  1.83294957] [0.04284818 0.48818122]\n",
      "Step 11 - MSE error in lifted space,state x, input u:\n",
      "0.0005700883983803334 [-0.05827405  0.12523118  1.86455687] [0.04015036 0.49749026]\n",
      "Step 12 - MSE error in lifted space,state x, input u:\n",
      "0.0006663206124225498 [-0.06802746  0.13070996  1.89707336] [0.03796552 0.5       ]\n",
      "Step 13 - MSE error in lifted space,state x, input u:\n",
      "0.0007791466569834731 [-0.07787357  0.13591772  1.9301918 ] [0.03629888 0.5       ]\n",
      "Step 14 - MSE error in lifted space,state x, input u:\n",
      "0.0009030838242667187 [-0.08335123  0.14211523  1.96388866] [0.03504645 0.5       ]\n",
      "Step 15 - MSE error in lifted space,state x, input u:\n",
      "0.0009950218717933736 [-0.08673019  0.14795726  1.99809277] [0.03370464 0.5       ]\n",
      "Step 16 - MSE error in lifted space,state x, input u:\n",
      "0.001086618855073817 [-0.08824461  0.1531004   2.03279188] [0.03207113 0.5       ]\n",
      "Step 17 - MSE error in lifted space,state x, input u:\n",
      "0.0011923698698952949 [-0.08777006  0.15758734  2.06783902] [0.03001244 0.49894152]\n",
      "Step 18 - MSE error in lifted space,state x, input u:\n",
      "0.0013226575330029028 [-0.0841829   0.16221954  2.10248732] [0.02741751 0.49562809]\n",
      "Step 19 - MSE error in lifted space,state x, input u:\n",
      "0.0014811001113348037 [-0.07708994  0.16719966  2.13745397] [0.02409265 0.49105812]\n",
      "Step 20 - MSE error in lifted space,state x, input u:\n",
      "0.0016785398709607143 [-0.06647794  0.17243563  2.17280006] [0.01986269 0.48528083]\n",
      "Step 21 - MSE error in lifted space,state x, input u:\n",
      "0.001951018273904744 [-0.05231049  0.17793563  2.20846533] [0.01455079 0.47833715]\n",
      "Step 22 - MSE error in lifted space,state x, input u:\n",
      "0.002341024089724472 [-0.03599686  0.18423782  2.24453683] [0.00799023 0.47030052]\n",
      "Step 23 - MSE error in lifted space,state x, input u:\n",
      "0.0028659499003232075 [-0.01885238  0.19155249  2.28129665] [1.27228824e-04 4.61242259e-01]\n",
      "Step 24 - MSE error in lifted space,state x, input u:\n",
      "0.0035238898690428786 [-9.86399957e-04  1.99943956e-01  2.31851019e+00] [-0.0089492   0.45098146]\n",
      "Step 25 - MSE error in lifted space,state x, input u:\n",
      "0.004325229796451844 [0.02029937 0.20950871 2.35635895] [-0.01913382  0.4395611 ]\n",
      "Step 26 - MSE error in lifted space,state x, input u:\n",
      "0.005357917279695059 [0.05934128 0.21949386 2.39558397] [-0.03094044  0.42694619]\n",
      "Step 27 - MSE error in lifted space,state x, input u:\n",
      "0.0073035166999259335 [0.09783425 0.23073863 2.43244609] [-0.04700876  0.41258676]\n",
      "Step 28 - MSE error in lifted space,state x, input u:\n",
      "0.009712685188210897 [0.13244145 0.24107054 2.46137697] [-0.06684914  0.39857233]\n",
      "Step 29 - MSE error in lifted space,state x, input u:\n",
      "0.012404886163893446 [0.16313024 0.25008271 2.48360932] [-0.08897036  0.39091508]\n",
      "Step 30 - MSE error in lifted space,state x, input u:\n",
      "0.015297246801718074 [0.19298036 0.25736225 2.50275239] [-0.11220105  0.39271096]\n",
      "Step 31 - MSE error in lifted space,state x, input u:\n",
      "0.018554938269594496 [0.22336631 0.26195167 2.52031854] [-0.13608501  0.40315852]\n",
      "Step 32 - MSE error in lifted space,state x, input u:\n",
      "0.022317235254860325 [0.2557676  0.26303932 2.53708883] [-0.1605077   0.42058901]\n",
      "Step 33 - MSE error in lifted space,state x, input u:\n",
      "0.02677574865076987 [0.29076959 0.25978343 2.55383581] [-0.18562121  0.44331192]\n",
      "Step 34 - MSE error in lifted space,state x, input u:\n",
      "0.03208327148939719 [0.32935256 0.2518248  2.57205191] [-0.21164911  0.46961857]\n",
      "Step 35 - MSE error in lifted space,state x, input u:\n",
      "0.038447195435710506 [0.37482248 0.24338939 2.59382675] [-0.23898234  0.49516673]\n",
      "Step 36 - MSE error in lifted space,state x, input u:\n",
      "0.046239272866010823 [0.42612718 0.23673291 2.61772467] [-0.2685782  0.5      ]\n",
      "Step 37 - MSE error in lifted space,state x, input u:\n",
      "0.055322046949445806 [0.47604117 0.23155238 2.6439325 ] [-0.30179396  0.5       ]\n",
      "Step 38 - MSE error in lifted space,state x, input u:\n",
      "0.06489834433286866 [0.52297221 0.22740507 2.67410298] [-0.33821966  0.5       ]\n",
      "Step 39 - MSE error in lifted space,state x, input u:\n",
      "0.07474957834631413 [0.56980141 0.22551754 2.70830998] [-0.37679406  0.5       ]\n",
      "Step 40 - MSE error in lifted space,state x, input u:\n",
      "0.08514882894204566 [0.62036606 0.22618412 2.74632757] [-0.41713754  0.5       ]\n",
      "Step 41 - MSE error in lifted space,state x, input u:\n",
      "0.09769157647182042 [0.67248007 0.22568866 2.74407246] [-0.46643194  0.02213487]\n",
      "Step 42 - MSE error in lifted space,state x, input u:\n",
      "0.11314202736427864 [0.72277398 0.21996034 2.69310717] [-0.51184117 -0.5       ]\n",
      "Step 43 - MSE error in lifted space,state x, input u:\n",
      "0.13045503373352876 [0.77561145 0.20907574 2.63995906] [-0.55244535 -0.5       ]\n",
      "Step 44 - MSE error in lifted space,state x, input u:\n",
      "0.1506291404219385 [0.83088171 0.19122845 2.5861562 ] [-0.58968146 -0.5       ]\n",
      "Step 45 - MSE error in lifted space,state x, input u:\n",
      "0.1738572502106177 [0.88808601 0.16488789 2.53446637] [-0.62488926 -0.5       ]\n",
      "Step 46 - MSE error in lifted space,state x, input u:\n",
      "0.20010779006971235 [0.94479068 0.12881896 2.48536563] [-0.65928982 -0.5       ]\n",
      "Step 47 - MSE error in lifted space,state x, input u:\n",
      "0.22916278817815725 [1.00074328 0.08516921 2.43899805] [-0.69422282 -0.5       ]\n",
      "Step 48 - MSE error in lifted space,state x, input u:\n",
      "0.2603624019633366 [1.05400065 0.03387483 2.39787258] [-0.73065588 -0.5       ]\n",
      "Step 49 - MSE error in lifted space,state x, input u:\n",
      "0.29300241063727495 [ 1.10333474 -0.01743217  2.3601161 ] [-0.76901185 -0.5       ]\n",
      "Step 50 - MSE error in lifted space,state x, input u:\n",
      "2.9520940741702946 [ 1.15304629 -0.09418179  2.32381042] [-0.80953852 -0.5       ]\n",
      "Step 51 - MSE error in lifted space,state x, input u:\n",
      "2.912768797862876 [ 1.21081533 -0.17161755  2.28422147] [-0.85414727 -0.5       ]\n",
      "Step 52 - MSE error in lifted space,state x, input u:\n",
      "2.875245538257295 [ 1.27032592 -0.25022422  2.24031272] [-0.90629587 -0.5       ]\n",
      "Step 53 - MSE error in lifted space,state x, input u:\n",
      "2.837450659203442 [ 1.32700136 -0.32770159  2.18996775] [-0.96548057 -0.5       ]\n",
      "Step 54 - MSE error in lifted space,state x, input u:\n",
      "2.7955612448487184 [ 1.38102532 -0.40589046  2.13707702] [-1.02987483 -0.5       ]\n",
      "Step 55 - MSE error in lifted space,state x, input u:\n",
      "2.753662233752507 [ 1.43257919 -0.49387626  2.0834235 ] [-1.09772691 -0.5       ]\n",
      "Step 56 - MSE error in lifted space,state x, input u:\n",
      "2.7148291817411305 [ 1.48147853 -0.59111649  2.03299959] [-1.1680801 -0.5      ]\n",
      "Step 57 - MSE error in lifted space,state x, input u:\n",
      "2.683013385806517 [ 1.52703769 -0.69283664  1.98704718] [-1.24067275 -0.5       ]\n",
      "Step 58 - MSE error in lifted space,state x, input u:\n",
      "2.6583933638060633 [ 1.57257761 -0.80135366  1.94319175] [-1.31444665 -0.5       ]\n",
      "Step 59 - MSE error in lifted space,state x, input u:\n",
      "2.6404712618281034 [ 1.61794775 -0.91991879  1.90155737] [-1.38939805 -0.5       ]\n",
      "Step 60 - MSE error in lifted space,state x, input u:\n",
      "2.630452308273035 [ 1.65837697 -1.04586927  1.86541332] [-1.45916635 -0.5       ]\n",
      "Step 61 - MSE error in lifted space,state x, input u:\n",
      "2.628753127138363 [ 1.69352268 -1.17522509  1.83257741] [-1.5 -0.5]\n"
     ]
    },
    {
     "name": "stdout",
     "output_type": "stream",
     "text": [
      "Step 62 - MSE error in lifted space,state x, input u:\n",
      "2.6322050101057837 [ 1.72142783 -1.30275637  1.79656381] [-1.5 -0.5]\n",
      "Step 63 - MSE error in lifted space,state x, input u:\n",
      "2.633012062834476 [ 1.74007258 -1.42891256  1.75467504] [-1.5 -0.5]\n",
      "Step 64 - MSE error in lifted space,state x, input u:\n",
      "2.628108294686687 [ 1.74853406 -1.55232833  1.70948724] [-1.5 -0.5]\n",
      "Step 65 - MSE error in lifted space,state x, input u:\n",
      "2.618784137915951 [ 1.74711438 -1.67151068  1.66382231] [-1.5 -0.5]\n",
      "Step 66 - MSE error in lifted space,state x, input u:\n",
      "2.606523158629779 [ 1.74431813 -1.78834339  1.6159731 ] [-1.5 -0.5]\n",
      "Step 67 - MSE error in lifted space,state x, input u:\n",
      "2.5941674829138157 [ 1.74078507 -1.90277396  1.56785054] [-1.5 -0.5]\n",
      "Step 68 - MSE error in lifted space,state x, input u:\n",
      "2.583428165594793 [ 1.73420639 -2.01784038  1.51433484] [-1.5 -0.5]\n",
      "Step 69 - MSE error in lifted space,state x, input u:\n",
      "2.5706607004772817 [ 1.72021721 -2.13578311  1.4467234 ] [-1.5 -0.5]\n",
      "Step 70 - MSE error in lifted space,state x, input u:\n",
      "2.548870776466268 [ 1.69575197 -2.25307238  1.36406912] [-1.5 -0.5]\n",
      "Step 71 - MSE error in lifted space,state x, input u:\n",
      "2.5147684700225237 [ 1.65393719 -2.36271057  1.26774684] [-1.5 -0.5]\n",
      "Step 72 - MSE error in lifted space,state x, input u:\n",
      "2.4639621551076876 [ 1.59151637 -2.46235198  1.16336732] [-1.5 -0.5]\n",
      "Step 73 - MSE error in lifted space,state x, input u:\n",
      "2.3981599399683198 [ 1.50832061 -2.53939956  1.0845148 ] [-1.5 -0.5]\n",
      "Step 74 - MSE error in lifted space,state x, input u:\n",
      "2.3319818975303614 [ 1.42236043 -2.60382136  1.03203798] [-1.5 -0.5]\n",
      "Step 75 - MSE error in lifted space,state x, input u:\n",
      "2.27748124169911 [ 1.33594118 -2.65887153  0.99879732] [-1.5 -0.5]\n",
      "Step 76 - MSE error in lifted space,state x, input u:\n",
      "2.2315272964790935 [ 1.2489752  -2.70592858  0.97178036] [-1.5 -0.5]\n",
      "Step 77 - MSE error in lifted space,state x, input u:\n",
      "2.1862350051501744 [ 1.15989085 -2.74664583  0.94615473] [-1.5 -0.5]\n",
      "Step 78 - MSE error in lifted space,state x, input u:\n",
      "2.13896515484569 [ 1.0726918  -2.77695529  0.92084432] [-1.5 -0.5]\n",
      "Step 79 - MSE error in lifted space,state x, input u:\n",
      "2.088258231596698 [ 0.97674663 -2.80288424  0.88896429] [-1.5 -0.5]\n",
      "Step 80 - MSE error in lifted space,state x, input u:\n",
      "2.0302914640742715 [ 0.86930409 -2.82407375  0.85246687] [-1.5 -0.5]\n",
      "Step 81 - MSE error in lifted space,state x, input u:\n",
      "1.9650264439613054 [ 0.75045335 -2.83937844  0.81116006] [-1.5 -0.5]\n",
      "Step 82 - MSE error in lifted space,state x, input u:\n",
      "1.8926516128267143 [ 0.62871038 -2.84367063  0.76424814] [-1.5 -0.5]\n",
      "Step 83 - MSE error in lifted space,state x, input u:\n",
      "1.8133066166920124 [ 0.50384226 -2.83456404  0.71357441] [-1.5 -0.5]\n",
      "Step 84 - MSE error in lifted space,state x, input u:\n",
      "1.7271440565158778 [ 0.37733033 -2.80852161  0.66311876] [-1.5 -0.5]\n",
      "Step 85 - MSE error in lifted space,state x, input u:\n",
      "1.6348780459461425 [ 0.25138415 -2.77027727  0.60654157] [-1.49894279 -0.5       ]\n",
      "Step 86 - MSE error in lifted space,state x, input u:\n",
      "1.537084058080805 [ 0.13045558 -2.7144857   0.53959127] [-1.47836113 -0.5       ]\n",
      "Step 87 - MSE error in lifted space,state x, input u:\n",
      "1.4302399081338264 [ 0.008579   -2.65049479  0.45029058] [-1.44285341 -0.5       ]\n",
      "Step 88 - MSE error in lifted space,state x, input u:\n",
      "1.3139263812904831 [-0.14759572 -2.58420385  0.3347745 ] [-1.39696485 -0.5       ]\n",
      "Step 89 - MSE error in lifted space,state x, input u:\n",
      "1.1869968383913405 [-0.29360778 -2.54456401  0.21671414] [-1.34342041 -0.5       ]\n",
      "Step 90 - MSE error in lifted space,state x, input u:\n",
      "1.082873073264654 [-0.43571655 -2.51375535  0.10173594] [-1.28658032 -0.5       ]\n",
      "Step 91 - MSE error in lifted space,state x, input u:\n",
      "0.9926964708997748 [-0.57041456 -2.47927961  0.00678612] [-1.22862787 -0.5       ]\n",
      "Step 92 - MSE error in lifted space,state x, input u:\n",
      "0.9156453793588128 [-0.70344968 -2.41370403 -0.06410283] [-1.1672345 -0.5      ]\n",
      "Step 93 - MSE error in lifted space,state x, input u:\n",
      "0.837816117241487 [-0.83489699 -2.3443745  -0.13003307] [-1.10089195 -0.5       ]\n",
      "Step 94 - MSE error in lifted space,state x, input u:\n",
      "0.7658031285370555 [-0.95601266 -2.2776962  -0.1987903 ] [-1.03153534 -0.5       ]\n",
      "Step 95 - MSE error in lifted space,state x, input u:\n",
      "0.7002498053205108 [-1.06634061 -2.21548926 -0.2696243 ] [-0.96088717 -0.5       ]\n",
      "Step 96 - MSE error in lifted space,state x, input u:\n",
      "0.6415204474220627 [-1.16922562 -2.15387531 -0.34268218] [-0.88981842 -0.5       ]\n",
      "Step 97 - MSE error in lifted space,state x, input u:\n",
      "0.5874377734628126 [-1.26416345 -2.0969497  -0.41970624] [-0.81920125 -0.5       ]\n",
      "Step 98 - MSE error in lifted space,state x, input u:\n",
      "0.5389415689910652 [-1.34854253 -2.04767654 -0.49538491] [-0.7501702 -0.5      ]\n",
      "Step 99 - MSE error in lifted space,state x, input u:\n",
      "0.4977127887118255 [-1.42573628 -2.00117639 -0.57190149] [-0.68284521 -0.5       ]\n",
      "Step 100 - MSE error in lifted space,state x, input u:\n",
      "0.46094455631323844 [-1.49556394 -1.9559352  -0.64595146] [-0.61769716 -0.5       ]\n",
      "Step 101 - MSE error in lifted space,state x, input u:\n",
      "0.42824331132860805 [-1.55731665 -1.9109598  -0.71560182] [-0.55511674 -0.5       ]\n",
      "Step 102 - MSE error in lifted space,state x, input u:\n",
      "0.39903730955615957 [-1.60921468 -1.86487899 -0.77942788] [-0.49538515 -0.5       ]\n",
      "Step 103 - MSE error in lifted space,state x, input u:\n",
      "0.37232094074463473 [-1.65657039 -1.82460408 -0.8391594 ] [-0.43850011 -0.5       ]\n",
      "Step 104 - MSE error in lifted space,state x, input u:\n",
      "0.3502671291882841 [-1.69952741 -1.78931397 -0.89606481] [-0.38411144 -0.5       ]\n",
      "Step 105 - MSE error in lifted space,state x, input u:\n",
      "0.3320432852488572 [-1.73816051 -1.7593448  -0.95029219] [-0.33213403 -0.5       ]\n",
      "Step 106 - MSE error in lifted space,state x, input u:\n",
      "0.31745333558097993 [-1.7727651  -1.73381864 -1.00248781] [-0.28254319 -0.48930522]\n",
      "Step 107 - MSE error in lifted space,state x, input u:\n",
      "0.3060124260187259 [-1.80392274 -1.71155314 -1.04887596] [-0.23542574 -0.41740765]\n",
      "Step 108 - MSE error in lifted space,state x, input u:\n",
      "0.29705705157337564 [-1.83179799 -1.69227454 -1.08642271] [-0.19073937 -0.30974567]\n",
      "Step 109 - MSE error in lifted space,state x, input u:\n",
      "0.2901319570162414 [-1.85664052 -1.67578158 -1.11371332] [-0.14843287 -0.18543972]\n",
      "Step 110 - MSE error in lifted space,state x, input u:\n",
      "0.2848088892019577 [-1.87871168 -1.66205946 -1.13052815] [-0.10845299 -0.05816706]\n",
      "Step 111 - MSE error in lifted space,state x, input u:\n",
      "0.28076781359384806 [-1.89823202 -1.65107651 -1.13810233] [-0.0707506   0.06290521]\n",
      "Step 112 - MSE error in lifted space,state x, input u:\n",
      "0.2777512563202099 [-1.91547698 -1.64280499 -1.13745325] [-0.03528874  0.17271958]\n",
      "Step 113 - MSE error in lifted space,state x, input u:\n",
      "0.2756007360103029 [-1.93082399 -1.63712433 -1.12948108] [-0.00202755  0.26875066]\n",
      "Step 114 - MSE error in lifted space,state x, input u:\n",
      "0.27421259555883437 [-1.94462098 -1.63391593 -1.11519594] [0.02910296 0.35004367]\n",
      "Step 115 - MSE error in lifted space,state x, input u:\n",
      "0.27353057573029954 [-1.95715906 -1.63313638 -1.09581924] [0.05824054 0.4167763 ]\n",
      "Step 116 - MSE error in lifted space,state x, input u:\n",
      "0.2735322633008854 [-1.96871562 -1.63463101 -1.07254944] [0.08548318 0.46885301]\n",
      "Step 117 - MSE error in lifted space,state x, input u:\n",
      "0.27420058812065196 [-1.97927276 -1.63834721 -1.04711246] [0.11083518 0.49950942]\n",
      "Step 118 - MSE error in lifted space,state x, input u:\n",
      "0.27551501492817476 [-1.98899593 -1.64422278 -1.02190987] [0.13437585 0.5       ]\n",
      "Step 119 - MSE error in lifted space,state x, input u:\n",
      "0.2774468660182698 [-1.99725099 -1.65217648 -0.99700576] [0.15618386 0.5       ]\n",
      "Step 120 - MSE error in lifted space,state x, input u:\n",
      "0.27983539873282 [-2.00361102 -1.6618697  -0.97266436] [0.17624906 0.5       ]\n",
      "Step 121 - MSE error in lifted space,state x, input u:\n",
      "0.2824969974320601 [-2.00745511 -1.67161035 -0.95048609] [0.19453272 0.5       ]\n",
      "Step 122 - MSE error in lifted space,state x, input u:\n",
      "0.2848865464549681 [-2.008694   -1.68060458 -0.93143482] [0.21101003 0.5       ]\n",
      "Step 123 - MSE error in lifted space,state x, input u:\n",
      "0.28679934001140145 [-2.00767631 -1.68895588 -0.91563185] [0.22568088 0.5       ]\n",
      "Step 124 - MSE error in lifted space,state x, input u:\n",
      "0.2883477808968617 [-2.00485692 -1.69687075 -0.90258476] [0.23857237 0.5       ]\n",
      "Step 125 - MSE error in lifted space,state x, input u:\n",
      "0.28968439530415924 [-2.00065754 -1.7045294  -0.89172682] [0.24975615 0.5       ]\n",
      "Step 126 - MSE error in lifted space,state x, input u:\n",
      "0.2909529128205633 [-1.99542375 -1.71205207 -0.88261256] [0.25934142 0.5       ]\n"
     ]
    },
    {
     "name": "stdout",
     "output_type": "stream",
     "text": [
      "Step 127 - MSE error in lifted space,state x, input u:\n",
      "0.2922666337325983 [-1.98943729 -1.71951529 -0.87489269] [0.26746063 0.5       ]\n",
      "Step 128 - MSE error in lifted space,state x, input u:\n",
      "0.2937129591820231 [-1.98292652 -1.72696427 -0.86829398] [0.27425788 0.5       ]\n",
      "Step 129 - MSE error in lifted space,state x, input u:\n",
      "0.29535881157686367 [-1.97607481 -1.7344229  -0.86260346] [0.27988742 0.5       ]\n",
      "Step 130 - MSE error in lifted space,state x, input u:\n",
      "0.29725516735669427 [-1.9690281  -1.74190068 -0.85765546] [0.28449926 0.5       ]\n",
      "Step 131 - MSE error in lifted space,state x, input u:\n",
      "0.2994405911085863 [-1.96190149 -1.74939792 -0.85332139] [0.28823475 0.5       ]\n",
      "Step 132 - MSE error in lifted space,state x, input u:\n",
      "0.30194409659901394 [-1.9547847  -1.75690935 -0.84950164] [0.29122372 0.5       ]\n",
      "Step 133 - MSE error in lifted space,state x, input u:\n",
      "0.3047876026962998 [-1.94774668 -1.7644268  -0.84611906] [0.29358372 0.5       ]\n",
      "Step 134 - MSE error in lifted space,state x, input u:\n",
      "0.3079876595961763 [-1.94083947 -1.77194099 -0.84311395] [0.29541931 0.5       ]\n",
      "Step 135 - MSE error in lifted space,state x, input u:\n",
      "0.31155597383420164 [-1.93407016 -1.77943874 -0.8405687 ] [0.29682199 0.5       ]\n",
      "Step 136 - MSE error in lifted space,state x, input u:\n",
      "0.3155029623773147 [-1.92740854 -1.7869276  -0.83848012] [0.29786519 0.5       ]\n",
      "Step 137 - MSE error in lifted space,state x, input u:\n",
      "0.31983121013750143 [-1.920512   -1.79450816 -0.83678578] [0.29861584 0.5       ]\n",
      "Step 138 - MSE error in lifted space,state x, input u:\n",
      "0.32448750801815923 [-1.9133584  -1.80218403 -0.83546597] [0.29911538 0.5       ]\n",
      "Step 139 - MSE error in lifted space,state x, input u:\n",
      "0.32947181712045465 [-1.90598089 -1.80991318 -0.8345068 ] [0.29939382 0.5       ]\n",
      "Step 140 - MSE error in lifted space,state x, input u:\n",
      "0.33478557490471395 [-1.89842288 -1.81774482 -0.8338473 ] [0.29948105 0.5       ]\n",
      "Step 141 - MSE error in lifted space,state x, input u:\n",
      "0.3404513970055642 [-1.89073886 -1.82574386 -0.83343327] [0.29941803 0.5       ]\n",
      "Step 142 - MSE error in lifted space,state x, input u:\n",
      "0.3464925169326967 [-1.88294085 -1.8339258  -0.83323922] [0.29922158 0.5       ]\n",
      "Step 143 - MSE error in lifted space,state x, input u:\n",
      "0.3529158661255889 [-1.87510264 -1.84219179 -0.83311249] [0.29890047 0.5       ]\n",
      "Step 144 - MSE error in lifted space,state x, input u:\n",
      "0.359699093919734 [-1.86723802 -1.85052688 -0.83303119] [0.29847513 0.5       ]\n",
      "Step 145 - MSE error in lifted space,state x, input u:\n",
      "0.36683832968520114 [-1.85935216 -1.85892752 -0.83299081] [0.29796137 0.5       ]\n",
      "Step 146 - MSE error in lifted space,state x, input u:\n",
      "0.374332206596624 [-1.85145003 -1.86738965 -0.83298751] [0.29735963 0.5       ]\n",
      "Step 147 - MSE error in lifted space,state x, input u:\n",
      "0.38217641241754075 [-1.84353766 -1.8759073  -0.83301756] [0.29665006 0.5       ]\n",
      "Step 148 - MSE error in lifted space,state x, input u:\n",
      "0.3903741915005405 [-1.83567101 -1.88441636 -0.83303805] [0.2958116 0.5      ]\n",
      "Step 149 - MSE error in lifted space,state x, input u:\n",
      "0.39892122159093263 [-1.82787004 -1.89299895 -0.83301913] [0.2948233 0.5      ]\n",
      "Step 150 - MSE error in lifted space,state x, input u:\n",
      "0.40783056483092284 [-1.82013897 -1.90163497 -0.83297089] [0.29366325 0.5       ]\n",
      "Step 151 - MSE error in lifted space,state x, input u:\n",
      "0.4170995025129056 [-1.81248404 -1.91030393 -0.83290092] [0.29231256 0.5       ]\n",
      "Step 152 - MSE error in lifted space,state x, input u:\n",
      "0.42672534345523283 [-1.80491313 -1.91898497 -0.83281476] [0.29075672 0.5       ]\n",
      "Step 153 - MSE error in lifted space,state x, input u:\n",
      "0.4367039791243347 [-1.79743526 -1.9276571  -0.83271636] [0.28898609 0.5       ]\n",
      "Step 154 - MSE error in lifted space,state x, input u:\n",
      "0.4470255196702231 [-1.79006004 -1.93629963 -0.83260852] [0.28699992 0.5       ]\n",
      "Step 155 - MSE error in lifted space,state x, input u:\n",
      "0.4576895979641851 [-1.78279733 -1.94489233 -0.83249315] [0.28480075 0.5       ]\n",
      "Step 156 - MSE error in lifted space,state x, input u:\n",
      "0.4687035969291829 [-1.77565699 -1.95341565 -0.83237151] [0.2823953 0.5      ]\n",
      "Step 157 - MSE error in lifted space,state x, input u:\n",
      "0.4800538192133455 [-1.76864857 -1.96185092 -0.83224439] [0.27979363 0.5       ]\n",
      "Step 158 - MSE error in lifted space,state x, input u:\n",
      "0.4917280263393712 [-1.76176839 -1.97008795 -0.83213439] [0.27700827 0.5       ]\n",
      "Step 159 - MSE error in lifted space,state x, input u:\n",
      "0.5037021221362905 [-1.75502922 -1.97810275 -0.83199195] [0.27405767 0.5       ]\n",
      "Step 160 - MSE error in lifted space,state x, input u:\n",
      "0.515960486901581 [-1.74844184 -1.98588306 -0.8318028 ] [0.27095947 0.5       ]\n",
      "Step 161 - MSE error in lifted space,state x, input u:\n",
      "0.5284952824910927 [-1.74201244 -1.99342089 -0.83156808] [0.26777341 0.5       ]\n",
      "Step 162 - MSE error in lifted space,state x, input u:\n",
      "0.5413015073534657 [-1.7357448  -2.00071138 -0.83128956] [0.26454129 0.5       ]\n",
      "Step 163 - MSE error in lifted space,state x, input u:\n",
      "0.5543748098254334 [-1.72964106 -2.00775188 -0.83096934] [0.26129097 0.5       ]\n",
      "Step 164 - MSE error in lifted space,state x, input u:\n",
      "0.5677101402637178 [-1.72370233 -2.01454124 -0.83060961] [0.25804125 0.5       ]\n",
      "Step 165 - MSE error in lifted space,state x, input u:\n",
      "0.5813027881777345 [-1.71792906 -2.02107933 -0.83021255] [0.25480419 0.5       ]\n",
      "Step 166 - MSE error in lifted space,state x, input u:\n",
      "0.5951480148371732 [-1.71232261 -2.02736512 -0.82977982] [0.25156547 0.5       ]\n",
      "Step 167 - MSE error in lifted space,state x, input u:\n",
      "0.6092373542132428 [-1.70688559 -2.03339627 -0.82931257] [0.24830607 0.5       ]\n",
      "Step 168 - MSE error in lifted space,state x, input u:\n",
      "0.6235641028768362 [-1.7016213  -2.03916964 -0.82881161] [0.24501435 0.5       ]\n",
      "Step 169 - MSE error in lifted space,state x, input u:\n",
      "0.6381284823688081 [-1.69653315 -2.04468204 -0.82827768] [0.24168937 0.5       ]\n",
      "Step 170 - MSE error in lifted space,state x, input u:\n",
      "0.6529154493838116 [-1.69162485 -2.04992995 -0.82771139] [0.23832592 0.5       ]\n",
      "Step 171 - MSE error in lifted space,state x, input u:\n",
      "0.6679252652917171 [-1.68690078 -2.05490907 -0.82711311] [0.23491374 0.5       ]\n",
      "Step 172 - MSE error in lifted space,state x, input u:\n",
      "0.6831512350299793 [-1.68235576 -2.05957366 -0.82645837] [0.23144797 0.5       ]\n",
      "Step 173 - MSE error in lifted space,state x, input u:\n",
      "0.6985649839467521 [-1.67799072 -2.0638992  -0.82573286] [0.22793035 0.5       ]\n",
      "Step 174 - MSE error in lifted space,state x, input u:\n",
      "0.7141452877609074 [-1.67381076 -2.06788685 -0.8249671 ] [0.2243666 0.5      ]\n",
      "Step 175 - MSE error in lifted space,state x, input u:\n",
      "0.7299047057887379 [-1.66982217 -2.07153914 -0.82417249] [0.22076308 0.5       ]\n",
      "Step 176 - MSE error in lifted space,state x, input u:\n",
      "0.7458402893433937 [-1.66603141 -2.07485883 -0.82334604] [0.21712769 0.5       ]\n",
      "Step 177 - MSE error in lifted space,state x, input u:\n",
      "0.761939726509861 [-1.66244414 -2.0778486  -0.82248585] [0.21346678 0.5       ]\n",
      "Step 178 - MSE error in lifted space,state x, input u:\n",
      "0.7781958610551016 [-1.65906555 -2.0805108  -0.82159077] [0.2097819 0.5      ]\n",
      "Step 179 - MSE error in lifted space,state x, input u:\n",
      "0.7945946582644027 [-1.6559007  -2.08284722 -0.82066019] [0.20607029 0.5       ]\n",
      "Step 180 - MSE error in lifted space,state x, input u:\n",
      "0.8111379464674808 [-1.65295468 -2.08485897 -0.81969388] [0.20232676 0.5       ]\n",
      "Step 181 - MSE error in lifted space,state x, input u:\n",
      "0.8278192305927692 [-1.65023166 -2.08654781 -0.81869228] [0.19856321 0.5       ]\n",
      "Step 182 - MSE error in lifted space,state x, input u:\n",
      "0.8446313307790106 [-1.64773363 -2.08791773 -0.81765681] [0.19481215 0.5       ]\n",
      "Step 183 - MSE error in lifted space,state x, input u:\n",
      "0.8615680167417907 [-1.64546089 -2.0889744  -0.81658963] [0.19109845 0.5       ]\n",
      "Step 184 - MSE error in lifted space,state x, input u:\n",
      "0.8786233676076365 [-1.64341252 -2.08972479 -0.81549332] [0.18744029 0.5       ]\n",
      "Step 185 - MSE error in lifted space,state x, input u:\n",
      "0.8957916891181843 [-1.64162563 -2.09014273 -0.81444355] [0.18386983 0.5       ]\n",
      "Step 186 - MSE error in lifted space,state x, input u:\n",
      "0.9130921167125696 [-1.64010166 -2.09024289 -0.81343958] [0.18043019 0.5       ]\n",
      "Step 187 - MSE error in lifted space,state x, input u:\n",
      "0.9305231197339794 [-1.63882902 -2.0900474  -0.81247388] [0.17715238 0.5       ]\n",
      "Step 188 - MSE error in lifted space,state x, input u:\n",
      "0.9480809177512802 [-1.63779275 -2.08958069 -0.81154127] [0.1740809 0.5      ]\n"
     ]
    },
    {
     "data": {
      "image/png": "[encoded data removed]",
      "text/plain": [
       "<Figure size 360x360 with 1 Axes>"
      ]
     },
     "metadata": {
      "needs_background": "light"
     },
     "output_type": "display_data"
    },
    {
     "name": "stdout",
     "output_type": "stream",
     "text": [
      "Average time needed per step is 100.55384468085104 ms.\n",
      "MSE loss: 8.443696550533565\n",
      "Controled path file: Q-[1. 1. 1. 1. 1. 1. 1. 1. 1. 1. 1.]_R-[1. 1.]_rho-0.1_Nc-10\n",
      "Total time needed is 19192.8915 ms.\n"
     ]
    }
   ],
   "source": [
    "# get augmented matrices\n",
    "model_file = 'encoder_[3, 32, 64, 8]_decoder_[11, 128, 64, 32, 3]_hyper_[1.0, 3.0, 0.3, 1e-07, 1e-07, 1e-07, 10]_batch_10'\n",
    "Q = 1*np.diag(np.array([1.,1.,1.,1.,1.,1.,1.,1.,1.,1.,1.]))\n",
    "R = np.diag(np.array([1.,1.]))\n",
    "rho = 0.1\n",
    "Np = 11\n",
    "Nc = 10\n",
    "path_ref = np.load(path+\"/X.npy\")\n",
    "u_init = np.array([0.5*20*np.pi/SimLength,20*np.pi/SimLength])\n",
    "t1 = time.perf_counter()\n",
    "file_name = MPC_control_process(model_file,path_ref,u_init,Q,R,rho,Nc)\n",
    "t2 = time.perf_counter()\n",
    "print(\"Total time needed is \"+str(1000*(t2-t1))+\" ms.\")"
   ]
  },
  {
   "cell_type": "code",
   "execution_count": 5,
   "id": "bad4b41d",
   "metadata": {
    "scrolled": true
   },
   "outputs": [
    {
     "data": {
      "image/png": "[encoded data removed]",
      "text/plain": [
       "<Figure size 1080x360 with 3 Axes>"
      ]
     },
     "metadata": {
      "needs_background": "light"
     },
     "output_type": "display_data"
    }
   ],
   "source": [
    "control_files = [file_name]\n",
    "ref_file = 'SimLenth_200_Ts_0.1'\n",
    "MPC_result_plot(ref_file,control_files,Nc)"
   ]
  },
  {
   "cell_type": "code",
   "execution_count": 7,
   "id": "d68b54c2",
   "metadata": {},
   "outputs": [
    {
     "data": {
      "image/png": "[encoded data removed]",
      "text/plain": [
       "<Figure size 360x360 with 1 Axes>"
      ]
     },
     "metadata": {
      "needs_background": "light"
     },
     "output_type": "display_data"
    }
   ],
   "source": [
    "SimLength = 100\n",
    "X = np.zeros((3,SimLength+1))\n",
    "X[:,0] = np.array([0,0,np.pi/2])\n",
    "u = np.array([0.5*20*np.pi/SimLength,20*np.pi/SimLength])\n",
    "\n",
    "# start simulation as save state\n",
    "for i in range(SimLength):\n",
    "    X[:,i+1] = discrete_nonlinear(X[:,i],u,0.1)\n",
    "plt.figure(figsize=(5,5))\n",
    "plt.plot(X[0,:],X[1,:],'o-')\n",
    "plt.grid(True)\n",
    "plt.show()"
   ]
  },
  {
   "cell_type": "code",
   "execution_count": 58,
   "id": "c67f4ef1",
   "metadata": {},
   "outputs": [
    {
     "data": {
      "text/plain": [
       "array([0., 1., 1., 1., 1.])"
      ]
     },
     "execution_count": 58,
     "metadata": {},
     "output_type": "execute_result"
    }
   ],
   "source": [
    "(np.ones((1,5))-np.tri(1,5,0))[0]"
   ]
  },
  {
   "cell_type": "code",
   "execution_count": 14,
   "id": "d1031620",
   "metadata": {},
   "outputs": [
    {
     "name": "stdout",
     "output_type": "stream",
     "text": [
      "S:(h[2x2],g[2],a[2x2],lba[2],uba[2],lbx[2],ubx[2],x0[2],lam_x0[2],lam_a0[2],q[],p[])->(x[2],cost,lam_a[2],lam_x[2]) OsqpInterface\n"
     ]
    },
    {
     "ename": "RuntimeError",
     "evalue": "D:\\bld\\casadi_1647512553768\\work\\casadi\\core\\function_internal.cpp:1832: 'eval_sx' not defined for OsqpInterface",
     "output_type": "error",
     "traceback": [
      "\u001b[1;31m---------------------------------------------------------------------------\u001b[0m",
      "\u001b[1;31mRuntimeError\u001b[0m                              Traceback (most recent call last)",
      "Input \u001b[1;32mIn [14]\u001b[0m, in \u001b[0;36m<cell line: 11>\u001b[1;34m()\u001b[0m\n\u001b[0;32m      9\u001b[0m S \u001b[38;5;241m=\u001b[39m conic(\u001b[38;5;124m'\u001b[39m\u001b[38;5;124mS\u001b[39m\u001b[38;5;124m'\u001b[39m,\u001b[38;5;124m'\u001b[39m\u001b[38;5;124mosqp\u001b[39m\u001b[38;5;124m'\u001b[39m,qp)\n\u001b[0;32m     10\u001b[0m \u001b[38;5;28mprint\u001b[39m(S)\n\u001b[1;32m---> 11\u001b[0m r \u001b[38;5;241m=\u001b[39m \u001b[43mS\u001b[49m\u001b[43m(\u001b[49m\u001b[43mh\u001b[49m\u001b[38;5;241;43m=\u001b[39;49m\u001b[43mH\u001b[49m\u001b[43m,\u001b[49m\u001b[43m \u001b[49m\u001b[43mg\u001b[49m\u001b[38;5;241;43m=\u001b[39;49m\u001b[43mg\u001b[49m\u001b[43m,\u001b[49m\u001b[43ma\u001b[49m\u001b[38;5;241;43m=\u001b[39;49m\u001b[43mA\u001b[49m\u001b[43m,\u001b[49m\u001b[43m \u001b[49m\u001b[43mlba\u001b[49m\u001b[38;5;241;43m=\u001b[39;49m\u001b[43mlba\u001b[49m\u001b[43m)\u001b[49m\n\u001b[0;32m     12\u001b[0m x_opt \u001b[38;5;241m=\u001b[39m r[\u001b[38;5;124m'\u001b[39m\u001b[38;5;124mx\u001b[39m\u001b[38;5;124m'\u001b[39m]\n\u001b[0;32m     13\u001b[0m \u001b[38;5;28mprint\u001b[39m(\u001b[38;5;124m'\u001b[39m\u001b[38;5;124mx_opt: \u001b[39m\u001b[38;5;124m'\u001b[39m, x_opt)\n",
      "File \u001b[1;32m~\\anaconda3\\envs\\MPC\\lib\\site-packages\\casadi\\casadi.py:8506\u001b[0m, in \u001b[0;36mFunction.__call__\u001b[1;34m(self, *args, **kwargs)\u001b[0m\n\u001b[0;32m   8503\u001b[0m       \u001b[38;5;28;01mreturn\u001b[39;00m \u001b[38;5;28mtuple\u001b[39m(ret)\n\u001b[0;32m   8504\u001b[0m   \u001b[38;5;28;01melse\u001b[39;00m:\n\u001b[0;32m   8505\u001b[0m \u001b[38;5;66;03m# Named inputs -> return dictionary\u001b[39;00m\n\u001b[1;32m-> 8506\u001b[0m     \u001b[38;5;28;01mreturn\u001b[39;00m \u001b[38;5;28;43mself\u001b[39;49m\u001b[38;5;241;43m.\u001b[39;49m\u001b[43mcall\u001b[49m\u001b[43m(\u001b[49m\u001b[43mkwargs\u001b[49m\u001b[43m)\u001b[49m\n",
      "File \u001b[1;32m~\\anaconda3\\envs\\MPC\\lib\\site-packages\\casadi\\casadi.py:7679\u001b[0m, in \u001b[0;36mFunction.call\u001b[1;34m(self, *args)\u001b[0m\n\u001b[0;32m   7656\u001b[0m \u001b[38;5;28;01mdef\u001b[39;00m \u001b[38;5;21mcall\u001b[39m(\u001b[38;5;28mself\u001b[39m, \u001b[38;5;241m*\u001b[39margs) \u001b[38;5;241m-\u001b[39m\u001b[38;5;241m>\u001b[39m \u001b[38;5;124m\"\u001b[39m\u001b[38;5;124mvoid\u001b[39m\u001b[38;5;124m\"\u001b[39m:\n\u001b[0;32m   7657\u001b[0m     \u001b[38;5;124mr\u001b[39m\u001b[38;5;124;03m\"\"\"\u001b[39;00m\n\u001b[0;32m   7658\u001b[0m \u001b[38;5;124;03m    call(Function self, std::vector< casadi::DM,std::allocator< casadi::DM > > const & arg, bool always_inline=False, bool never_inline=False)\u001b[39;00m\n\u001b[0;32m   7659\u001b[0m \u001b[38;5;124;03m    call(Function self, std::vector< casadi::SX,std::allocator< casadi::SX > > const & arg, bool always_inline=False, bool never_inline=False)\u001b[39;00m\n\u001b[1;32m   (...)\u001b[0m\n\u001b[0;32m   7677\u001b[0m \n\u001b[0;32m   7678\u001b[0m \u001b[38;5;124;03m    \"\"\"\u001b[39;00m\n\u001b[1;32m-> 7679\u001b[0m     \u001b[38;5;28;01mreturn\u001b[39;00m \u001b[43m_casadi\u001b[49m\u001b[38;5;241;43m.\u001b[39;49m\u001b[43mFunction_call\u001b[49m\u001b[43m(\u001b[49m\u001b[38;5;28;43mself\u001b[39;49m\u001b[43m,\u001b[49m\u001b[43m \u001b[49m\u001b[38;5;241;43m*\u001b[39;49m\u001b[43margs\u001b[49m\u001b[43m)\u001b[49m\n",
      "\u001b[1;31mRuntimeError\u001b[0m: D:\\bld\\casadi_1647512553768\\work\\casadi\\core\\function_internal.cpp:1832: 'eval_sx' not defined for OsqpInterface"
     ]
    }
   ],
   "source": [
    "H = SX(2*np.eye(2))\n",
    "A = SX(np.ones((2,2)))\n",
    "g = SX(np.zeros(2))\n",
    "lba = SX(np.zeros(2))\n",
    "uba = SX(np.zeros(2))\n",
    "qp = {}\n",
    "qp['h'] = H.sparsity()\n",
    "qp['a'] = A.sparsity()\n",
    "S = conic('S','osqp',qp)\n",
    "print(S)\n",
    "r = S(h=H, g=g,a=A, lba=lba)\n",
    "x_opt = r['x']\n",
    "print('x_opt: ', x_opt)"
   ]
  },
  {
   "cell_type": "code",
   "execution_count": null,
   "id": "f21d25ef",
   "metadata": {},
   "outputs": [],
   "source": []
  }
 ],
 "metadata": {
  "kernelspec": {
   "display_name": "Python 3 (ipykernel)",
   "language": "python",
   "name": "python3"
  },
  "language_info": {
   "codemirror_mode": {
    "name": "ipython",
    "version": 3
   },
   "file_extension": ".py",
   "mimetype": "text/x-python",
   "name": "python",
   "nbconvert_exporter": "python",
   "pygments_lexer": "ipython3",
   "version": "3.8.12"
  }
 },
 "nbformat": 4,
 "nbformat_minor": 5
}
